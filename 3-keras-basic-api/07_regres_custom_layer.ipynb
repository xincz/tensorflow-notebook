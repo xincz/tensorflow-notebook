{
 "cells": [
  {
   "cell_type": "code",
   "execution_count": 11,
   "metadata": {
    "ExecuteTime": {
     "end_time": "2020-11-30T05:48:22.769257Z",
     "start_time": "2020-11-30T05:48:20.059517Z"
    }
   },
   "outputs": [
    {
     "name": "stdout",
     "output_type": "stream",
     "text": [
      "2.3.1\n",
      "sys.version_info(major=3, minor=6, micro=7, releaselevel='final', serial=0)\n",
      "matplotlib 3.3.2\n",
      "numpy 1.18.4\n",
      "pandas 1.1.4\n",
      "sklearn 0.23.2\n",
      "tensorflow 2.3.1\n",
      "tensorflow.keras 2.4.0\n"
     ]
    }
   ],
   "source": [
    "import matplotlib as mpl\n",
    "import matplotlib.pyplot as plt\n",
    "%matplotlib inline\n",
    "import numpy as np\n",
    "import pandas as pd\n",
    "import sklearn\n",
    "import os\n",
    "import sys\n",
    "import time\n",
    "import tensorflow as tf\n",
    "from tensorflow import keras\n",
    "\n",
    "print(tf.__version__)\n",
    "print(sys.version_info)\n",
    "for module in mpl, np, pd, sklearn, tf, keras:\n",
    "    print(module.__name__, module.__version__)"
   ]
  },
  {
   "cell_type": "code",
   "execution_count": 12,
   "metadata": {},
   "outputs": [
    {
     "data": {
      "text/plain": [
       "<tf.Tensor: shape=(10, 100), dtype=float32, numpy=\n",
       "array([[0., 0., 0., 0., 0., 0., 0., 0., 0., 0., 0., 0., 0., 0., 0., 0.,\n",
       "        0., 0., 0., 0., 0., 0., 0., 0., 0., 0., 0., 0., 0., 0., 0., 0.,\n",
       "        0., 0., 0., 0., 0., 0., 0., 0., 0., 0., 0., 0., 0., 0., 0., 0.,\n",
       "        0., 0., 0., 0., 0., 0., 0., 0., 0., 0., 0., 0., 0., 0., 0., 0.,\n",
       "        0., 0., 0., 0., 0., 0., 0., 0., 0., 0., 0., 0., 0., 0., 0., 0.,\n",
       "        0., 0., 0., 0., 0., 0., 0., 0., 0., 0., 0., 0., 0., 0., 0., 0.,\n",
       "        0., 0., 0., 0.],\n",
       "       [0., 0., 0., 0., 0., 0., 0., 0., 0., 0., 0., 0., 0., 0., 0., 0.,\n",
       "        0., 0., 0., 0., 0., 0., 0., 0., 0., 0., 0., 0., 0., 0., 0., 0.,\n",
       "        0., 0., 0., 0., 0., 0., 0., 0., 0., 0., 0., 0., 0., 0., 0., 0.,\n",
       "        0., 0., 0., 0., 0., 0., 0., 0., 0., 0., 0., 0., 0., 0., 0., 0.,\n",
       "        0., 0., 0., 0., 0., 0., 0., 0., 0., 0., 0., 0., 0., 0., 0., 0.,\n",
       "        0., 0., 0., 0., 0., 0., 0., 0., 0., 0., 0., 0., 0., 0., 0., 0.,\n",
       "        0., 0., 0., 0.],\n",
       "       [0., 0., 0., 0., 0., 0., 0., 0., 0., 0., 0., 0., 0., 0., 0., 0.,\n",
       "        0., 0., 0., 0., 0., 0., 0., 0., 0., 0., 0., 0., 0., 0., 0., 0.,\n",
       "        0., 0., 0., 0., 0., 0., 0., 0., 0., 0., 0., 0., 0., 0., 0., 0.,\n",
       "        0., 0., 0., 0., 0., 0., 0., 0., 0., 0., 0., 0., 0., 0., 0., 0.,\n",
       "        0., 0., 0., 0., 0., 0., 0., 0., 0., 0., 0., 0., 0., 0., 0., 0.,\n",
       "        0., 0., 0., 0., 0., 0., 0., 0., 0., 0., 0., 0., 0., 0., 0., 0.,\n",
       "        0., 0., 0., 0.],\n",
       "       [0., 0., 0., 0., 0., 0., 0., 0., 0., 0., 0., 0., 0., 0., 0., 0.,\n",
       "        0., 0., 0., 0., 0., 0., 0., 0., 0., 0., 0., 0., 0., 0., 0., 0.,\n",
       "        0., 0., 0., 0., 0., 0., 0., 0., 0., 0., 0., 0., 0., 0., 0., 0.,\n",
       "        0., 0., 0., 0., 0., 0., 0., 0., 0., 0., 0., 0., 0., 0., 0., 0.,\n",
       "        0., 0., 0., 0., 0., 0., 0., 0., 0., 0., 0., 0., 0., 0., 0., 0.,\n",
       "        0., 0., 0., 0., 0., 0., 0., 0., 0., 0., 0., 0., 0., 0., 0., 0.,\n",
       "        0., 0., 0., 0.],\n",
       "       [0., 0., 0., 0., 0., 0., 0., 0., 0., 0., 0., 0., 0., 0., 0., 0.,\n",
       "        0., 0., 0., 0., 0., 0., 0., 0., 0., 0., 0., 0., 0., 0., 0., 0.,\n",
       "        0., 0., 0., 0., 0., 0., 0., 0., 0., 0., 0., 0., 0., 0., 0., 0.,\n",
       "        0., 0., 0., 0., 0., 0., 0., 0., 0., 0., 0., 0., 0., 0., 0., 0.,\n",
       "        0., 0., 0., 0., 0., 0., 0., 0., 0., 0., 0., 0., 0., 0., 0., 0.,\n",
       "        0., 0., 0., 0., 0., 0., 0., 0., 0., 0., 0., 0., 0., 0., 0., 0.,\n",
       "        0., 0., 0., 0.],\n",
       "       [0., 0., 0., 0., 0., 0., 0., 0., 0., 0., 0., 0., 0., 0., 0., 0.,\n",
       "        0., 0., 0., 0., 0., 0., 0., 0., 0., 0., 0., 0., 0., 0., 0., 0.,\n",
       "        0., 0., 0., 0., 0., 0., 0., 0., 0., 0., 0., 0., 0., 0., 0., 0.,\n",
       "        0., 0., 0., 0., 0., 0., 0., 0., 0., 0., 0., 0., 0., 0., 0., 0.,\n",
       "        0., 0., 0., 0., 0., 0., 0., 0., 0., 0., 0., 0., 0., 0., 0., 0.,\n",
       "        0., 0., 0., 0., 0., 0., 0., 0., 0., 0., 0., 0., 0., 0., 0., 0.,\n",
       "        0., 0., 0., 0.],\n",
       "       [0., 0., 0., 0., 0., 0., 0., 0., 0., 0., 0., 0., 0., 0., 0., 0.,\n",
       "        0., 0., 0., 0., 0., 0., 0., 0., 0., 0., 0., 0., 0., 0., 0., 0.,\n",
       "        0., 0., 0., 0., 0., 0., 0., 0., 0., 0., 0., 0., 0., 0., 0., 0.,\n",
       "        0., 0., 0., 0., 0., 0., 0., 0., 0., 0., 0., 0., 0., 0., 0., 0.,\n",
       "        0., 0., 0., 0., 0., 0., 0., 0., 0., 0., 0., 0., 0., 0., 0., 0.,\n",
       "        0., 0., 0., 0., 0., 0., 0., 0., 0., 0., 0., 0., 0., 0., 0., 0.,\n",
       "        0., 0., 0., 0.],\n",
       "       [0., 0., 0., 0., 0., 0., 0., 0., 0., 0., 0., 0., 0., 0., 0., 0.,\n",
       "        0., 0., 0., 0., 0., 0., 0., 0., 0., 0., 0., 0., 0., 0., 0., 0.,\n",
       "        0., 0., 0., 0., 0., 0., 0., 0., 0., 0., 0., 0., 0., 0., 0., 0.,\n",
       "        0., 0., 0., 0., 0., 0., 0., 0., 0., 0., 0., 0., 0., 0., 0., 0.,\n",
       "        0., 0., 0., 0., 0., 0., 0., 0., 0., 0., 0., 0., 0., 0., 0., 0.,\n",
       "        0., 0., 0., 0., 0., 0., 0., 0., 0., 0., 0., 0., 0., 0., 0., 0.,\n",
       "        0., 0., 0., 0.],\n",
       "       [0., 0., 0., 0., 0., 0., 0., 0., 0., 0., 0., 0., 0., 0., 0., 0.,\n",
       "        0., 0., 0., 0., 0., 0., 0., 0., 0., 0., 0., 0., 0., 0., 0., 0.,\n",
       "        0., 0., 0., 0., 0., 0., 0., 0., 0., 0., 0., 0., 0., 0., 0., 0.,\n",
       "        0., 0., 0., 0., 0., 0., 0., 0., 0., 0., 0., 0., 0., 0., 0., 0.,\n",
       "        0., 0., 0., 0., 0., 0., 0., 0., 0., 0., 0., 0., 0., 0., 0., 0.,\n",
       "        0., 0., 0., 0., 0., 0., 0., 0., 0., 0., 0., 0., 0., 0., 0., 0.,\n",
       "        0., 0., 0., 0.],\n",
       "       [0., 0., 0., 0., 0., 0., 0., 0., 0., 0., 0., 0., 0., 0., 0., 0.,\n",
       "        0., 0., 0., 0., 0., 0., 0., 0., 0., 0., 0., 0., 0., 0., 0., 0.,\n",
       "        0., 0., 0., 0., 0., 0., 0., 0., 0., 0., 0., 0., 0., 0., 0., 0.,\n",
       "        0., 0., 0., 0., 0., 0., 0., 0., 0., 0., 0., 0., 0., 0., 0., 0.,\n",
       "        0., 0., 0., 0., 0., 0., 0., 0., 0., 0., 0., 0., 0., 0., 0., 0.,\n",
       "        0., 0., 0., 0., 0., 0., 0., 0., 0., 0., 0., 0., 0., 0., 0., 0.,\n",
       "        0., 0., 0., 0.]], dtype=float32)>"
      ]
     },
     "execution_count": 12,
     "metadata": {},
     "output_type": "execute_result"
    }
   ],
   "source": [
    "layer = tf.keras.layers.Dense(100, input_shape=(None, 5))\n",
    "layer(tf.zeros([10, 5]))"
   ]
  },
  {
   "cell_type": "code",
   "execution_count": 13,
   "metadata": {},
   "outputs": [],
   "source": [
    "# layer.variables  #=> kernel + bias\n",
    "# layer.trainable_variables\n",
    "# help(layer)"
   ]
  },
  {
   "cell_type": "code",
   "execution_count": 14,
   "metadata": {
    "ExecuteTime": {
     "end_time": "2020-11-30T05:51:46.358248Z",
     "start_time": "2020-11-30T05:50:06.607860Z"
    }
   },
   "outputs": [],
   "source": [
    "from sklearn.datasets import fetch_california_housing\n",
    "housing = fetch_california_housing()"
   ]
  },
  {
   "cell_type": "code",
   "execution_count": 15,
   "metadata": {
    "ExecuteTime": {
     "end_time": "2020-11-30T05:59:06.686826Z",
     "start_time": "2020-11-30T05:59:06.666300Z"
    }
   },
   "outputs": [],
   "source": [
    "from sklearn.model_selection import train_test_split\n",
    "\n",
    "xtrain_all, xtest, ytrain_all, ytest = train_test_split(\n",
    "    housing.data, housing.target, random_state=7)\n",
    "xtrain, xvalid, ytrain, yvalid = train_test_split(\n",
    "    xtrain_all ,ytrain_all, random_state=11)"
   ]
  },
  {
   "cell_type": "code",
   "execution_count": 16,
   "metadata": {
    "ExecuteTime": {
     "end_time": "2020-11-30T06:29:31.699188Z",
     "start_time": "2020-11-30T06:29:31.684187Z"
    }
   },
   "outputs": [],
   "source": [
    "from sklearn.preprocessing import StandardScaler\n",
    "scaler = StandardScaler()\n",
    "xtrain_scaled = scaler.fit_transform(xtrain)\n",
    "xvalid_scaled= scaler.transform(xvalid)\n",
    "xtest_scaled = scaler.transform(xtest)"
   ]
  },
  {
   "cell_type": "code",
   "execution_count": 24,
   "metadata": {},
   "outputs": [
    {
     "name": "stdout",
     "output_type": "stream",
     "text": [
      "tf.Tensor([4.5398898e-05 6.7153485e-03 6.9314718e-01 5.0067153e+00 1.0000046e+01], shape=(5,), dtype=float32)\n"
     ]
    }
   ],
   "source": [
    "# tf.nn.softplus: log(1+e^x)  平滑版的 relu\n",
    "customized_softplus = keras.layers.Lambda(lambda x: tf.nn.softplus(x))\n",
    "print(customized_softplus([-10., -5., 0., 5., 10.]))"
   ]
  },
  {
   "cell_type": "code",
   "execution_count": 25,
   "metadata": {
    "ExecuteTime": {
     "end_time": "2020-11-30T06:29:33.139973Z",
     "start_time": "2020-11-30T06:29:33.069970Z"
    }
   },
   "outputs": [
    {
     "name": "stdout",
     "output_type": "stream",
     "text": [
      "Model: \"sequential_2\"\n",
      "_________________________________________________________________\n",
      "Layer (type)                 Output Shape              Param #   \n",
      "=================================================================\n",
      "customized_dense_layer_4 (Cu (None, 30)                270       \n",
      "_________________________________________________________________\n",
      "customized_dense_layer_5 (Cu (None, 1)                 31        \n",
      "_________________________________________________________________\n",
      "lambda (Lambda)              (None, 1)                 0         \n",
      "=================================================================\n",
      "Total params: 301\n",
      "Trainable params: 301\n",
      "Non-trainable params: 0\n",
      "_________________________________________________________________\n"
     ]
    }
   ],
   "source": [
    "def customized_mse(y_true, y_pred):\n",
    "    return tf.reduce_mean(tf.square(y_pred - y_true))\n",
    "\n",
    "class CustomizedDenseLayer(keras.layers.Layer):\n",
    "    def __init__(self, units, activation=None, **kwargs):\n",
    "        self.units = units  # number of nodes\n",
    "        self.activation = keras.layers.Activation(activation)\n",
    "        super(CustomizedDenseLayer, self).__init__(**kwargs)\n",
    "    \n",
    "    def build(self, input_shape):\n",
    "        \"\"\"Construct parameters\"\"\"\n",
    "        self.kernel = self.add_weight(\n",
    "            name=\"kernel\", \n",
    "            shape=(input_shape[1], self.units),\n",
    "            initializer=\"uniform\",\n",
    "            trainable=True)  # 在训练过程中可变\n",
    "        self.bias = self.add_weight(\n",
    "            name=\"bias\",\n",
    "            shape=(self.units,),\n",
    "            initializer=\"zeros\",\n",
    "            trainable=True)  # 在训练过程中可变\n",
    "        super(CustomizedDenseLayer, self).build(input_shape)\n",
    "    \n",
    "    def call(self, x):\n",
    "        \"\"\"正向计算，从输入到输出\"\"\"\n",
    "        return self.activation(x@self.kernel + self.bias)\n",
    "\n",
    "model = keras.models.Sequential([\n",
    "    CustomizedDenseLayer(30, activation='relu', input_shape=xtrain.shape[1:]),\n",
    "    CustomizedDenseLayer(1),\n",
    "    customized_softplus\n",
    "    # keras.layers.Dense(1, activation=\"softplus\")\n",
    "    # keras.layers.Dense(1), keras.layers.Activation(\"softplus\")\n",
    "])\n",
    "model.summary()\n",
    "model.compile(loss=customized_mse, optimizer='sgd',\n",
    "              metrics=[\"mean_squared_error\"])\n",
    "callbacks = [keras.callbacks.EarlyStopping(patience=5, min_delta=1e-5)]"
   ]
  },
  {
   "cell_type": "code",
   "execution_count": 21,
   "metadata": {
    "ExecuteTime": {
     "end_time": "2020-11-30T06:29:38.487443Z",
     "start_time": "2020-11-30T06:29:33.869984Z"
    }
   },
   "outputs": [
    {
     "name": "stdout",
     "output_type": "stream",
     "text": [
      "Epoch 1/100\n",
      "363/363 [==============================] - 1s 2ms/step - loss: 1.0776 - mean_squared_error: 1.0776 - val_loss: 0.6375 - val_mean_squared_error: 0.6375\n",
      "Epoch 2/100\n",
      "363/363 [==============================] - 0s 990us/step - loss: 0.5500 - mean_squared_error: 0.5500 - val_loss: 0.5484 - val_mean_squared_error: 0.5484\n",
      "Epoch 3/100\n",
      "363/363 [==============================] - 0s 1ms/step - loss: 0.4876 - mean_squared_error: 0.4876 - val_loss: 0.4916 - val_mean_squared_error: 0.4916\n",
      "Epoch 4/100\n",
      "363/363 [==============================] - 0s 1ms/step - loss: 0.4601 - mean_squared_error: 0.4601 - val_loss: 0.4711 - val_mean_squared_error: 0.4711\n",
      "Epoch 5/100\n",
      "363/363 [==============================] - 0s 1ms/step - loss: 0.4535 - mean_squared_error: 0.4535 - val_loss: 0.4765 - val_mean_squared_error: 0.4765\n",
      "Epoch 6/100\n",
      "363/363 [==============================] - 1s 2ms/step - loss: 0.4377 - mean_squared_error: 0.4377 - val_loss: 0.4506 - val_mean_squared_error: 0.4506\n",
      "Epoch 7/100\n",
      "363/363 [==============================] - 0s 875us/step - loss: 0.4260 - mean_squared_error: 0.4260 - val_loss: 0.4431 - val_mean_squared_error: 0.4431\n",
      "Epoch 8/100\n",
      "363/363 [==============================] - 0s 1ms/step - loss: 0.4280 - mean_squared_error: 0.4280 - val_loss: 0.4452 - val_mean_squared_error: 0.4452\n",
      "Epoch 9/100\n",
      "363/363 [==============================] - 0s 934us/step - loss: 0.4217 - mean_squared_error: 0.4217 - val_loss: 0.4400 - val_mean_squared_error: 0.4400\n",
      "Epoch 10/100\n",
      "363/363 [==============================] - 0s 989us/step - loss: 0.4100 - mean_squared_error: 0.4100 - val_loss: 0.4234 - val_mean_squared_error: 0.4234\n",
      "Epoch 11/100\n",
      "363/363 [==============================] - 0s 791us/step - loss: 0.4034 - mean_squared_error: 0.4034 - val_loss: 0.4348 - val_mean_squared_error: 0.4348\n",
      "Epoch 12/100\n",
      "363/363 [==============================] - 0s 845us/step - loss: 0.4069 - mean_squared_error: 0.4069 - val_loss: 0.4170 - val_mean_squared_error: 0.4170\n",
      "Epoch 13/100\n",
      "363/363 [==============================] - 0s 1ms/step - loss: 0.3993 - mean_squared_error: 0.3993 - val_loss: 0.4120 - val_mean_squared_error: 0.4120\n",
      "Epoch 14/100\n",
      "363/363 [==============================] - 0s 837us/step - loss: 0.3927 - mean_squared_error: 0.3927 - val_loss: 0.4035 - val_mean_squared_error: 0.4035\n",
      "Epoch 15/100\n",
      "363/363 [==============================] - 0s 931us/step - loss: 0.3903 - mean_squared_error: 0.3903 - val_loss: 0.4017 - val_mean_squared_error: 0.4017\n",
      "Epoch 16/100\n",
      "363/363 [==============================] - 0s 1ms/step - loss: 0.3875 - mean_squared_error: 0.3875 - val_loss: 0.3975 - val_mean_squared_error: 0.3975\n",
      "Epoch 17/100\n",
      "363/363 [==============================] - 0s 901us/step - loss: 0.3853 - mean_squared_error: 0.3853 - val_loss: 0.3970 - val_mean_squared_error: 0.3970\n",
      "Epoch 18/100\n",
      "363/363 [==============================] - 0s 1ms/step - loss: 0.3821 - mean_squared_error: 0.3821 - val_loss: 0.3949 - val_mean_squared_error: 0.3949\n",
      "Epoch 19/100\n",
      "363/363 [==============================] - 0s 838us/step - loss: 0.3812 - mean_squared_error: 0.3812 - val_loss: 0.4020 - val_mean_squared_error: 0.4020\n",
      "Epoch 20/100\n",
      "363/363 [==============================] - 0s 1ms/step - loss: 0.3812 - mean_squared_error: 0.3812 - val_loss: 0.3901 - val_mean_squared_error: 0.3901\n",
      "Epoch 21/100\n",
      "363/363 [==============================] - 0s 1ms/step - loss: 0.3770 - mean_squared_error: 0.3770 - val_loss: 0.3897 - val_mean_squared_error: 0.3897\n",
      "Epoch 22/100\n",
      "363/363 [==============================] - 0s 963us/step - loss: 0.3758 - mean_squared_error: 0.3758 - val_loss: 0.3906 - val_mean_squared_error: 0.3906\n",
      "Epoch 23/100\n",
      "363/363 [==============================] - 0s 845us/step - loss: 0.3741 - mean_squared_error: 0.3741 - val_loss: 0.3848 - val_mean_squared_error: 0.3848\n",
      "Epoch 24/100\n",
      "363/363 [==============================] - 0s 876us/step - loss: 0.3726 - mean_squared_error: 0.3726 - val_loss: 0.3899 - val_mean_squared_error: 0.3899\n",
      "Epoch 25/100\n",
      "363/363 [==============================] - 0s 980us/step - loss: 0.3711 - mean_squared_error: 0.3711 - val_loss: 0.3850 - val_mean_squared_error: 0.3850\n",
      "Epoch 26/100\n",
      "363/363 [==============================] - 0s 1ms/step - loss: 0.3708 - mean_squared_error: 0.3708 - val_loss: 0.3805 - val_mean_squared_error: 0.3805\n",
      "Epoch 27/100\n",
      "363/363 [==============================] - 0s 938us/step - loss: 0.3720 - mean_squared_error: 0.3720 - val_loss: 0.3812 - val_mean_squared_error: 0.3812\n",
      "Epoch 28/100\n",
      "363/363 [==============================] - 0s 861us/step - loss: 0.3684 - mean_squared_error: 0.3684 - val_loss: 0.3905 - val_mean_squared_error: 0.3905\n",
      "Epoch 29/100\n",
      "363/363 [==============================] - 0s 796us/step - loss: 0.3686 - mean_squared_error: 0.3686 - val_loss: 0.3783 - val_mean_squared_error: 0.3783\n",
      "Epoch 30/100\n",
      "363/363 [==============================] - 0s 789us/step - loss: 0.3685 - mean_squared_error: 0.3685 - val_loss: 0.3767 - val_mean_squared_error: 0.3767\n",
      "Epoch 31/100\n",
      "363/363 [==============================] - 0s 1ms/step - loss: 0.3717 - mean_squared_error: 0.3717 - val_loss: 0.3759 - val_mean_squared_error: 0.3759\n",
      "Epoch 32/100\n",
      "363/363 [==============================] - 0s 1ms/step - loss: 0.3651 - mean_squared_error: 0.3651 - val_loss: 0.3745 - val_mean_squared_error: 0.3745\n",
      "Epoch 33/100\n",
      "363/363 [==============================] - 0s 1ms/step - loss: 0.3636 - mean_squared_error: 0.3636 - val_loss: 0.3720 - val_mean_squared_error: 0.3720\n",
      "Epoch 34/100\n",
      "363/363 [==============================] - 0s 1ms/step - loss: 0.3627 - mean_squared_error: 0.3627 - val_loss: 0.3747 - val_mean_squared_error: 0.3747\n",
      "Epoch 35/100\n",
      "363/363 [==============================] - 0s 1ms/step - loss: 0.3615 - mean_squared_error: 0.3615 - val_loss: 0.3719 - val_mean_squared_error: 0.3719\n",
      "Epoch 36/100\n",
      "363/363 [==============================] - 0s 965us/step - loss: 0.3631 - mean_squared_error: 0.3631 - val_loss: 0.3693 - val_mean_squared_error: 0.3693\n",
      "Epoch 37/100\n",
      "363/363 [==============================] - 0s 1ms/step - loss: 0.3597 - mean_squared_error: 0.3597 - val_loss: 0.3695 - val_mean_squared_error: 0.3695\n",
      "Epoch 38/100\n",
      "363/363 [==============================] - 0s 1ms/step - loss: 0.3634 - mean_squared_error: 0.3634 - val_loss: 0.3699 - val_mean_squared_error: 0.3699\n",
      "Epoch 39/100\n",
      "363/363 [==============================] - 0s 1ms/step - loss: 0.3592 - mean_squared_error: 0.3592 - val_loss: 0.3743 - val_mean_squared_error: 0.3743\n",
      "Epoch 40/100\n",
      "363/363 [==============================] - 0s 1ms/step - loss: 0.3568 - mean_squared_error: 0.3568 - val_loss: 0.3696 - val_mean_squared_error: 0.3696\n",
      "Epoch 41/100\n",
      "363/363 [==============================] - 0s 1ms/step - loss: 0.3570 - mean_squared_error: 0.3570 - val_loss: 0.3660 - val_mean_squared_error: 0.3660\n",
      "Epoch 42/100\n",
      "363/363 [==============================] - 0s 1ms/step - loss: 0.3553 - mean_squared_error: 0.3553 - val_loss: 0.3665 - val_mean_squared_error: 0.3665\n",
      "Epoch 43/100\n",
      "363/363 [==============================] - 0s 1ms/step - loss: 0.3545 - mean_squared_error: 0.3545 - val_loss: 0.3709 - val_mean_squared_error: 0.3709\n",
      "Epoch 44/100\n",
      "363/363 [==============================] - 0s 1ms/step - loss: 0.3550 - mean_squared_error: 0.3550 - val_loss: 0.4668 - val_mean_squared_error: 0.4668\n",
      "Epoch 45/100\n",
      "363/363 [==============================] - 0s 1ms/step - loss: 0.3570 - mean_squared_error: 0.3570 - val_loss: 0.3651 - val_mean_squared_error: 0.3651\n",
      "Epoch 46/100\n",
      "363/363 [==============================] - 0s 1ms/step - loss: 0.3533 - mean_squared_error: 0.3533 - val_loss: 0.3651 - val_mean_squared_error: 0.3651\n",
      "Epoch 47/100\n",
      "363/363 [==============================] - 0s 1ms/step - loss: 0.3528 - mean_squared_error: 0.3528 - val_loss: 0.3669 - val_mean_squared_error: 0.3669\n",
      "Epoch 48/100\n",
      "363/363 [==============================] - 0s 1ms/step - loss: 0.3558 - mean_squared_error: 0.3558 - val_loss: 0.3629 - val_mean_squared_error: 0.3629\n",
      "Epoch 49/100\n",
      "363/363 [==============================] - 0s 1ms/step - loss: 0.3509 - mean_squared_error: 0.3509 - val_loss: 0.3662 - val_mean_squared_error: 0.3662\n",
      "Epoch 50/100\n",
      "363/363 [==============================] - 0s 1ms/step - loss: 0.3501 - mean_squared_error: 0.3501 - val_loss: 0.3630 - val_mean_squared_error: 0.3630\n",
      "Epoch 51/100\n",
      "363/363 [==============================] - 0s 1ms/step - loss: 0.3519 - mean_squared_error: 0.3519 - val_loss: 0.3622 - val_mean_squared_error: 0.3622\n",
      "Epoch 52/100\n",
      "363/363 [==============================] - 0s 1ms/step - loss: 0.3502 - mean_squared_error: 0.3502 - val_loss: 0.3600 - val_mean_squared_error: 0.3600\n",
      "Epoch 53/100\n",
      "363/363 [==============================] - 0s 1ms/step - loss: 0.3493 - mean_squared_error: 0.3493 - val_loss: 0.3636 - val_mean_squared_error: 0.3636\n",
      "Epoch 54/100\n",
      "363/363 [==============================] - 0s 1ms/step - loss: 0.3481 - mean_squared_error: 0.3481 - val_loss: 0.3597 - val_mean_squared_error: 0.3597\n",
      "Epoch 55/100\n",
      "363/363 [==============================] - 0s 1ms/step - loss: 0.3513 - mean_squared_error: 0.3513 - val_loss: 0.3576 - val_mean_squared_error: 0.3576\n",
      "Epoch 56/100\n",
      "363/363 [==============================] - 1s 2ms/step - loss: 0.3547 - mean_squared_error: 0.3547 - val_loss: 0.3624 - val_mean_squared_error: 0.3624\n",
      "Epoch 57/100\n",
      "363/363 [==============================] - 1s 1ms/step - loss: 0.3474 - mean_squared_error: 0.3474 - val_loss: 0.3555 - val_mean_squared_error: 0.3555\n",
      "Epoch 58/100\n",
      "363/363 [==============================] - 0s 945us/step - loss: 0.3489 - mean_squared_error: 0.3489 - val_loss: 0.3889 - val_mean_squared_error: 0.3889\n",
      "Epoch 59/100\n",
      "363/363 [==============================] - 0s 1ms/step - loss: 0.3461 - mean_squared_error: 0.3461 - val_loss: 0.3545 - val_mean_squared_error: 0.3545\n",
      "Epoch 60/100\n",
      "363/363 [==============================] - 0s 1ms/step - loss: 0.3455 - mean_squared_error: 0.3455 - val_loss: 0.3519 - val_mean_squared_error: 0.3519\n",
      "Epoch 61/100\n",
      "363/363 [==============================] - 0s 1ms/step - loss: 0.3442 - mean_squared_error: 0.3442 - val_loss: 0.3614 - val_mean_squared_error: 0.3614\n",
      "Epoch 62/100\n",
      "363/363 [==============================] - 0s 1ms/step - loss: 0.3443 - mean_squared_error: 0.3443 - val_loss: 0.3733 - val_mean_squared_error: 0.3733\n",
      "Epoch 63/100\n",
      "363/363 [==============================] - 0s 1ms/step - loss: 0.3448 - mean_squared_error: 0.3448 - val_loss: 0.3601 - val_mean_squared_error: 0.3601\n",
      "Epoch 64/100\n",
      "363/363 [==============================] - 0s 1ms/step - loss: 0.3453 - mean_squared_error: 0.3453 - val_loss: 0.3490 - val_mean_squared_error: 0.3490\n",
      "Epoch 65/100\n",
      "363/363 [==============================] - 0s 1ms/step - loss: 0.3425 - mean_squared_error: 0.3425 - val_loss: 0.3524 - val_mean_squared_error: 0.3524\n",
      "Epoch 66/100\n",
      "363/363 [==============================] - 0s 1ms/step - loss: 0.3425 - mean_squared_error: 0.3425 - val_loss: 0.3528 - val_mean_squared_error: 0.3528\n",
      "Epoch 67/100\n",
      "363/363 [==============================] - 0s 1ms/step - loss: 0.3416 - mean_squared_error: 0.3416 - val_loss: 0.3607 - val_mean_squared_error: 0.3607\n",
      "Epoch 68/100\n",
      "363/363 [==============================] - 0s 1ms/step - loss: 0.3429 - mean_squared_error: 0.3429 - val_loss: 0.3472 - val_mean_squared_error: 0.3472\n",
      "Epoch 69/100\n",
      "363/363 [==============================] - 0s 1ms/step - loss: 0.3426 - mean_squared_error: 0.3426 - val_loss: 0.3569 - val_mean_squared_error: 0.3569\n",
      "Epoch 70/100\n",
      "363/363 [==============================] - 0s 1ms/step - loss: 0.3450 - mean_squared_error: 0.3450 - val_loss: 0.3541 - val_mean_squared_error: 0.3541\n",
      "Epoch 71/100\n",
      "363/363 [==============================] - 0s 1ms/step - loss: 0.3405 - mean_squared_error: 0.3405 - val_loss: 0.3467 - val_mean_squared_error: 0.3467\n",
      "Epoch 72/100\n",
      "363/363 [==============================] - 0s 1ms/step - loss: 0.3413 - mean_squared_error: 0.3413 - val_loss: 0.3493 - val_mean_squared_error: 0.3493\n",
      "Epoch 73/100\n",
      "363/363 [==============================] - 0s 1ms/step - loss: 0.3406 - mean_squared_error: 0.3406 - val_loss: 0.3509 - val_mean_squared_error: 0.3509\n",
      "Epoch 74/100\n",
      "363/363 [==============================] - 0s 1ms/step - loss: 0.3402 - mean_squared_error: 0.3402 - val_loss: 0.3588 - val_mean_squared_error: 0.3588\n",
      "Epoch 75/100\n",
      "363/363 [==============================] - 0s 1ms/step - loss: 0.3405 - mean_squared_error: 0.3405 - val_loss: 0.3490 - val_mean_squared_error: 0.3490\n",
      "Epoch 76/100\n",
      "363/363 [==============================] - 0s 868us/step - loss: 0.3383 - mean_squared_error: 0.3383 - val_loss: 0.3515 - val_mean_squared_error: 0.3515\n"
     ]
    }
   ],
   "source": [
    "history = model.fit(xtrain_scaled, ytrain, \n",
    "                    validation_data=(xvalid_scaled, yvalid),\n",
    "                    epochs=100, callbacks=callbacks)"
   ]
  },
  {
   "cell_type": "code",
   "execution_count": 22,
   "metadata": {
    "ExecuteTime": {
     "end_time": "2020-11-30T06:28:36.123841Z",
     "start_time": "2020-11-30T06:28:35.929198Z"
    }
   },
   "outputs": [
    {
     "data": {
      "image/png": "[encoded data removed]",
      "text/plain": [
       "<Figure size 576x360 with 1 Axes>"
      ]
     },
     "metadata": {
      "needs_background": "light"
     },
     "output_type": "display_data"
    }
   ],
   "source": [
    "def plot_learning_curves(history):\n",
    "    pd.DataFrame(history.history).plot(figsize=(8, 5))\n",
    "    plt.grid(True)\n",
    "    plt.gca().set_ylim(0, 1)\n",
    "    plt.show()\n",
    "\n",
    "plot_learning_curves(history)"
   ]
  },
  {
   "cell_type": "code",
   "execution_count": 23,
   "metadata": {
    "ExecuteTime": {
     "end_time": "2020-11-30T06:30:46.174159Z",
     "start_time": "2020-11-30T06:30:46.017153Z"
    }
   },
   "outputs": [
    {
     "data": {
      "text/plain": [
       "[0.3581102192401886, 0.3581102192401886]"
      ]
     },
     "execution_count": 23,
     "metadata": {},
     "output_type": "execute_result"
    }
   ],
   "source": [
    "model.evaluate(xtest_scaled, ytest, verbose=0)"
   ]
  },
  {
   "cell_type": "code",
   "execution_count": null,
   "metadata": {},
   "outputs": [],
   "source": []
  }
 ],
 "metadata": {
  "kernelspec": {
   "display_name": "tf2_py3",
   "language": "python",
   "name": "tf2_py3"
  },
  "language_info": {
   "codemirror_mode": {
    "name": "ipython",
    "version": 3
   },
   "file_extension": ".py",
   "mimetype": "text/x-python",
   "name": "python",
   "nbconvert_exporter": "python",
   "pygments_lexer": "ipython3",
   "version": "3.6.7"
  },
  "toc": {
   "base_numbering": 1,
   "nav_menu": {},
   "number_sections": true,
   "sideBar": true,
   "skip_h1_title": false,
   "title_cell": "Table of Contents",
   "title_sidebar": "Contents",
   "toc_cell": false,
   "toc_position": {},
   "toc_section_display": true,
   "toc_window_display": false
  }
 },
 "nbformat": 4,
 "nbformat_minor": 4
}
