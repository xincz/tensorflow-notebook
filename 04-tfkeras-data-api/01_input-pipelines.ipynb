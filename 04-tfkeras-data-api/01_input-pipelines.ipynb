{
 "cells": [
  {
   "cell_type": "markdown",
   "id": "arctic-behavior",
   "metadata": {},
   "source": [
    "# Build Tensorflow Input Pipelines"
   ]
  },
  {
   "cell_type": "markdown",
   "id": "graphic-objective",
   "metadata": {},
   "source": [
    "There are two distinct ways to create a dataset:\n",
    "* A data source constructs a `Dataset` from data stored in memory or in one or more files.\n",
    "* A data transformation constructs a dataset from one or more `tf.data.Dataset` objects.\n",
    "\n",
    "The `tf.data` API introduces a `tf.data.Dataset` abstraction that represents a sequence of elements, in which each element consists of one or more components. For example, in an image pipeline, an element might be a single training example, with a pair of tensor components representing the image and its label."
   ]
  },
  {
   "cell_type": "code",
   "execution_count": null,
   "id": "incomplete-chancellor",
   "metadata": {},
   "outputs": [],
   "source": []
  },
  {
   "cell_type": "code",
   "execution_count": null,
   "id": "seventh-polish",
   "metadata": {},
   "outputs": [],
   "source": []
  }
 ],
 "metadata": {
  "kernelspec": {
   "display_name": "Python 3",
   "language": "python",
   "name": "python3"
  },
  "language_info": {
   "codemirror_mode": {
    "name": "ipython",
    "version": 3
   },
   "file_extension": ".py",
   "mimetype": "text/x-python",
   "name": "python",
   "nbconvert_exporter": "python",
   "pygments_lexer": "ipython3",
   "version": "3.6.7"
  }
 },
 "nbformat": 4,
 "nbformat_minor": 5
}
