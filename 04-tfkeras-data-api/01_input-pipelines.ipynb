{
 "cells": [
  {
   "cell_type": "markdown",
   "id": "excited-thermal",
   "metadata": {},
   "source": [
    "# Build Tensorflow Input Pipelines"
   ]
  },
  {
   "cell_type": "markdown",
   "id": "standard-resolution",
   "metadata": {},
   "source": [
    "There are two distinct ways to create a dataset:\n",
    "* A data source constructs a `Dataset` from data stored in memory or in one or more files.\n",
    "* A data transformation constructs a dataset from one or more `tf.data.Dataset` objects.\n",
    "\n",
    "The `tf.data` API introduces a `tf.data.Dataset` abstraction that represents a sequence of elements, in which each element consists of one or more components. For example, in an image pipeline, an element might be a single training example, with a pair of tensor components representing the image and its label."
   ]
  },
  {
   "cell_type": "code",
   "execution_count": 3,
   "id": "transparent-warren",
   "metadata": {},
   "outputs": [],
   "source": [
    "import os\n",
    "import pathlib\n",
    "import numpy as np\n",
    "import pandas as pd\n",
    "import tensorflow as tf\n",
    "import matplotlib as plt\n",
    "%matplotlib inline\n",
    "\n",
    "np.set_printoptions(precision=4)"
   ]
  },
  {
   "cell_type": "markdown",
   "id": "smooth-signal",
   "metadata": {},
   "source": [
    "## Basic mechanics\n",
    "\n",
    "Start with a data source:\n",
    "* from data in memory, use `tf.data.Dataset.from_tensors()`, `tf.data.Dataset.from_tensor_slices()`\n",
    "* from data stored in a file in TFRecord format, use `tf.data.TFRecordDataset`\n",
    "\n",
    "Now we have a `Dataset` object, we can transform it into a new `Dataset` by chaining\n",
    "method calls on the `tf.data.Dataset` object.\n",
    "* pre-element transformation: `Dataset.map()`\n",
    "* multi-element transformation: `Dataset.batch()`"
   ]
  },
  {
   "cell_type": "code",
   "execution_count": null,
   "id": "documented-tanzania",
   "metadata": {},
   "outputs": [],
   "source": []
  }
 ],
 "metadata": {
  "kernelspec": {
   "display_name": "Python 3",
   "language": "python",
   "name": "python3"
  },
  "language_info": {
   "codemirror_mode": {
    "name": "ipython",
    "version": 3
   },
   "file_extension": ".py",
   "mimetype": "text/x-python",
   "name": "python",
   "nbconvert_exporter": "python",
   "pygments_lexer": "ipython3",
   "version": "3.6.7"
  },
  "toc-showcode": true
 },
 "nbformat": 4,
 "nbformat_minor": 5
}
