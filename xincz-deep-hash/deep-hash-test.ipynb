{
 "cells": [
  {
   "cell_type": "code",
   "execution_count": 1,
   "id": "cutting-blanket",
   "metadata": {},
   "outputs": [
    {
     "name": "stdout",
     "output_type": "stream",
     "text": [
      "sys.version_info(major=3, minor=6, micro=7, releaselevel='final', serial=0)\n",
      "tensorflow 2.4.0\n",
      "matplotlib 3.3.3\n",
      "numpy 1.19.5\n",
      "pandas 1.1.5\n",
      "sklearn 0.24.0\n",
      "tensorflow 2.4.0\n",
      "tensorflow.keras 2.4.0\n"
     ]
    }
   ],
   "source": [
    "import os\n",
    "import sys\n",
    "import time\n",
    "import sklearn\n",
    "import PIL.Image\n",
    "\n",
    "import numpy as np\n",
    "import pandas as pd\n",
    "import tensorflow as tf\n",
    "from tensorflow import keras\n",
    "from pprint import pprint\n",
    "\n",
    "import matplotlib as mpl\n",
    "import matplotlib.pyplot as plt\n",
    "%matplotlib inline\n",
    "mpl.rcParams['figure.figsize'] = (12, 12)\n",
    "mpl.rcParams['axes.grid'] = False\n",
    "\n",
    "print(sys.version_info)\n",
    "for module in tf, mpl, np, pd, sklearn, tf, keras:\n",
    "    print(module.__name__, module.__version__)"
   ]
  },
  {
   "cell_type": "code",
   "execution_count": 7,
   "id": "gentle-stevens",
   "metadata": {},
   "outputs": [],
   "source": [
    "from tensorflow.compat.v1 import ConfigProto\n",
    "from tensorflow.compat.v1 import InteractiveSession\n",
    "\n",
    "config = ConfigProto()\n",
    "config.gpu_options.allow_growth = True\n",
    "session = InteractiveSession(config=config)"
   ]
  },
  {
   "cell_type": "markdown",
   "id": "chicken-document",
   "metadata": {},
   "source": [
    "### Read image datasets"
   ]
  },
  {
   "cell_type": "code",
   "execution_count": 9,
   "id": "operational-fight",
   "metadata": {},
   "outputs": [
    {
     "name": "stdout",
     "output_type": "stream",
     "text": [
      "[('./datasets/cifar-10/train/1.png', 'frog'),\n",
      " ('./datasets/cifar-10/train/2.png', 'truck'),\n",
      " ('./datasets/cifar-10/train/3.png', 'truck'),\n",
      " ('./datasets/cifar-10/train/4.png', 'deer'),\n",
      " ('./datasets/cifar-10/train/5.png', 'automobile')]\n",
      "[('./datasets/cifar-10/test/1.png', 'cat'),\n",
      " ('./datasets/cifar-10/test/2.png', 'cat'),\n",
      " ('./datasets/cifar-10/test/3.png', 'cat'),\n",
      " ('./datasets/cifar-10/test/4.png', 'cat'),\n",
      " ('./datasets/cifar-10/test/5.png', 'cat')]\n",
      "Number of training examples: 50000\n",
      "Number of test examples: 300000\n"
     ]
    }
   ],
   "source": [
    "class_names = [\n",
    "    'airplane', 'automobile', 'bird', 'cat', 'deer', \n",
    "    'dog', 'frog', 'horse', 'ship', 'truck',\n",
    "]\n",
    "\n",
    "train_label_file = './datasets/cifar-10/trainLabels.csv'\n",
    "test_csv_file = './datasets/cifar-10/sampleSubmission.csv'\n",
    "train_folder = './datasets/cifar-10/train/'\n",
    "test_folder = './datasets/cifar-10/test/'\n",
    "\n",
    "def parse_csv_file(filepath, folder):\n",
    "    \"\"\"Parses csv files into (filename(path), label) format\"\"\"\n",
    "    results = []\n",
    "    with open(filepath, 'r') as f:\n",
    "        lines = f.readlines()[1:]\n",
    "    for line in lines:\n",
    "        image_id, label_str = line.strip('\\n').split(',')\n",
    "        image_full_path = os.path.join(folder, image_id + '.png')\n",
    "        results.append((image_full_path, label_str))\n",
    "    return results\n",
    "\n",
    "train_labels_info = parse_csv_file(train_label_file, train_folder)\n",
    "test_csv_info = parse_csv_file(test_csv_file, test_folder)\n",
    "\n",
    "pprint(train_labels_info[0:5])\n",
    "pprint(test_csv_info[0:5])\n",
    "print(\"Number of training examples: {}\".format(len(train_labels_info)))\n",
    "print(\"Number of test examples: {}\".format(len(test_csv_info)))"
   ]
  },
  {
   "cell_type": "code",
   "execution_count": 13,
   "id": "empirical-pathology",
   "metadata": {},
   "outputs": [
    {
     "name": "stdout",
     "output_type": "stream",
     "text": [
      "                          filepath       class\n",
      "0  ./datasets/cifar-10/train/1.png        frog\n",
      "1  ./datasets/cifar-10/train/2.png       truck\n",
      "2  ./datasets/cifar-10/train/3.png       truck\n",
      "3  ./datasets/cifar-10/train/4.png        deer\n",
      "4  ./datasets/cifar-10/train/5.png  automobile\n",
      "                              filepath       class\n",
      "0  ./datasets/cifar-10/train/45001.png       horse\n",
      "1  ./datasets/cifar-10/train/45002.png  automobile\n",
      "2  ./datasets/cifar-10/train/45003.png        deer\n",
      "3  ./datasets/cifar-10/train/45004.png  automobile\n",
      "4  ./datasets/cifar-10/train/45005.png    airplane\n",
      "                         filepath class\n",
      "0  ./datasets/cifar-10/test/1.png   cat\n",
      "1  ./datasets/cifar-10/test/2.png   cat\n",
      "2  ./datasets/cifar-10/test/3.png   cat\n",
      "3  ./datasets/cifar-10/test/4.png   cat\n",
      "4  ./datasets/cifar-10/test/5.png   cat\n"
     ]
    }
   ],
   "source": [
    "train_df = pd.DataFrame(train_labels_info[0:45000])\n",
    "valid_df = pd.DataFrame(train_labels_info[45000:])\n",
    "test_df = pd.DataFrame(test_csv_info)\n",
    "\n",
    "train_df.columns = ['filepath', 'class']\n",
    "valid_df.columns = ['filepath', 'class']\n",
    "test_df.columns = ['filepath', 'class']\n",
    "\n",
    "print(train_df.head())\n",
    "print(valid_df.head())\n",
    "print(test_df.head())"
   ]
  },
  {
   "cell_type": "markdown",
   "id": "governing-effects",
   "metadata": {},
   "source": [
    "### Construct ImageDataGenerator from dataframe"
   ]
  },
  {
   "cell_type": "code",
   "execution_count": null,
   "id": "weighted-qatar",
   "metadata": {},
   "outputs": [],
   "source": [
    "height = 32\n",
    "width = 32\n",
    "channels = 3\n",
    "batch_size = 32\n",
    "num_classes = 10\n",
    "\n",
    "# Flow from dataframe, not directory\n",
    "train_datagen = keras.preprocessing.image.ImageDataGenerator(\n",
    "    rescale = 1./255,\n",
    "    rotation_range = 40,\n",
    "    width_shift_range = 0.2,\n",
    "    height_shift_range = 0.2,\n",
    "    shear_range = 0.2,\n",
    "    zoom_range = 0.2,\n",
    "    horizontal_flip = True,\n",
    "    fill_mode = 'nearest',\n",
    ")\n",
    "train_generator = train_datagen.flow_from_dataframe(\n",
    "    train_df,\n",
    "    directory = './',\n",
    "    x_col = 'filepath',\n",
    "    y_col = 'class',\n",
    "    classes = class_names,\n",
    "    target_size = (height, width),\n",
    "    batch_size = batch_size,\n",
    "    seed = 7,\n",
    "    shuffle = True,\n",
    "    class_mode = 'sparse',\n",
    ")\n",
    "\n",
    "valid_datagen = keras.preprocessing.image.ImageDataGenerator(\n",
    "    rescale = 1./255)\n",
    "valid_generator = valid_datagen.flow_from_dataframe(\n",
    "    valid_df,\n",
    "    directory = './',\n",
    "    x_col = 'filepath',\n",
    "    y_col = 'class',\n",
    "    classes = class_names,\n",
    "    target_size = (height, width),\n",
    "    batch_size = batch_size,\n",
    "    seed = 7,\n",
    "    shuffle = False,\n",
    "    class_mode = \"sparse\")\n",
    "\n",
    "train_num = train_generator.samples\n",
    "valid_num = valid_generator.samples\n",
    "print(train_num, valid_num)"
   ]
  }
 ],
 "metadata": {
  "kernelspec": {
   "display_name": "Python 3",
   "language": "python",
   "name": "python3"
  },
  "language_info": {
   "codemirror_mode": {
    "name": "ipython",
    "version": 3
   },
   "file_extension": ".py",
   "mimetype": "text/x-python",
   "name": "python",
   "nbconvert_exporter": "python",
   "pygments_lexer": "ipython3",
   "version": "3.6.7"
  }
 },
 "nbformat": 4,
 "nbformat_minor": 5
}
