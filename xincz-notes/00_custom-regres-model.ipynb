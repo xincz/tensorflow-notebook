{
 "cells": [
  {
   "cell_type": "markdown",
   "metadata": {},
   "source": [
    "## Preparation"
   ]
  },
  {
   "cell_type": "code",
   "execution_count": 1,
   "metadata": {},
   "outputs": [
    {
     "name": "stdout",
     "output_type": "stream",
     "text": [
      "2.4.0\n",
      "sys.version_info(major=3, minor=6, micro=7, releaselevel='final', serial=0)\n",
      "matplotlib 3.3.3\n",
      "numpy 1.18.4\n",
      "pandas 1.1.5\n",
      "sklearn 0.24.0\n",
      "tensorflow 2.4.0\n",
      "tensorflow.keras 2.4.0\n"
     ]
    }
   ],
   "source": [
    "import matplotlib as mpl\n",
    "import matplotlib.pyplot as plt\n",
    "%matplotlib inline\n",
    "import numpy as np\n",
    "import pandas as pd\n",
    "import sklearn\n",
    "import os\n",
    "import sys\n",
    "import time\n",
    "import tensorflow as tf\n",
    "from tensorflow import keras\n",
    "\n",
    "print(tf.__version__)\n",
    "print(sys.version_info)\n",
    "for module in mpl, np, pd, sklearn, tf, keras:\n",
    "    print(module.__name__, module.__version__)"
   ]
  },
  {
   "cell_type": "code",
   "execution_count": 2,
   "metadata": {},
   "outputs": [],
   "source": [
    "from tensorflow.compat.v1 import ConfigProto\n",
    "from tensorflow.compat.v1 import InteractiveSession\n",
    "\n",
    "config = ConfigProto()\n",
    "config.allow_soft_placement=True\n",
    "config.gpu_options.allow_growth = True\n",
    "config.gpu_options.per_process_gpu_memory_fraction = 0.9\n",
    "session = InteractiveSession(config=config)"
   ]
  },
  {
   "cell_type": "code",
   "execution_count": 3,
   "metadata": {},
   "outputs": [
    {
     "name": "stdout",
     "output_type": "stream",
     "text": [
      "(20640, 8)\n",
      "(20640,)\n"
     ]
    }
   ],
   "source": [
    "from sklearn.datasets import fetch_california_housing\n",
    "housing = fetch_california_housing()\n",
    "# print(housing.DESCR)\n",
    "print(housing.data.shape)\n",
    "print(housing.target.shape)"
   ]
  },
  {
   "cell_type": "code",
   "execution_count": 4,
   "metadata": {},
   "outputs": [
    {
     "name": "stdout",
     "output_type": "stream",
     "text": [
      "(11610, 8) (11610,)\n",
      "(3870, 8) (3870,)\n",
      "(5160, 8) (5160,)\n"
     ]
    }
   ],
   "source": [
    "from sklearn.model_selection import train_test_split\n",
    "xtrain_all, xtest, ytrain_all, ytest = train_test_split(housing.data, housing.target, random_state=7)\n",
    "xtrain, xvalid, ytrain, yvalid = train_test_split(xtrain_all ,ytrain_all, random_state=11)\n",
    "\n",
    "print(xtrain.shape, ytrain.shape)\n",
    "print(xvalid.shape, yvalid.shape)\n",
    "print(xtest.shape, ytest.shape)"
   ]
  },
  {
   "cell_type": "markdown",
   "metadata": {},
   "source": [
    "## Normalization"
   ]
  },
  {
   "cell_type": "code",
   "execution_count": 5,
   "metadata": {},
   "outputs": [],
   "source": [
    "from sklearn.preprocessing import StandardScaler\n",
    "scaler = StandardScaler()\n",
    "xtrain_scaled = scaler.fit_transform(xtrain)\n",
    "xvalid_scaled= scaler.transform(xvalid)\n",
    "xtest_scaled = scaler.transform(xtest)"
   ]
  },
  {
   "cell_type": "markdown",
   "metadata": {},
   "source": [
    "## Modeling"
   ]
  },
  {
   "cell_type": "code",
   "execution_count": 6,
   "metadata": {},
   "outputs": [],
   "source": [
    "# Sklearn HP search\n",
    "# 1. 转化为 sklearn model\n",
    "# 2. 定义参数集合\n",
    "# 3. 搜索参数\n",
    "def build_model(hidden_layers=1, layer_size=30, learning_rate=3e-3):\n",
    "    model = keras.models.Sequential()\n",
    "    model.add(keras.layers.Dense(layer_size, activation='relu', input_shape=xtrain.shape[1:]))\n",
    "    for _ in range(hidden_layers - 1):\n",
    "        model.add(keras.layers.Dense(layer_size, activation='relu'))\n",
    "\n",
    "    model.add(keras.layers.Dense(1))\n",
    "    optimizer = keras.optimizers.SGD(learning_rate)\n",
    "    model.compile(loss=\"mse\", optimizer=optimizer)\n",
    "    return model\n",
    "\n",
    "\n",
    "# callbacks = [keras.callbacks.EarlyStopping(patience=5, min_delta=1e-2)]\n",
    "# sklearn_model = keras.wrappers.scikit_learn.KerasRegressor(build_model)\n",
    "# history = sklearn_model.fit(xtrain_scaled, ytrain, \n",
    "#                             epochs=100, \n",
    "#                             validation_data=(xvalid_scaled, yvalid),\n",
    "#                             callbacks=callbacks)"
   ]
  },
  {
   "cell_type": "markdown",
   "metadata": {},
   "source": [
    "### Customized loss"
   ]
  },
  {
   "cell_type": "code",
   "execution_count": 7,
   "metadata": {},
   "outputs": [
    {
     "name": "stdout",
     "output_type": "stream",
     "text": [
      "Model: \"sequential\"\n",
      "_________________________________________________________________\n",
      "Layer (type)                 Output Shape              Param #   \n",
      "=================================================================\n",
      "dense (Dense)                (None, 30)                270       \n",
      "_________________________________________________________________\n",
      "dense_1 (Dense)              (None, 1)                 31        \n",
      "=================================================================\n",
      "Total params: 301\n",
      "Trainable params: 301\n",
      "Non-trainable params: 0\n",
      "_________________________________________________________________\n"
     ]
    }
   ],
   "source": [
    "## Custom loss\n",
    "def customized_mse(y_true, y_pred):\n",
    "    return tf.reduce_mean(tf.square(y_pred - y_true))\n",
    "\n",
    "# Original model\n",
    "model = keras.models.Sequential([\n",
    "    keras.layers.Dense(30, activation='relu', input_shape=xtrain.shape[1:]),\n",
    "    keras.layers.Dense(1),\n",
    "])\n",
    "\n",
    "model.summary()\n",
    "# model.compile(loss=\"mean_squared_error\", optimizer='sgd')\n",
    "model.compile(loss=customized_mse, optimizer='sgd')\n",
    "callbacks = [keras.callbacks.EarlyStopping(patience=5, min_delta=1e-5)]"
   ]
  },
  {
   "cell_type": "markdown",
   "metadata": {},
   "source": [
    "### Customized layer"
   ]
  },
  {
   "cell_type": "code",
   "execution_count": 8,
   "metadata": {},
   "outputs": [
    {
     "name": "stdout",
     "output_type": "stream",
     "text": [
      "Model: \"sequential_1\"\n",
      "_________________________________________________________________\n",
      "Layer (type)                 Output Shape              Param #   \n",
      "=================================================================\n",
      "customized_dense_layer (Cust (None, 30)                270       \n",
      "_________________________________________________________________\n",
      "customized_dense_layer_1 (Cu (None, 1)                 31        \n",
      "_________________________________________________________________\n",
      "lambda (Lambda)              (None, 1)                 0         \n",
      "=================================================================\n",
      "Total params: 301\n",
      "Trainable params: 301\n",
      "Non-trainable params: 0\n",
      "_________________________________________________________________\n"
     ]
    }
   ],
   "source": [
    "# tf.nn.softplus: log(1+e^x)  平滑版的 relu\n",
    "customized_softplus = keras.layers.Lambda(lambda x: tf.nn.softplus(x))\n",
    "\n",
    "class CustomizedDenseLayer(keras.layers.Layer):\n",
    "    def __init__(self, units, activation=None, **kwargs):\n",
    "        self.units = units  # number of nodes\n",
    "        self.activation = keras.layers.Activation(activation)\n",
    "        super(CustomizedDenseLayer, self).__init__(**kwargs)\n",
    "    \n",
    "    def build(self, input_shape):\n",
    "        \"\"\"Construct parameters\"\"\"\n",
    "        self.kernel = self.add_weight(\n",
    "            name=\"kernel\", \n",
    "            shape=(input_shape[1], self.units),\n",
    "            initializer=\"uniform\",\n",
    "            trainable=True)  # 在训练过程中可变\n",
    "        self.bias = self.add_weight(\n",
    "            name=\"bias\",\n",
    "            shape=(self.units,),\n",
    "            initializer=\"zeros\",\n",
    "            trainable=True)  # 在训练过程中可变\n",
    "        super(CustomizedDenseLayer, self).build(input_shape)\n",
    "\n",
    "    ## call方法是自动被调用的，即如果你把这个类当做函数，后面写上括号，会自动调用 call 方法！\n",
    "    def call(self, x):\n",
    "        \"\"\"正向计算，从输入到输出\"\"\"\n",
    "        return self.activation(x@self.kernel + self.bias)\n",
    "\n",
    "\n",
    "model = keras.models.Sequential([\n",
    "    CustomizedDenseLayer(30, activation='relu', input_shape=xtrain.shape[1:]),\n",
    "    CustomizedDenseLayer(1),\n",
    "    customized_softplus\n",
    "    # keras.layers.Dense(1, activation=\"softplus\")\n",
    "    # keras.layers.Dense(1), keras.layers.Activation(\"softplus\")\n",
    "])\n",
    "model.summary()\n",
    "model.compile(loss=customized_mse, optimizer='sgd', metrics=[\"mean_squared_error\"])\n",
    "callbacks = [keras.callbacks.EarlyStopping(patience=5, min_delta=1e-5)]"
   ]
  },
  {
   "cell_type": "markdown",
   "metadata": {},
   "source": [
    "## Training"
   ]
  },
  {
   "cell_type": "code",
   "execution_count": 9,
   "metadata": {},
   "outputs": [
    {
     "name": "stdout",
     "output_type": "stream",
     "text": [
      "Epoch 1/100\n",
      "363/363 [==============================] - 2s 3ms/step - loss: 1.9022 - mean_squared_error: 1.9022 - val_loss: 0.6789 - val_mean_squared_error: 0.6789\n",
      "Epoch 2/100\n",
      "363/363 [==============================] - 1s 2ms/step - loss: 0.5951 - mean_squared_error: 0.5951 - val_loss: 0.5859 - val_mean_squared_error: 0.5859\n",
      "Epoch 3/100\n",
      "363/363 [==============================] - 1s 2ms/step - loss: 0.5402 - mean_squared_error: 0.5402 - val_loss: 0.5212 - val_mean_squared_error: 0.5212\n",
      "Epoch 4/100\n",
      "363/363 [==============================] - 1s 2ms/step - loss: 0.4807 - mean_squared_error: 0.4807 - val_loss: 0.4862 - val_mean_squared_error: 0.4862\n",
      "Epoch 5/100\n",
      "363/363 [==============================] - 1s 2ms/step - loss: 0.4502 - mean_squared_error: 0.4502 - val_loss: 0.5866 - val_mean_squared_error: 0.5866\n",
      "Epoch 6/100\n",
      "363/363 [==============================] - 1s 2ms/step - loss: 0.5099 - mean_squared_error: 0.5099 - val_loss: 0.4771 - val_mean_squared_error: 0.4771\n",
      "Epoch 7/100\n",
      "363/363 [==============================] - 1s 2ms/step - loss: 0.4385 - mean_squared_error: 0.4385 - val_loss: 0.4548 - val_mean_squared_error: 0.4548\n",
      "Epoch 8/100\n",
      "363/363 [==============================] - 1s 2ms/step - loss: 0.4327 - mean_squared_error: 0.4327 - val_loss: 0.4425 - val_mean_squared_error: 0.4425\n",
      "Epoch 9/100\n",
      "363/363 [==============================] - 1s 2ms/step - loss: 0.4181 - mean_squared_error: 0.4181 - val_loss: 0.4381 - val_mean_squared_error: 0.4381\n",
      "Epoch 10/100\n",
      "363/363 [==============================] - 1s 2ms/step - loss: 0.4197 - mean_squared_error: 0.4197 - val_loss: 0.4244 - val_mean_squared_error: 0.4244\n",
      "Epoch 11/100\n",
      "363/363 [==============================] - 1s 2ms/step - loss: 0.3970 - mean_squared_error: 0.3970 - val_loss: 0.4282 - val_mean_squared_error: 0.4282\n",
      "Epoch 12/100\n",
      "363/363 [==============================] - 1s 2ms/step - loss: 0.3892 - mean_squared_error: 0.3892 - val_loss: 0.4199 - val_mean_squared_error: 0.4199\n",
      "Epoch 13/100\n",
      "363/363 [==============================] - 1s 2ms/step - loss: 0.3915 - mean_squared_error: 0.3915 - val_loss: 0.4007 - val_mean_squared_error: 0.4007\n",
      "Epoch 14/100\n",
      "363/363 [==============================] - 1s 2ms/step - loss: 0.3980 - mean_squared_error: 0.3980 - val_loss: 0.4060 - val_mean_squared_error: 0.4060\n",
      "Epoch 15/100\n",
      "363/363 [==============================] - 1s 2ms/step - loss: 0.3879 - mean_squared_error: 0.3879 - val_loss: 0.3994 - val_mean_squared_error: 0.3994\n",
      "Epoch 16/100\n",
      "363/363 [==============================] - 1s 2ms/step - loss: 0.3999 - mean_squared_error: 0.3999 - val_loss: 0.3998 - val_mean_squared_error: 0.3998\n",
      "Epoch 17/100\n",
      "363/363 [==============================] - 1s 2ms/step - loss: 0.3884 - mean_squared_error: 0.3884 - val_loss: 0.4247 - val_mean_squared_error: 0.4247\n",
      "Epoch 18/100\n",
      "363/363 [==============================] - 1s 2ms/step - loss: 0.3892 - mean_squared_error: 0.3892 - val_loss: 0.3957 - val_mean_squared_error: 0.3957\n",
      "Epoch 19/100\n",
      "363/363 [==============================] - 1s 2ms/step - loss: 0.3763 - mean_squared_error: 0.3763 - val_loss: 0.3877 - val_mean_squared_error: 0.3877\n",
      "Epoch 20/100\n",
      "363/363 [==============================] - 1s 2ms/step - loss: 0.3639 - mean_squared_error: 0.3639 - val_loss: 0.3884 - val_mean_squared_error: 0.3884\n",
      "Epoch 21/100\n",
      "363/363 [==============================] - 1s 2ms/step - loss: 0.3798 - mean_squared_error: 0.3798 - val_loss: 0.3894 - val_mean_squared_error: 0.3894\n",
      "Epoch 22/100\n",
      "363/363 [==============================] - 1s 2ms/step - loss: 0.3824 - mean_squared_error: 0.3824 - val_loss: 0.3825 - val_mean_squared_error: 0.3825\n",
      "Epoch 23/100\n",
      "363/363 [==============================] - 1s 2ms/step - loss: 0.3647 - mean_squared_error: 0.3647 - val_loss: 0.3875 - val_mean_squared_error: 0.3875\n",
      "Epoch 24/100\n",
      "363/363 [==============================] - 1s 2ms/step - loss: 0.3643 - mean_squared_error: 0.3643 - val_loss: 0.3886 - val_mean_squared_error: 0.3886\n",
      "Epoch 25/100\n",
      "363/363 [==============================] - 1s 2ms/step - loss: 0.3536 - mean_squared_error: 0.3536 - val_loss: 0.3817 - val_mean_squared_error: 0.3817\n",
      "Epoch 26/100\n",
      "363/363 [==============================] - 1s 2ms/step - loss: 0.3525 - mean_squared_error: 0.3525 - val_loss: 0.3765 - val_mean_squared_error: 0.3765\n",
      "Epoch 27/100\n",
      "363/363 [==============================] - 1s 2ms/step - loss: 0.3658 - mean_squared_error: 0.3658 - val_loss: 0.3855 - val_mean_squared_error: 0.3855\n",
      "Epoch 28/100\n",
      "363/363 [==============================] - 1s 2ms/step - loss: 0.3553 - mean_squared_error: 0.3553 - val_loss: 0.3836 - val_mean_squared_error: 0.3836\n",
      "Epoch 29/100\n",
      "363/363 [==============================] - 1s 2ms/step - loss: 0.3402 - mean_squared_error: 0.3402 - val_loss: 0.3799 - val_mean_squared_error: 0.3799\n",
      "Epoch 30/100\n",
      "363/363 [==============================] - 1s 2ms/step - loss: 0.3538 - mean_squared_error: 0.3538 - val_loss: 0.3771 - val_mean_squared_error: 0.3771\n",
      "Epoch 31/100\n",
      "363/363 [==============================] - 1s 2ms/step - loss: 0.3603 - mean_squared_error: 0.3603 - val_loss: 0.3730 - val_mean_squared_error: 0.3730\n",
      "Epoch 32/100\n",
      "363/363 [==============================] - 1s 2ms/step - loss: 0.3625 - mean_squared_error: 0.3625 - val_loss: 0.3748 - val_mean_squared_error: 0.3748\n",
      "Epoch 33/100\n",
      "363/363 [==============================] - 1s 2ms/step - loss: 0.3603 - mean_squared_error: 0.3603 - val_loss: 0.3761 - val_mean_squared_error: 0.3761\n",
      "Epoch 34/100\n",
      "363/363 [==============================] - 1s 2ms/step - loss: 0.3572 - mean_squared_error: 0.3572 - val_loss: 0.3739 - val_mean_squared_error: 0.3739\n",
      "Epoch 35/100\n",
      "363/363 [==============================] - 1s 2ms/step - loss: 0.3418 - mean_squared_error: 0.3418 - val_loss: 0.3892 - val_mean_squared_error: 0.3892\n",
      "Epoch 36/100\n",
      "363/363 [==============================] - 1s 2ms/step - loss: 0.3577 - mean_squared_error: 0.3577 - val_loss: 0.3722 - val_mean_squared_error: 0.3722\n",
      "Epoch 37/100\n",
      "363/363 [==============================] - 1s 2ms/step - loss: 0.3668 - mean_squared_error: 0.3668 - val_loss: 0.3732 - val_mean_squared_error: 0.3732\n",
      "Epoch 38/100\n",
      "363/363 [==============================] - 1s 2ms/step - loss: 0.3486 - mean_squared_error: 0.3486 - val_loss: 0.3723 - val_mean_squared_error: 0.3723\n",
      "Epoch 39/100\n",
      "363/363 [==============================] - 1s 2ms/step - loss: 0.3511 - mean_squared_error: 0.3511 - val_loss: 0.3671 - val_mean_squared_error: 0.3671\n",
      "Epoch 40/100\n",
      "363/363 [==============================] - 1s 2ms/step - loss: 0.3577 - mean_squared_error: 0.3577 - val_loss: 0.3797 - val_mean_squared_error: 0.3797\n",
      "Epoch 41/100\n",
      "363/363 [==============================] - 1s 2ms/step - loss: 0.3399 - mean_squared_error: 0.3399 - val_loss: 0.3672 - val_mean_squared_error: 0.3672\n",
      "Epoch 42/100\n",
      "363/363 [==============================] - 1s 2ms/step - loss: 0.3454 - mean_squared_error: 0.3454 - val_loss: 0.3690 - val_mean_squared_error: 0.3690\n",
      "Epoch 43/100\n",
      "363/363 [==============================] - 1s 2ms/step - loss: 0.3464 - mean_squared_error: 0.3464 - val_loss: 0.3698 - val_mean_squared_error: 0.3698\n",
      "Epoch 44/100\n",
      "363/363 [==============================] - 1s 2ms/step - loss: 0.3409 - mean_squared_error: 0.3409 - val_loss: 0.3643 - val_mean_squared_error: 0.3643\n",
      "Epoch 45/100\n",
      "363/363 [==============================] - 1s 2ms/step - loss: 0.3393 - mean_squared_error: 0.3393 - val_loss: 0.3633 - val_mean_squared_error: 0.3633\n",
      "Epoch 46/100\n",
      "363/363 [==============================] - 1s 2ms/step - loss: 0.3477 - mean_squared_error: 0.3477 - val_loss: 0.3671 - val_mean_squared_error: 0.3671\n",
      "Epoch 47/100\n",
      "363/363 [==============================] - 1s 2ms/step - loss: 0.3486 - mean_squared_error: 0.3486 - val_loss: 0.3745 - val_mean_squared_error: 0.3745\n",
      "Epoch 48/100\n",
      "363/363 [==============================] - 1s 2ms/step - loss: 0.3588 - mean_squared_error: 0.3588 - val_loss: 0.3659 - val_mean_squared_error: 0.3659\n",
      "Epoch 49/100\n",
      "363/363 [==============================] - 1s 2ms/step - loss: 0.3468 - mean_squared_error: 0.3468 - val_loss: 0.3682 - val_mean_squared_error: 0.3682\n",
      "Epoch 50/100\n",
      "363/363 [==============================] - 1s 2ms/step - loss: 0.3516 - mean_squared_error: 0.3516 - val_loss: 0.3673 - val_mean_squared_error: 0.3673\n"
     ]
    }
   ],
   "source": [
    "history = model.fit(xtrain_scaled, ytrain,\n",
    "                    validation_data=(xvalid_scaled, yvalid),\n",
    "                    epochs=100,\n",
    "                    callbacks=callbacks)"
   ]
  },
  {
   "cell_type": "markdown",
   "metadata": {},
   "source": [
    "## Evaluation"
   ]
  },
  {
   "cell_type": "code",
   "execution_count": 10,
   "metadata": {},
   "outputs": [
    {
     "data": {
      "image/png": "[encoded data removed]",
      "text/plain": [
       "<Figure size 576x360 with 1 Axes>"
      ]
     },
     "metadata": {
      "needs_background": "light"
     },
     "output_type": "display_data"
    }
   ],
   "source": [
    "def plot_learning_curves(history):\n",
    "    pd.DataFrame(history.history).plot(figsize=(8, 5))\n",
    "    plt.grid(True)\n",
    "    plt.gca().set_ylim(0, 1)\n",
    "    plt.show()\n",
    "    \n",
    "plot_learning_curves(history)"
   ]
  },
  {
   "cell_type": "code",
   "execution_count": 11,
   "metadata": {},
   "outputs": [
    {
     "data": {
      "text/plain": [
       "[0.36782029271125793, 0.36782029271125793]"
      ]
     },
     "execution_count": 11,
     "metadata": {},
     "output_type": "execute_result"
    }
   ],
   "source": [
    "model.evaluate(xtest_scaled, ytest, verbose=0)"
   ]
  },
  {
   "cell_type": "code",
   "execution_count": null,
   "metadata": {},
   "outputs": [],
   "source": [
    "from scipy.stats import reciprocal  # 定义搜索空间\n",
    "# f(x) = 1/(x*log(b/a)) a <= x <= b\n",
    "\n",
    "param_distribution = {\n",
    "    \"hidden_layers\": [1, 2, 3, 4],\n",
    "    \"layer_size\": np.arange(1, 100),\n",
    "    \"learning_rate\": reciprocal(1e-4, 1e-2)\n",
    "}\n",
    "\n",
    "# RandomizedSearchCV\n",
    "from sklearn.model_selection import RandomizedSearchCV\n",
    "random_search_cv = RandomizedSearchCV(sklearn_model, param_distribution,\n",
    "                                      n_iter=10, n_jobs=1)\n",
    "random_search_cv.fit(xtrain_scaled, ytrain, epochs=100,\n",
    "                     validation_data=(xvalid_scaled, yvalid),\n",
    "                     callbacks=callbacks)\n",
    "\n",
    "# 会使用 cross_validation"
   ]
  },
  {
   "cell_type": "code",
   "execution_count": null,
   "metadata": {},
   "outputs": [],
   "source": [
    "print(random_search_cv.best_params_)\n",
    "print(random_search_cv.best_score_)\n",
    "print(random_search_cv.best_estimator_)"
   ]
  },
  {
   "cell_type": "code",
   "execution_count": null,
   "metadata": {},
   "outputs": [],
   "source": [
    "model = random_search_cv.best_estimator_.model\n",
    "model.evaluate(xtest_scaled, ytest)"
   ]
  }
 ],
 "metadata": {
  "kernelspec": {
   "display_name": "Python 3",
   "language": "python",
   "name": "python3"
  },
  "language_info": {
   "codemirror_mode": {
    "name": "ipython",
    "version": 3
   },
   "file_extension": ".py",
   "mimetype": "text/x-python",
   "name": "python",
   "nbconvert_exporter": "python",
   "pygments_lexer": "ipython3",
   "version": "3.6.7"
  }
 },
 "nbformat": 4,
 "nbformat_minor": 4
}
