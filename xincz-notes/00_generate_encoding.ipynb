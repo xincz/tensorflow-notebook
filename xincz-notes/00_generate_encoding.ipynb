{
 "cells": [
  {
   "cell_type": "code",
   "execution_count": 7,
   "id": "renewable-working",
   "metadata": {},
   "outputs": [
    {
     "name": "stdout",
     "output_type": "stream",
     "text": [
      "2.4.0\n",
      "sys.version_info(major=3, minor=6, micro=7, releaselevel='final', serial=0)\n",
      "matplotlib 3.3.3\n",
      "numpy 1.18.4\n",
      "pandas 1.1.5\n",
      "sklearn 0.24.0\n",
      "tensorflow 2.4.0\n",
      "tensorflow.keras 2.4.0\n",
      "tensorflow_addons 0.12.0\n",
      "tensorflow_datasets 4.2.0\n"
     ]
    }
   ],
   "source": [
    "import matplotlib as mpl\n",
    "import matplotlib.pyplot as plt\n",
    "%matplotlib inline\n",
    "import numpy as np\n",
    "import pandas as pd\n",
    "import sklearn\n",
    "import os\n",
    "import sys\n",
    "import time\n",
    "import tensorflow as tf\n",
    "import tensorflow_addons as tfa\n",
    "import tensorflow_datasets as tfds\n",
    "from tensorflow import keras\n",
    "\n",
    "print(tf.__version__)\n",
    "print(sys.version_info)\n",
    "for module in mpl, np, pd, sklearn, tf, keras, tfa, tfds:\n",
    "    print(module.__name__, module.__version__)"
   ]
  },
  {
   "cell_type": "code",
   "execution_count": 2,
   "id": "promotional-evolution",
   "metadata": {},
   "outputs": [],
   "source": [
    "from tensorflow.compat.v1 import ConfigProto\n",
    "from tensorflow.compat.v1 import InteractiveSession\n",
    "\n",
    "config = ConfigProto()\n",
    "config.allow_soft_placement=True\n",
    "config.gpu_options.allow_growth = True\n",
    "config.gpu_options.per_process_gpu_memory_fraction = 0.9\n",
    "session = InteractiveSession(config=config)"
   ]
  },
  {
   "cell_type": "code",
   "execution_count": 3,
   "id": "forced-locator",
   "metadata": {},
   "outputs": [
    {
     "name": "stdout",
     "output_type": "stream",
     "text": [
      "(5000, 28, 28) (5000,)\n",
      "(55000, 28, 28) (55000,)\n",
      "(10000, 28, 28) (10000,)\n"
     ]
    }
   ],
   "source": [
    "fashion_mnist = keras.datasets.fashion_mnist\n",
    "(x_train_all, y_train_all), (x_test, y_test) = fashion_mnist.load_data()\n",
    "x_valid, x_train = x_train_all[:5000], x_train_all[5000:]\n",
    "y_valid, y_train = y_train_all[:5000], y_train_all[5000:]\n",
    "\n",
    "print(x_valid.shape, y_valid.shape)\n",
    "print(x_train.shape, y_train.shape)\n",
    "print(x_test.shape, y_test.shape)"
   ]
  },
  {
   "cell_type": "markdown",
   "id": "inner-isaac",
   "metadata": {},
   "source": [
    "## Normalization"
   ]
  },
  {
   "cell_type": "code",
   "execution_count": 4,
   "id": "incredible-september",
   "metadata": {},
   "outputs": [],
   "source": [
    "from sklearn.preprocessing import StandardScaler\n",
    "\n",
    "scaler = StandardScaler()                                                    # Number of channels is 1!\n",
    "x_train_scaled = scaler.fit_transform(x_train.astype(np.float32).reshape(-1, 1)).reshape(-1, 28, 28, 1)\n",
    "x_valid_scaled = scaler.transform(x_valid.astype(np.float32).reshape(-1, 1)).reshape(-1, 28, 28, 1)\n",
    "x_test_scaled = scaler.transform( x_test.astype(np.float32).reshape(-1, 1)).reshape(-1, 28, 28, 1)"
   ]
  },
  {
   "cell_type": "markdown",
   "id": "current-ordinance",
   "metadata": {},
   "source": [
    "## Model with an encoding layer (128-D) as the last layer"
   ]
  },
  {
   "cell_type": "code",
   "execution_count": 21,
   "id": "english-sculpture",
   "metadata": {},
   "outputs": [
    {
     "name": "stdout",
     "output_type": "stream",
     "text": [
      "Model: \"sequential_5\"\n",
      "_________________________________________________________________\n",
      "Layer (type)                 Output Shape              Param #   \n",
      "=================================================================\n",
      "conv2d_30 (Conv2D)           (None, 28, 28, 32)        320       \n",
      "_________________________________________________________________\n",
      "conv2d_31 (Conv2D)           (None, 28, 28, 32)        9248      \n",
      "_________________________________________________________________\n",
      "max_pooling2d_15 (MaxPooling (None, 14, 14, 32)        0         \n",
      "_________________________________________________________________\n",
      "conv2d_32 (Conv2D)           (None, 14, 14, 64)        18496     \n",
      "_________________________________________________________________\n",
      "conv2d_33 (Conv2D)           (None, 14, 14, 64)        36928     \n",
      "_________________________________________________________________\n",
      "max_pooling2d_16 (MaxPooling (None, 7, 7, 64)          0         \n",
      "_________________________________________________________________\n",
      "conv2d_34 (Conv2D)           (None, 7, 7, 128)         73856     \n",
      "_________________________________________________________________\n",
      "conv2d_35 (Conv2D)           (None, 7, 7, 128)         147584    \n",
      "_________________________________________________________________\n",
      "max_pooling2d_17 (MaxPooling (None, 3, 3, 128)         0         \n",
      "_________________________________________________________________\n",
      "flatten_5 (Flatten)          (None, 1152)              0         \n",
      "_________________________________________________________________\n",
      "dense_5 (Dense)              (None, 128)               147584    \n",
      "_________________________________________________________________\n",
      "lambda_3 (Lambda)            (None, 128)               0         \n",
      "=================================================================\n",
      "Total params: 434,016\n",
      "Trainable params: 434,016\n",
      "Non-trainable params: 0\n",
      "_________________________________________________________________\n"
     ]
    }
   ],
   "source": [
    "model = keras.models.Sequential()\n",
    "model.add(keras.layers.Conv2D(filters=32, kernel_size=3,\n",
    "                              padding='same',\n",
    "                              activation='selu',\n",
    "                              input_shape=(28, 28, 1)))\n",
    "model.add(keras.layers.Conv2D(filters=32, kernel_size=3,\n",
    "                              padding='same',\n",
    "                              activation='selu'))\n",
    "model.add(keras.layers.MaxPool2D(pool_size=2))\n",
    "model.add(keras.layers.Conv2D(filters=64, kernel_size=3,\n",
    "                              padding='same',\n",
    "                              activation='selu'))\n",
    "model.add(keras.layers.Conv2D(filters=64, kernel_size=3,\n",
    "                              padding='same',\n",
    "                              activation='selu'))\n",
    "model.add(keras.layers.MaxPool2D(pool_size=2))\n",
    "model.add(keras.layers.Conv2D(filters=128, kernel_size=3,\n",
    "                              padding='same',\n",
    "                              activation='selu'))\n",
    "model.add(keras.layers.Conv2D(filters=128, kernel_size=3,\n",
    "                              padding='same',\n",
    "                              activation='selu'))\n",
    "model.add(keras.layers.MaxPool2D(pool_size=2))\n",
    "model.add(keras.layers.Flatten())\n",
    "model.add(keras.layers.Dense(128, activation=None))  # no activation or final dense layer\n",
    "model.add(keras.layers.Lambda(lambda x: tf.math.l2_normalize(x, axis=1))) # L2 normalize embeddings\n",
    "# model.add(keras.layers.Dense(10, activation=\"softmax\"))\n",
    "\n",
    "model.compile(loss=tfa.losses.TripletSemiHardLoss(),\n",
    "              optimizer = keras.optimizers.Adam(0.001))\n",
    "model.summary()"
   ]
  },
  {
   "cell_type": "markdown",
   "id": "ultimate-density",
   "metadata": {},
   "source": [
    "## Training"
   ]
  },
  {
   "cell_type": "code",
   "execution_count": 22,
   "id": "ordered-situation",
   "metadata": {},
   "outputs": [
    {
     "name": "stdout",
     "output_type": "stream",
     "text": [
      "Epoch 1/10\n",
      "1719/1719 [==============================] - 11s 6ms/step - loss: 0.5699 - val_loss: 0.3947\n",
      "Epoch 2/10\n",
      "1719/1719 [==============================] - 12s 7ms/step - loss: 0.3793 - val_loss: 0.3267\n",
      "Epoch 3/10\n",
      "1719/1719 [==============================] - 12s 7ms/step - loss: 0.3198 - val_loss: 0.3026\n",
      "Epoch 4/10\n",
      "1719/1719 [==============================] - 12s 7ms/step - loss: 0.2959 - val_loss: 0.2944\n",
      "Epoch 5/10\n",
      "1719/1719 [==============================] - 11s 7ms/step - loss: 0.2621 - val_loss: 0.2723\n",
      "Epoch 6/10\n",
      "1719/1719 [==============================] - 11s 6ms/step - loss: 0.2382 - val_loss: 0.2747\n",
      "Epoch 7/10\n",
      "1719/1719 [==============================] - 11s 7ms/step - loss: 0.2249 - val_loss: 0.2634\n",
      "Epoch 8/10\n",
      "1719/1719 [==============================] - 12s 7ms/step - loss: 0.2051 - val_loss: 0.2404\n",
      "Epoch 9/10\n",
      "1719/1719 [==============================] - 12s 7ms/step - loss: 0.1887 - val_loss: 0.2394\n",
      "Epoch 10/10\n",
      "1719/1719 [==============================] - 12s 7ms/step - loss: 0.1742 - val_loss: 0.2493\n"
     ]
    }
   ],
   "source": [
    "history = model.fit(x_train_scaled, y_train,\n",
    "                    epochs=10,\n",
    "                    validation_data=(x_valid_scaled, y_valid))"
   ]
  },
  {
   "cell_type": "markdown",
   "id": "seven-opera",
   "metadata": {},
   "source": [
    "## Evaluation"
   ]
  },
  {
   "cell_type": "code",
   "execution_count": 23,
   "id": "cloudy-crack",
   "metadata": {},
   "outputs": [
    {
     "data": {
      "image/png": "[encoded data removed]",
      "text/plain": [
       "<Figure size 576x360 with 1 Axes>"
      ]
     },
     "metadata": {
      "needs_background": "light"
     },
     "output_type": "display_data"
    }
   ],
   "source": [
    "def plot_learning_curves(history):\n",
    "    pd.DataFrame(history.history).plot(figsize=(8, 5))\n",
    "    plt.grid(True)\n",
    "    plt.gca().set_ylim(0, 1)\n",
    "    plt.show()\n",
    "\n",
    "plot_learning_curves(history)"
   ]
  },
  {
   "cell_type": "code",
   "execution_count": 24,
   "id": "fuzzy-connecticut",
   "metadata": {},
   "outputs": [
    {
     "name": "stdout",
     "output_type": "stream",
     "text": [
      "313/313 [==============================] - 1s 3ms/step - loss: 0.2578\n"
     ]
    },
    {
     "data": {
      "text/plain": [
       "0.2577943503856659"
      ]
     },
     "execution_count": 24,
     "metadata": {},
     "output_type": "execute_result"
    }
   ],
   "source": [
    "model.evaluate(x_test_scaled, y_test, verbose=1)"
   ]
  },
  {
   "cell_type": "code",
   "execution_count": 27,
   "id": "earlier-modem",
   "metadata": {},
   "outputs": [
    {
     "data": {
      "text/plain": [
       "(10000, 128)"
      ]
     },
     "execution_count": 27,
     "metadata": {},
     "output_type": "execute_result"
    }
   ],
   "source": [
    "# Get predicted embeddings\n",
    "results = model.predict(x_test_scaled)\n",
    "results.shape"
   ]
  },
  {
   "cell_type": "code",
   "execution_count": 33,
   "id": "prostate-grenada",
   "metadata": {},
   "outputs": [
    {
     "data": {
      "text/plain": [
       "array([ 2.91712815e-03, -8.28091353e-02,  1.51482329e-01, -6.81079999e-02,\n",
       "       -1.11001737e-01, -8.81426558e-02,  1.25799209e-01,  1.03306007e-02,\n",
       "       -1.09848388e-01,  8.92175734e-02,  1.15819179e-01,  8.47092345e-02,\n",
       "        6.52131960e-02,  2.11261772e-02,  9.45342034e-02, -1.44456342e-01,\n",
       "       -1.20919757e-01,  1.17018279e-02,  1.61377341e-01,  9.83538944e-03,\n",
       "        4.11930569e-02,  1.16029501e-01,  1.30305141e-01,  1.03107974e-01,\n",
       "       -3.13420147e-02,  8.01257119e-02, -3.14964801e-02, -1.38359606e-01,\n",
       "        2.05188915e-02, -1.00090466e-01, -7.46324658e-02, -2.81152856e-02,\n",
       "        9.48451087e-03,  1.35200843e-01, -5.54289855e-02,  9.80800092e-02,\n",
       "       -6.76533803e-02, -1.45135447e-01, -3.58197056e-02,  5.46239838e-02,\n",
       "        2.96264160e-02,  1.56192392e-01,  2.85629816e-02,  1.01510715e-02,\n",
       "        1.21529981e-01,  9.76254046e-02, -9.84136760e-02, -7.48635828e-02,\n",
       "       -9.26911773e-04,  1.52414829e-01,  3.38933989e-02, -5.54410042e-03,\n",
       "        1.66693881e-01,  6.99820295e-02,  1.51757687e-01,  3.13257542e-03,\n",
       "       -1.07091770e-01, -1.52127683e-01, -1.38112754e-01,  1.27592489e-01,\n",
       "        1.64641216e-01,  7.06522986e-02,  7.67158344e-02, -1.33446697e-02,\n",
       "        9.15247574e-02, -5.22245616e-02, -1.96219496e-02, -1.44179016e-01,\n",
       "        1.16646059e-01, -6.85513392e-02, -8.07443410e-02, -3.95885808e-03,\n",
       "        1.15730211e-01,  1.42831355e-01,  4.57335263e-02, -7.41514415e-02,\n",
       "       -1.79263294e-01, -1.50133278e-02,  8.65246281e-02,  5.58663756e-02,\n",
       "       -8.87094215e-02,  2.94208582e-02,  1.25426119e-02,  2.97306180e-02,\n",
       "        1.80508476e-02, -7.41273537e-02, -5.33874966e-02, -5.42636029e-02,\n",
       "        3.44640985e-02,  1.94431981e-03,  8.65174178e-03, -1.41693309e-01,\n",
       "        8.78406465e-02, -6.57650828e-02,  6.71130493e-02,  7.19138160e-02,\n",
       "       -1.29797570e-02,  4.68337024e-03, -2.17922274e-02, -1.13345496e-01,\n",
       "        1.89915393e-02,  1.34777665e-01, -1.29246667e-01,  8.43125433e-02,\n",
       "       -4.17774431e-02, -2.29677688e-02,  1.06490806e-01,  1.47438236e-03,\n",
       "        7.56871477e-02, -5.86444621e-05,  1.42616466e-01, -7.02417046e-02,\n",
       "       -6.24328703e-02,  9.03448239e-02,  9.62600335e-02, -9.25419107e-03,\n",
       "        1.15144864e-01,  1.25105316e-02, -1.18341267e-01, -6.77173063e-02,\n",
       "        6.30114973e-02,  4.22648825e-02, -1.10325277e-01,  2.87017394e-02,\n",
       "       -1.04969434e-01, -7.48971151e-03,  8.73633251e-02, -1.18818805e-01],\n",
       "      dtype=float32)"
      ]
     },
     "execution_count": 33,
     "metadata": {},
     "output_type": "execute_result"
    }
   ],
   "source": [
    "results[1]"
   ]
  },
  {
   "cell_type": "code",
   "execution_count": null,
   "id": "funded-nation",
   "metadata": {},
   "outputs": [],
   "source": []
  }
 ],
 "metadata": {
  "kernelspec": {
   "display_name": "Python 3",
   "language": "python",
   "name": "python3"
  },
  "language_info": {
   "codemirror_mode": {
    "name": "ipython",
    "version": 3
   },
   "file_extension": ".py",
   "mimetype": "text/x-python",
   "name": "python",
   "nbconvert_exporter": "python",
   "pygments_lexer": "ipython3",
   "version": "3.6.7"
  }
 },
 "nbformat": 4,
 "nbformat_minor": 5
}
