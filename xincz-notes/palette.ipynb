{
 "cells": [
  {
   "cell_type": "code",
   "execution_count": 1,
   "metadata": {},
   "outputs": [
    {
     "ename": "ImportError",
     "evalue": "DLL load failed: 找不到指定的模块。",
     "output_type": "error",
     "traceback": [
      "\u001b[1;31m---------------------------------------------------------------------------\u001b[0m",
      "\u001b[1;31mImportError\u001b[0m                               Traceback (most recent call last)",
      "\u001b[1;32m<ipython-input-1-8225af6580d9>\u001b[0m in \u001b[0;36m<module>\u001b[1;34m\u001b[0m\n\u001b[0;32m      2\u001b[0m \u001b[1;32mimport\u001b[0m \u001b[0msys\u001b[0m\u001b[1;33m\u001b[0m\u001b[1;33m\u001b[0m\u001b[0m\n\u001b[0;32m      3\u001b[0m \u001b[1;32mimport\u001b[0m \u001b[0mnumpy\u001b[0m \u001b[1;32mas\u001b[0m \u001b[0mnp\u001b[0m\u001b[1;33m\u001b[0m\u001b[1;33m\u001b[0m\u001b[0m\n\u001b[1;32m----> 4\u001b[1;33m \u001b[1;32mfrom\u001b[0m \u001b[0mskimage\u001b[0m \u001b[1;32mimport\u001b[0m \u001b[0mcolor\u001b[0m\u001b[1;33m\u001b[0m\u001b[1;33m\u001b[0m\u001b[0m\n\u001b[0m",
      "\u001b[1;32mc:\\users\\administrator\\appdata\\local\\programs\\python\\python37\\lib\\site-packages\\skimage\\__init__.py\u001b[0m in \u001b[0;36m<module>\u001b[1;34m\u001b[0m\n\u001b[0;32m    125\u001b[0m \u001b[1;33m\u001b[0m\u001b[0m\n\u001b[0;32m    126\u001b[0m     \u001b[1;31m# All skimage root imports go here\u001b[0m\u001b[1;33m\u001b[0m\u001b[1;33m\u001b[0m\u001b[1;33m\u001b[0m\u001b[0m\n\u001b[1;32m--> 127\u001b[1;33m     from .util.dtype import (img_as_float32,\n\u001b[0m\u001b[0;32m    128\u001b[0m                              \u001b[0mimg_as_float64\u001b[0m\u001b[1;33m,\u001b[0m\u001b[1;33m\u001b[0m\u001b[1;33m\u001b[0m\u001b[0m\n\u001b[0;32m    129\u001b[0m                              \u001b[0mimg_as_float\u001b[0m\u001b[1;33m,\u001b[0m\u001b[1;33m\u001b[0m\u001b[1;33m\u001b[0m\u001b[0m\n",
      "\u001b[1;32mc:\\users\\administrator\\appdata\\local\\programs\\python\\python37\\lib\\site-packages\\skimage\\util\\__init__.py\u001b[0m in \u001b[0;36m<module>\u001b[1;34m\u001b[0m\n\u001b[0;32m     15\u001b[0m \u001b[1;32mfrom\u001b[0m \u001b[1;33m.\u001b[0m\u001b[0m_invert\u001b[0m \u001b[1;32mimport\u001b[0m \u001b[0minvert\u001b[0m\u001b[1;33m\u001b[0m\u001b[1;33m\u001b[0m\u001b[0m\n\u001b[0;32m     16\u001b[0m \u001b[1;32mfrom\u001b[0m \u001b[1;33m.\u001b[0m\u001b[0m_montage\u001b[0m \u001b[1;32mimport\u001b[0m \u001b[0mmontage\u001b[0m\u001b[1;33m\u001b[0m\u001b[1;33m\u001b[0m\u001b[0m\n\u001b[1;32m---> 17\u001b[1;33m \u001b[1;32mfrom\u001b[0m \u001b[1;33m.\u001b[0m\u001b[0m_map_array\u001b[0m \u001b[1;32mimport\u001b[0m \u001b[0mmap_array\u001b[0m\u001b[1;33m\u001b[0m\u001b[1;33m\u001b[0m\u001b[0m\n\u001b[0m\u001b[0;32m     18\u001b[0m \u001b[1;33m\u001b[0m\u001b[0m\n\u001b[0;32m     19\u001b[0m \u001b[1;33m\u001b[0m\u001b[0m\n",
      "\u001b[1;32mc:\\users\\administrator\\appdata\\local\\programs\\python\\python37\\lib\\site-packages\\skimage\\util\\_map_array.py\u001b[0m in \u001b[0;36m<module>\u001b[1;34m\u001b[0m\n\u001b[0;32m      1\u001b[0m \u001b[1;32mimport\u001b[0m \u001b[0mnumpy\u001b[0m \u001b[1;32mas\u001b[0m \u001b[0mnp\u001b[0m\u001b[1;33m\u001b[0m\u001b[1;33m\u001b[0m\u001b[0m\n\u001b[1;32m----> 2\u001b[1;33m \u001b[1;32mfrom\u001b[0m \u001b[1;33m.\u001b[0m\u001b[0m_remap\u001b[0m \u001b[1;32mimport\u001b[0m \u001b[0m_map_array\u001b[0m\u001b[1;33m\u001b[0m\u001b[1;33m\u001b[0m\u001b[0m\n\u001b[0m\u001b[0;32m      3\u001b[0m \u001b[1;33m\u001b[0m\u001b[0m\n\u001b[0;32m      4\u001b[0m \u001b[1;33m\u001b[0m\u001b[0m\n\u001b[0;32m      5\u001b[0m \u001b[1;32mdef\u001b[0m \u001b[0mmap_array\u001b[0m\u001b[1;33m(\u001b[0m\u001b[0minput_arr\u001b[0m\u001b[1;33m,\u001b[0m \u001b[0minput_vals\u001b[0m\u001b[1;33m,\u001b[0m \u001b[0moutput_vals\u001b[0m\u001b[1;33m,\u001b[0m \u001b[0mout\u001b[0m\u001b[1;33m=\u001b[0m\u001b[1;32mNone\u001b[0m\u001b[1;33m)\u001b[0m\u001b[1;33m:\u001b[0m\u001b[1;33m\u001b[0m\u001b[1;33m\u001b[0m\u001b[0m\n",
      "\u001b[1;31mImportError\u001b[0m: DLL load failed: 找不到指定的模块。"
     ]
    }
   ],
   "source": [
    "import os\n",
    "import sys\n",
    "import numpy as np\n",
    "from skimage import color"
   ]
  },
  {
   "cell_type": "code",
   "execution_count": null,
   "metadata": {},
   "outputs": [],
   "source": [
    "class PaletteEmbeddingModel(object):\n",
    "    def __init__(self):\n",
    "    \"\"\"Inits PaletteEmbeddingModel with the demo saved model.\"\"\"\n",
    "    self._sess = tf.Session(graph=tf.Graph())\n",
    "    meta_graph_def = tf.saved_model.loader.load(self._sess, [TAG], MODEL_DIR)\n",
    "    signature = meta_graph_def.signature_def\n",
    "    in_tensor_name = signature[SIGNATURE_KEY].inputs[IN_TENSOR_KEY].name\n",
    "    out_tensor_name = signature[SIGNATURE_KEY].outputs[OUT_TENSOR_KEY].name\n",
    "    self._in_tensor = self._sess.graph.get_tensor_by_name(in_tensor_name)\n",
    "    self._out_tensor = self._sess.graph.get_tensor_by_name(out_tensor_name)\n",
    "\n",
    "  def BatchEmbed(self, palettes):\n",
    "    \"\"\"Returns the embedding of a list of color palettes.\n",
    "\n",
    "    Args:\n",
    "      palettes: A list of strings each representing a 5-color palette.\n",
    "\n",
    "    Returns:\n",
    "      A list of 15-D numpy arrays. The size of the list is equal to the size of\n",
    "      the input palette list.\n",
    "    \"\"\"\n",
    "    rgb_palettes = [GetPaletteFromString(palette) for palette in palettes]\n",
    "    lab_palettes = ConvertPalettesToLab(rgb_palettes)\n",
    "    in_tensors = [lab_palette.flatten() for lab_palette in lab_palettes]\n",
    "    return self._sess.run(self._out_tensor, {self._in_tensor: in_tensors})"
   ]
  },
  {
   "cell_type": "code",
   "execution_count": 2,
   "metadata": {},
   "outputs": [],
   "source": [
    "rgb_palettes = [[(10, 245, 66)  , (238, 234, 230) ,  (231, 50, 18)   ,   (85, 231, 215)  ,    (89, 67, 86)],\n",
    "[(19, 134, 15)  , (17, 18, 18)    ,  (173, 242, 238) ,     (228, 61, 83) ,    (244, 159, 29)],\n",
    "[(41, 112, 238) ,  (171, 26, 22)  ,  (227, 233, 226) ,    (236, 158, 30) ,    (58, 54, 64)],\n",
    "[(31, 97, 210)  , (171, 37, 52)   ,  (191, 231, 225) ,    (54, 204, 29)  ,    (232, 150, 28)],\n",
    "[(245, 160, 30) , (236, 238, 236) ,   (22, 160, 18)  ,    (69, 104, 240) ,     (65, 52, 46)],\n",
    "[(146, 11, 6)   ,(62, 244, 106)   ,   (203, 202, 196),     (237, 161, 33),    (204, 80, 154)],\n",
    "[(142, 249, 248),  (95, 102, 240) ,   (23, 23, 26)   ,    (220, 65, 42)  ,     (46, 209, 48)],\n",
    "[(172, 37, 19)  ,(22, 26, 23)     ,   (158, 236, 234),     (134, 82, 214),    (41, 181, 47)],\n",
    "[(45, 24, 20)   ,(212, 85, 176)   ,   (163, 244, 241),    (94, 179, 23)  ,   (37, 87, 198)],\n",
    "[(14, 14, 15)   ,(74, 86, 183)    , (193, 72, 19)    ,   (199, 248, 248) ,      (37, 124, 48)]]\n"
   ]
  },
  {
   "cell_type": "code",
   "execution_count": null,
   "metadata": {},
   "outputs": [],
   "source": [
    "scaled_palettes = np.array(rgb_palettes) / 255.0\n",
    "lab-palettes = "
   ]
  },
  {
   "cell_type": "code",
   "execution_count": null,
   "metadata": {},
   "outputs": [],
   "source": [
    "scaled_palettes = np.array(rgb_palettes) / 255.0\n",
    "  return color.rgb2lab(scaled_palettes)"
   ]
  },
  {
   "cell_type": "code",
   "execution_count": null,
   "metadata": {},
   "outputs": [],
   "source": []
  }
 ],
 "metadata": {
  "kernelspec": {
   "display_name": "Python 3",
   "language": "python",
   "name": "python3"
  },
  "language_info": {
   "codemirror_mode": {
    "name": "ipython",
    "version": 3
   },
   "file_extension": ".py",
   "mimetype": "text/x-python",
   "name": "python",
   "nbconvert_exporter": "python",
   "pygments_lexer": "ipython3",
   "version": "3.7.9"
  }
 },
 "nbformat": 4,
 "nbformat_minor": 4
}
