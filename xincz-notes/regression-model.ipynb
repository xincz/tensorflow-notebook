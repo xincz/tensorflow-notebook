{
 "cells": [
  {
   "cell_type": "markdown",
   "metadata": {},
   "source": [
    "## Preparation"
   ]
  },
  {
   "cell_type": "code",
   "execution_count": 2,
   "metadata": {},
   "outputs": [
    {
     "name": "stdout",
     "output_type": "stream",
     "text": [
      "2.0.0\n",
      "sys.version_info(major=3, minor=7, micro=9, releaselevel='final', serial=0)\n",
      "matplotlib 3.3.3\n",
      "numpy 1.18.4\n",
      "pandas 1.2.0\n",
      "sklearn 0.24.0\n",
      "tensorflow 2.0.0\n",
      "tensorflow_core.keras 2.2.4-tf\n"
     ]
    }
   ],
   "source": [
    "import matplotlib as mpl\n",
    "import matplotlib.pyplot as plt\n",
    "%matplotlib inline\n",
    "import numpy as np\n",
    "import pandas as pd\n",
    "import sklearn\n",
    "import os\n",
    "import sys\n",
    "import time\n",
    "import tensorflow as tf\n",
    "from tensorflow import keras\n",
    "\n",
    "print(tf.__version__)\n",
    "print(sys.version_info)\n",
    "for module in mpl, np, pd, sklearn, tf, keras:\n",
    "    print(module.__name__, module.__version__)"
   ]
  },
  {
   "cell_type": "code",
   "execution_count": null,
   "metadata": {},
   "outputs": [],
   "source": [
    "from sklearn.datasets import fetch_california_housing\n",
    "housing = fetch_california_housing()\n",
    "# print(housing.DESCR)\n",
    "print(housing.data.shape)\n",
    "print(housing.target.shape)"
   ]
  },
  {
   "cell_type": "code",
   "execution_count": 3,
   "metadata": {},
   "outputs": [
    {
     "name": "stdout",
     "output_type": "stream",
     "text": [
      "(11610, 8) (11610,)\n",
      "(3870, 8) (3870,)\n",
      "(5160, 8) (5160,)\n"
     ]
    }
   ],
   "source": [
    "from sklearn.model_selection import train_test_split\n",
    "xtrain_all, xtest, ytrain_all, ytest = train_test_split(housing.data, housing.target, random_state=7)\n",
    "xtrain, xvalid, ytrain, yvalid = train_test_split(xtrain_all ,ytrain_all, random_state=11)\n",
    "\n",
    "print(xtrain.shape, ytrain.shape)\n",
    "print(xvalid.shape, yvalid.shape)\n",
    "print(xtest.shape, ytest.shape)"
   ]
  },
  {
   "cell_type": "markdown",
   "metadata": {},
   "source": [
    "## Normalization"
   ]
  },
  {
   "cell_type": "code",
   "execution_count": 4,
   "metadata": {},
   "outputs": [],
   "source": [
    "from sklearn.preprocessing import StandardScaler\n",
    "scaler = StandardScaler()\n",
    "xtrain_scaled = scaler.fit_transform(xtrain)\n",
    "xvalid_scaled= scaler.transform(xvalid)\n",
    "xtest_scaled = scaler.transform(xtest)"
   ]
  },
  {
   "cell_type": "markdown",
   "metadata": {},
   "source": [
    "## Modeling"
   ]
  },
  {
   "cell_type": "code",
   "execution_count": 6,
   "metadata": {},
   "outputs": [],
   "source": [
    "# Sklearn HP search\n",
    "# 1. 转化为 sklearn model\n",
    "# 2. 定义参数集合\n",
    "# 3. 搜索参数\n",
    "def build_model(hidden_layers=1, layer_size=30, learning_rate=3e-3):\n",
    "    model = keras.models.Sequential()\n",
    "    model.add(keras.layers.Dense(layer_size, activation='relu', input_shape=xtrain.shape[1:]))\n",
    "    for _ in range(hidden_layers - 1):\n",
    "        model.add(keras.layers.Dense(layer_size, activation='relu'))\n",
    "\n",
    "    model.add(keras.layers.Dense(1))\n",
    "    optimizer = keras.optimizers.SGD(learning_rate)\n",
    "    model.compile(loss=\"mse\", optimizer=optimizer)\n",
    "    return model\n",
    "\n",
    "\n",
    "# callbacks = [keras.callbacks.EarlyStopping(patience=5, min_delta=1e-2)]\n",
    "# sklearn_model = keras.wrappers.scikit_learn.KerasRegressor(build_model)\n",
    "# history = sklearn_model.fit(xtrain_scaled, ytrain, \n",
    "#                             epochs=100, \n",
    "#                             validation_data=(xvalid_scaled, yvalid),\n",
    "#                             callbacks=callbacks)"
   ]
  },
  {
   "cell_type": "markdown",
   "metadata": {},
   "source": [
    "### Customized loss"
   ]
  },
  {
   "cell_type": "code",
   "execution_count": 10,
   "metadata": {},
   "outputs": [
    {
     "name": "stdout",
     "output_type": "stream",
     "text": [
      "Model: \"sequential_2\"\n",
      "_________________________________________________________________\n",
      "Layer (type)                 Output Shape              Param #   \n",
      "=================================================================\n",
      "dense_4 (Dense)              (None, 30)                270       \n",
      "_________________________________________________________________\n",
      "dense_5 (Dense)              (None, 1)                 31        \n",
      "=================================================================\n",
      "Total params: 301\n",
      "Trainable params: 301\n",
      "Non-trainable params: 0\n",
      "_________________________________________________________________\n"
     ]
    }
   ],
   "source": [
    "## Custom loss\n",
    "def customized_mse(y_true, y_pred):\n",
    "    return tf.reduce_mean(tf.square(y_pred - y_true))\n",
    "\n",
    "# Original model\n",
    "model = keras.models.Sequential([\n",
    "    keras.layers.Dense(30, activation='relu', input_shape=xtrain.shape[1:]),\n",
    "    keras.layers.Dense(1),\n",
    "])\n",
    "\n",
    "model.summary()\n",
    "# model.compile(loss=\"mean_squared_error\", optimizer='sgd')\n",
    "model.compile(loss=customized_mse, optimizer='sgd')\n",
    "callbacks = [keras.callbacks.EarlyStopping(patience=5, min_delta=1e-5)]"
   ]
  },
  {
   "cell_type": "markdown",
   "metadata": {},
   "source": [
    "### Customized layer"
   ]
  },
  {
   "cell_type": "code",
   "execution_count": 9,
   "metadata": {},
   "outputs": [],
   "source": [
    "# tf.nn.softplus: log(1+e^x)  平滑版的 relu\n",
    "customized_softplus = keras.layers.Lambda(lambda x: tf.nn.softplus(x))\n",
    "\n",
    "class CustomizedDenseLayer(keras.layers.Layer):\n",
    "    def __init__(self, units, activation=None, **kwargs):\n",
    "        self.units = units  # number of nodes\n",
    "        self.activation = keras.layers.Activation(activation)\n",
    "        super(CustomizedDenseLayer, self).__init__(**kwargs)\n",
    "    \n",
    "    def build(self, input_shape):\n",
    "        \"\"\"Construct parameters\"\"\"\n",
    "        self.kernel = self.add_weight(\n",
    "            name=\"kernel\", \n",
    "            shape=(input_shape[1], self.units),\n",
    "            initializer=\"uniform\",\n",
    "            trainable=True)  # 在训练过程中可变\n",
    "        self.bias = self.add_weight(\n",
    "            name=\"bias\",\n",
    "            shape=(self.units,),\n",
    "            initializer=\"zeros\",\n",
    "            trainable=True)  # 在训练过程中可变\n",
    "        super(CustomizedDenseLayer, self).build(input_shape)\n",
    "\n",
    "    ## call方法是自动被调用的，即如果你把这个类当做函数，后面写上括号，会自动调用 call 方法！\n",
    "    def call(self, x):\n",
    "        \"\"\"正向计算，从输入到输出\"\"\"\n",
    "        return self.activation(x@self.kernel + self.bias)\n",
    "\n",
    "\n",
    "model = keras.models.Sequential([\n",
    "    CustomizedDenseLayer(30, activation='relu', input_shape=xtrain.shape[1:]),\n",
    "    CustomizedDenseLayer(1),\n",
    "    customized_softplus\n",
    "    # keras.layers.Dense(1, activation=\"softplus\")\n",
    "    # keras.layers.Dense(1), keras.layers.Activation(\"softplus\")\n",
    "])\n",
    "model.summary()\n",
    "model.compile(loss=customized_mse, optimizer='sgd', metrics=[\"mean_squared_error\"])\n",
    "callbacks = [keras.callbacks.EarlyStopping(patience=5, min_delta=1e-5)]"
   ]
  },
  {
   "cell_type": "markdown",
   "metadata": {},
   "source": [
    "## Training"
   ]
  },
  {
   "cell_type": "code",
   "execution_count": null,
   "metadata": {},
   "outputs": [],
   "source": [
    "history = model.fit(xtrain_scaled, ytrain,\n",
    "                    validation_data=(xvalid_scaled, yvalid),\n",
    "                    epochs=100,\n",
    "                    callbacks=callbacks)"
   ]
  },
  {
   "cell_type": "markdown",
   "metadata": {},
   "source": [
    "## Evaluation"
   ]
  },
  {
   "cell_type": "code",
   "execution_count": null,
   "metadata": {},
   "outputs": [],
   "source": [
    "def plot_learning_curves(history):\n",
    "    pd.DataFrame(history.history).plot(figsize=(8, 5))\n",
    "    plt.grid(True)\n",
    "    plt.gca().set_ylim(0, 1)\n",
    "    plt.show()\n",
    "    \n",
    "plot_learning_curves(history)"
   ]
  },
  {
   "cell_type": "code",
   "execution_count": null,
   "metadata": {},
   "outputs": [],
   "source": [
    "model.evaluate(xtest_scaled, ytest, verbose=0)"
   ]
  },
  {
   "cell_type": "code",
   "execution_count": null,
   "metadata": {},
   "outputs": [],
   "source": [
    "from scipy.stats import reciprocal  # 定义搜索空间\n",
    "# f(x) = 1/(x*log(b/a)) a <= x <= b\n",
    "\n",
    "param_distribution = {\n",
    "    \"hidden_layers\": [1, 2, 3, 4],\n",
    "    \"layer_size\": np.arange(1, 100),\n",
    "    \"learning_rate\": reciprocal(1e-4, 1e-2)\n",
    "}\n",
    "\n",
    "# RandomizedSearchCV\n",
    "from sklearn.model_selection import RandomizedSearchCV\n",
    "random_search_cv = RandomizedSearchCV(sklearn_model, param_distribution,\n",
    "                                      n_iter=10, n_jobs=1)\n",
    "random_search_cv.fit(xtrain_scaled, ytrain, epochs=100,\n",
    "                     validation_data=(xvalid_scaled, yvalid),\n",
    "                     callbacks=callbacks)\n",
    "\n",
    "# 会使用 cross_validation"
   ]
  },
  {
   "cell_type": "code",
   "execution_count": null,
   "metadata": {},
   "outputs": [],
   "source": [
    "print(random_search_cv.best_params_)\n",
    "print(random_search_cv.best_score_)\n",
    "print(random_search_cv.best_estimator_)"
   ]
  },
  {
   "cell_type": "code",
   "execution_count": null,
   "metadata": {},
   "outputs": [],
   "source": [
    "model = random_search_cv.best_estimator_.model\n",
    "model.evaluate(xtest_scaled, ytest)"
   ]
  }
 ],
 "metadata": {
  "kernelspec": {
   "display_name": "Python 3",
   "language": "python",
   "name": "python3"
  },
  "language_info": {
   "codemirror_mode": {
    "name": "ipython",
    "version": 3
   },
   "file_extension": ".py",
   "mimetype": "text/x-python",
   "name": "python",
   "nbconvert_exporter": "python",
   "pygments_lexer": "ipython3",
   "version": "3.7.9"
  }
 },
 "nbformat": 4,
 "nbformat_minor": 4
}
