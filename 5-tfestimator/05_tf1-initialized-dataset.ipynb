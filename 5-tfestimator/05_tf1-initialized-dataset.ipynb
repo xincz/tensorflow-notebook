{
 "cells": [
  {
   "cell_type": "code",
   "execution_count": 3,
   "metadata": {},
   "outputs": [
    {
     "name": "stdout",
     "output_type": "stream",
     "text": [
      "2.4.0\n",
      "sys.version_info(major=3, minor=7, micro=9, releaselevel='final', serial=0)\n",
      "matplotlib 3.3.3\n",
      "numpy 1.19.2\n",
      "pandas 1.2.0\n",
      "sklearn 0.24.0\n",
      "tensorflow 2.4.0\n",
      "tensorflow.keras 2.4.0\n"
     ]
    }
   ],
   "source": [
    "import matplotlib as mpl\n",
    "import matplotlib.pyplot as plt\n",
    "%matplotlib inline\n",
    "import numpy as np\n",
    "import pandas as pd\n",
    "import sklearn\n",
    "import os\n",
    "import sys\n",
    "import time\n",
    "import tensorflow as tf\n",
    "from tensorflow import keras\n",
    "\n",
    "print(tf.__version__)\n",
    "print(sys.version_info)\n",
    "for module in mpl, np, pd, sklearn, tf, keras:\n",
    "    print(module.__name__, module.__version__)"
   ]
  },
  {
   "cell_type": "code",
   "execution_count": null,
   "metadata": {},
   "outputs": [],
   "source": [
    "fashion_mnist = keras.datasets.fashion_mnist\n",
    "(xtrain_all, ytrain_all), (xtest, ytest) = fashion_mnist.load_data()\n",
    "xvalid, xtrain = xtrain_all[:5000], xtrain_all[5000:]\n",
    "yvalid, ytrain = ytrain_all[:5000], ytrain_all[5000:]\n",
    "\n",
    "print(xvalid.shape, yvalid.shape)\n",
    "print(xtrain.shape, ytrain.shape)\n",
    "print(xtest.shape, ytest.shape)"
   ]
  },
  {
   "cell_type": "code",
   "execution_count": null,
   "metadata": {},
   "outputs": [],
   "source": [
    "print(np.max(xtrain), np.min(xtrain))"
   ]
  },
  {
   "cell_type": "code",
   "execution_count": null,
   "metadata": {},
   "outputs": [],
   "source": [
    "# Normalization\n",
    "# x = (x - u) / std\n",
    "from sklearn.preprocessing import StandardScaler\n",
    "\n",
    "scaler = StandardScaler()\n",
    "# xtrain [None, 28, 28] => [None, 784]\n",
    "xtrain_scaled = scaler.fit_transform(\n",
    "    xtrain.astype(np.float32).reshape(-1, 1)).reshape(-1, 28 * 28)\n",
    "xvalid_scaled = scaler.transform(\n",
    "    xvalid.astype(np.float32).reshape(-1, 1)).reshape(-1, 28 * 28)\n",
    "xtest_scaled = scaler.transform(\n",
    "    xtest.astype(np.float32).reshape(-1, 1)).reshape(-1, 28 * 28)\n",
    "\n",
    "y_train = np.asarray(y_train, dtype = np.int64)\n",
    "y_valid = np.asarray(y_valid, dtype = np.int64)\n",
    "y_test = np.asarray(y_test, dtype = np.int64)"
   ]
  },
  {
   "cell_type": "code",
   "execution_count": null,
   "metadata": {},
   "outputs": [],
   "source": [
    "print(np.max(xtrain_scaled), np.min(xtrain_scaled))"
   ]
  },
  {
   "cell_type": "markdown",
   "metadata": {},
   "source": [
    "### 在归一化后构建 dataset"
   ]
  },
  {
   "cell_type": "code",
   "execution_count": null,
   "metadata": {},
   "outputs": [],
   "source": [
    "def make_dataset(images, labels, epochs, batch_size, shuffle=True):\n",
    "    dataset = tf.data.Dataset.from_tensor_slices((images, labels))\n",
    "    if shuffle:\n",
    "        dataset = dataset.shuffle(10000)\n",
    "    dataset = dataset.repeat(epochs).batch(batch_size)\n",
    "    return dataset"
   ]
  },
  {
   "cell_type": "code",
   "execution_count": null,
   "metadata": {},
   "outputs": [],
   "source": [
    "batch_size = 20\n",
    "epochs = 10\n",
    "\n",
    "images_placeholder = tf.placeholder(tf.float32, [None, 28 * 28])\n",
    "labels_placeholder = tf.placeholder(tf.int64, (None,))\n",
    "\n",
    "dataset = make_dataset(images_placeholder, labels_placeholder,\n",
    "                       epochs = epochs,\n",
    "                       batch_size = batch_size)\n",
    "\n",
    "# make_initializable_iterator 可以重复初始化，这样数据是变化的\n",
    "dataset_iter = dataset.make_initializable_iterator()\n",
    "x, y = dataset_iter.get_next()\n",
    "with tf.Session() as sess:\n",
    "    sess.run(dataset_iter.initializer,\n",
    "             feed_dict = {\n",
    "                 images_placeholder: x_train_scaled,\n",
    "                 labels_placeholder: y_train\n",
    "             })\n",
    "    x_val, y_val = sess.run([x, y])\n",
    "    print(x_val.shape)\n",
    "    print(y_val.shape)\n",
    "    sess.run(dataset_iter.initializer,\n",
    "             feed_dict = {\n",
    "                 images_placeholder: x_valid_scaled,\n",
    "                 labels_placeholder: y_valid,\n",
    "             })\n",
    "    x_val, y_val = sess.run([x, y])\n",
    "    print(x_val.shape)\n",
    "    print(y_val.shape)"
   ]
  },
  {
   "cell_type": "code",
   "execution_count": null,
   "metadata": {},
   "outputs": [],
   "source": []
  }
 ],
 "metadata": {
  "kernelspec": {
   "display_name": "tf-1.3",
   "language": "python",
   "name": "tensorflow-1.3"
  },
  "language_info": {
   "codemirror_mode": {
    "name": "ipython",
    "version": 3
   },
   "file_extension": ".py",
   "mimetype": "text/x-python",
   "name": "python",
   "nbconvert_exporter": "python",
   "pygments_lexer": "ipython3",
   "version": "3.7.9"
  }
 },
 "nbformat": 4,
 "nbformat_minor": 4
}
