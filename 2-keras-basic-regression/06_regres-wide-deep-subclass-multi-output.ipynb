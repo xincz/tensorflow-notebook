{
 "cells": [
  {
   "cell_type": "code",
   "execution_count": 1,
   "metadata": {
    "ExecuteTime": {
     "end_time": "2020-11-30T09:27:38.855143Z",
     "start_time": "2020-11-30T09:27:36.162671Z"
    }
   },
   "outputs": [
    {
     "name": "stdout",
     "output_type": "stream",
     "text": [
      "2.3.1\n",
      "sys.version_info(major=3, minor=6, micro=7, releaselevel='final', serial=0)\n",
      "matplotlib 3.3.2\n",
      "numpy 1.18.4\n",
      "pandas 1.1.4\n",
      "sklearn 0.23.2\n",
      "tensorflow 2.3.1\n",
      "tensorflow.keras 2.4.0\n"
     ]
    }
   ],
   "source": [
    "import matplotlib as mpl\n",
    "import matplotlib.pyplot as plt\n",
    "%matplotlib inline\n",
    "import numpy as np\n",
    "import pandas as pd\n",
    "import sklearn\n",
    "import os\n",
    "import sys\n",
    "import time\n",
    "import tensorflow as tf\n",
    "from tensorflow import keras\n",
    "\n",
    "print(tf.__version__)\n",
    "print(sys.version_info)\n",
    "for module in mpl, np, pd, sklearn, tf, keras:\n",
    "    print(module.__name__, module.__version__)"
   ]
  },
  {
   "cell_type": "code",
   "execution_count": 2,
   "metadata": {
    "ExecuteTime": {
     "end_time": "2020-11-30T09:27:38.919064Z",
     "start_time": "2020-11-30T09:27:38.857089Z"
    }
   },
   "outputs": [
    {
     "name": "stdout",
     "output_type": "stream",
     "text": [
      ".. _california_housing_dataset:\n",
      "\n",
      "California Housing dataset\n",
      "--------------------------\n",
      "\n",
      "**Data Set Characteristics:**\n",
      "\n",
      "    :Number of Instances: 20640\n",
      "\n",
      "    :Number of Attributes: 8 numeric, predictive attributes and the target\n",
      "\n",
      "    :Attribute Information:\n",
      "        - MedInc        median income in block\n",
      "        - HouseAge      median house age in block\n",
      "        - AveRooms      average number of rooms\n",
      "        - AveBedrms     average number of bedrooms\n",
      "        - Population    block population\n",
      "        - AveOccup      average house occupancy\n",
      "        - Latitude      house block latitude\n",
      "        - Longitude     house block longitude\n",
      "\n",
      "    :Missing Attribute Values: None\n",
      "\n",
      "This dataset was obtained from the StatLib repository.\n",
      "http://lib.stat.cmu.edu/datasets/\n",
      "\n",
      "The target variable is the median house value for California districts.\n",
      "\n",
      "This dataset was derived from the 1990 U.S. census, using one row per census\n",
      "block group. A block group is the smallest geographical unit for which the U.S.\n",
      "Census Bureau publishes sample data (a block group typically has a population\n",
      "of 600 to 3,000 people).\n",
      "\n",
      "It can be downloaded/loaded using the\n",
      ":func:`sklearn.datasets.fetch_california_housing` function.\n",
      "\n",
      ".. topic:: References\n",
      "\n",
      "    - Pace, R. Kelley and Ronald Barry, Sparse Spatial Autoregressions,\n",
      "      Statistics and Probability Letters, 33 (1997) 291-297\n",
      "\n",
      "(20640, 8)\n",
      "(20640,)\n"
     ]
    }
   ],
   "source": [
    "from sklearn.datasets import fetch_california_housing\n",
    "housing = fetch_california_housing()\n",
    "print(housing.DESCR)\n",
    "print(housing.data.shape)\n",
    "print(housing.target.shape)"
   ]
  },
  {
   "cell_type": "code",
   "execution_count": 3,
   "metadata": {
    "ExecuteTime": {
     "end_time": "2020-11-30T09:27:38.965061Z",
     "start_time": "2020-11-30T09:27:38.924062Z"
    }
   },
   "outputs": [
    {
     "name": "stdout",
     "output_type": "stream",
     "text": [
      "(11610, 8) (11610,)\n",
      "(3870, 8) (3870,)\n",
      "(5160, 8) (5160,)\n"
     ]
    }
   ],
   "source": [
    "from sklearn.model_selection import train_test_split\n",
    "\n",
    "xtrain_all, xtest, ytrain_all, ytest = train_test_split(\n",
    "    housing.data, housing.target, random_state=7)\n",
    "xtrain, xvalid, ytrain, yvalid = train_test_split(\n",
    "    xtrain_all ,ytrain_all, random_state=11)\n",
    "print(xtrain.shape, ytrain.shape)\n",
    "print(xvalid.shape, yvalid.shape)\n",
    "print(xtest.shape, ytest.shape)"
   ]
  },
  {
   "cell_type": "code",
   "execution_count": 4,
   "metadata": {
    "ExecuteTime": {
     "end_time": "2020-11-30T09:27:38.981221Z",
     "start_time": "2020-11-30T09:27:38.967065Z"
    }
   },
   "outputs": [],
   "source": [
    "from sklearn.preprocessing import StandardScaler\n",
    "scaler = StandardScaler()\n",
    "xtrain_scaled = scaler.fit_transform(xtrain)\n",
    "xvalid_scaled= scaler.transform(xvalid)\n",
    "xtest_scaled = scaler.transform(xtest)"
   ]
  },
  {
   "cell_type": "code",
   "execution_count": 5,
   "metadata": {
    "ExecuteTime": {
     "end_time": "2020-11-30T09:27:39.091124Z",
     "start_time": "2020-11-30T09:27:38.984066Z"
    }
   },
   "outputs": [
    {
     "name": "stdout",
     "output_type": "stream",
     "text": [
      "Model: \"functional_1\"\n",
      "__________________________________________________________________________________________________\n",
      "Layer (type)                    Output Shape         Param #     Connected to                     \n",
      "==================================================================================================\n",
      "input_2 (InputLayer)            [(None, 6)]          0                                            \n",
      "__________________________________________________________________________________________________\n",
      "dense (Dense)                   (None, 30)           210         input_2[0][0]                    \n",
      "__________________________________________________________________________________________________\n",
      "input_1 (InputLayer)            [(None, 5)]          0                                            \n",
      "__________________________________________________________________________________________________\n",
      "dense_1 (Dense)                 (None, 30)           930         dense[0][0]                      \n",
      "__________________________________________________________________________________________________\n",
      "concatenate (Concatenate)       (None, 35)           0           input_1[0][0]                    \n",
      "                                                                 dense_1[0][0]                    \n",
      "__________________________________________________________________________________________________\n",
      "dense_2 (Dense)                 (None, 1)            36          concatenate[0][0]                \n",
      "__________________________________________________________________________________________________\n",
      "dense_3 (Dense)                 (None, 1)            31          dense_1[0][0]                    \n",
      "==================================================================================================\n",
      "Total params: 1,207\n",
      "Trainable params: 1,207\n",
      "Non-trainable params: 0\n",
      "__________________________________________________________________________________________________\n"
     ]
    }
   ],
   "source": [
    "# 多输入\n",
    "input_wide = keras.layers.Input(shape=[5])\n",
    "input_deep = keras.layers.Input(shape=[6])\n",
    "hidden1 = keras.layers.Dense(30, activation='relu')(input_deep)\n",
    "hidden2 = keras.layers.Dense(30, activation='relu')(hidden1)\n",
    "concat = keras.layers.concatenate([input_wide, hidden2])\n",
    "output = keras.layers.Dense(1)(concat)  # 需要调用\n",
    "output2 = keras.layers.Dense(1)(hidden2)\n",
    "model = keras.models.Model(inputs=[input_wide, input_deep], \n",
    "                           outputs=[output, output2])\n",
    "\n",
    "model.summary()\n",
    "model.compile(loss=\"mean_squared_error\", \n",
    "              optimizer = keras.optimizers.SGD(0.001))\n",
    "callbacks = [keras.callbacks.EarlyStopping(patience=5, min_delta=1e-5)]"
   ]
  },
  {
   "cell_type": "code",
   "execution_count": 7,
   "metadata": {
    "ExecuteTime": {
     "end_time": "2020-11-30T09:28:41.041902Z",
     "start_time": "2020-11-30T09:28:04.271977Z"
    }
   },
   "outputs": [
    {
     "name": "stdout",
     "output_type": "stream",
     "text": [
      "Epoch 1/100\n",
      "363/363 [==============================] - 0s 1ms/step - loss: 4.0472 - dense_2_loss: 1.9377 - dense_3_loss: 2.1095 - val_loss: 2.3443 - val_dense_2_loss: 0.9655 - val_dense_3_loss: 1.3788\n",
      "Epoch 2/100\n",
      "363/363 [==============================] - 0s 851us/step - loss: 1.9294 - dense_2_loss: 0.7717 - dense_3_loss: 1.1577 - val_loss: 1.8893 - val_dense_2_loss: 0.7417 - val_dense_3_loss: 1.1477\n",
      "Epoch 3/100\n",
      "363/363 [==============================] - 0s 858us/step - loss: 1.6414 - dense_2_loss: 0.6447 - dense_3_loss: 0.9967 - val_loss: 1.6464 - val_dense_2_loss: 0.6503 - val_dense_3_loss: 0.9962\n",
      "Epoch 4/100\n",
      "363/363 [==============================] - 0s 879us/step - loss: 1.4696 - dense_2_loss: 0.5890 - dense_3_loss: 0.8806 - val_loss: 1.5054 - val_dense_2_loss: 0.6111 - val_dense_3_loss: 0.8943\n",
      "Epoch 5/100\n",
      "363/363 [==============================] - 0s 854us/step - loss: 1.3540 - dense_2_loss: 0.5540 - dense_3_loss: 0.8000 - val_loss: 1.4011 - val_dense_2_loss: 0.5792 - val_dense_3_loss: 0.8218\n",
      "Epoch 6/100\n",
      "363/363 [==============================] - 0s 889us/step - loss: 1.2748 - dense_2_loss: 0.5311 - dense_3_loss: 0.7436 - val_loss: 1.3216 - val_dense_2_loss: 0.5520 - val_dense_3_loss: 0.7696\n",
      "Epoch 7/100\n",
      "363/363 [==============================] - 0s 1ms/step - loss: 1.2211 - dense_2_loss: 0.5123 - dense_3_loss: 0.7088 - val_loss: 1.2728 - val_dense_2_loss: 0.5357 - val_dense_3_loss: 0.7371\n",
      "Epoch 8/100\n",
      "363/363 [==============================] - 0s 1ms/step - loss: 1.1803 - dense_2_loss: 0.4997 - dense_3_loss: 0.6807 - val_loss: 1.2319 - val_dense_2_loss: 0.5211 - val_dense_3_loss: 0.7108\n",
      "Epoch 9/100\n",
      "363/363 [==============================] - 0s 1ms/step - loss: 1.1490 - dense_2_loss: 0.4882 - dense_3_loss: 0.6608 - val_loss: 1.2009 - val_dense_2_loss: 0.5097 - val_dense_3_loss: 0.6912\n",
      "Epoch 10/100\n",
      "363/363 [==============================] - 0s 975us/step - loss: 1.1224 - dense_2_loss: 0.4786 - dense_3_loss: 0.6438 - val_loss: 1.1842 - val_dense_2_loss: 0.5088 - val_dense_3_loss: 0.6754\n",
      "Epoch 11/100\n",
      "363/363 [==============================] - 0s 1ms/step - loss: 1.0984 - dense_2_loss: 0.4686 - dense_3_loss: 0.6297 - val_loss: 1.1594 - val_dense_2_loss: 0.4937 - val_dense_3_loss: 0.6657\n",
      "Epoch 12/100\n",
      "363/363 [==============================] - 0s 1ms/step - loss: 1.0803 - dense_2_loss: 0.4641 - dense_3_loss: 0.6162 - val_loss: 1.1327 - val_dense_2_loss: 0.4845 - val_dense_3_loss: 0.6482\n",
      "Epoch 13/100\n",
      "363/363 [==============================] - 0s 1ms/step - loss: 1.0612 - dense_2_loss: 0.4556 - dense_3_loss: 0.6055 - val_loss: 1.1162 - val_dense_2_loss: 0.4783 - val_dense_3_loss: 0.6379\n",
      "Epoch 14/100\n",
      "363/363 [==============================] - 0s 1ms/step - loss: 1.0457 - dense_2_loss: 0.4504 - dense_3_loss: 0.5953 - val_loss: 1.1028 - val_dense_2_loss: 0.4761 - val_dense_3_loss: 0.6267\n",
      "Epoch 15/100\n",
      "363/363 [==============================] - 0s 983us/step - loss: 1.0284 - dense_2_loss: 0.4433 - dense_3_loss: 0.5850 - val_loss: 1.0848 - val_dense_2_loss: 0.4646 - val_dense_3_loss: 0.6202\n",
      "Epoch 16/100\n",
      "363/363 [==============================] - 0s 1ms/step - loss: 1.0153 - dense_2_loss: 0.4388 - dense_3_loss: 0.5765 - val_loss: 1.0740 - val_dense_2_loss: 0.4668 - val_dense_3_loss: 0.6072\n",
      "Epoch 17/100\n",
      "363/363 [==============================] - 0s 1ms/step - loss: 1.0015 - dense_2_loss: 0.4333 - dense_3_loss: 0.5682 - val_loss: 1.0572 - val_dense_2_loss: 0.4554 - val_dense_3_loss: 0.6018\n",
      "Epoch 18/100\n",
      "363/363 [==============================] - 0s 1ms/step - loss: 0.9885 - dense_2_loss: 0.4281 - dense_3_loss: 0.5604 - val_loss: 1.0392 - val_dense_2_loss: 0.4492 - val_dense_3_loss: 0.5900\n",
      "Epoch 19/100\n",
      "363/363 [==============================] - 0s 975us/step - loss: 0.9773 - dense_2_loss: 0.4237 - dense_3_loss: 0.5535 - val_loss: 1.0308 - val_dense_2_loss: 0.4480 - val_dense_3_loss: 0.5828\n",
      "Epoch 20/100\n",
      "363/363 [==============================] - 0s 963us/step - loss: 0.9662 - dense_2_loss: 0.4189 - dense_3_loss: 0.5473 - val_loss: 1.0190 - val_dense_2_loss: 0.4412 - val_dense_3_loss: 0.5779\n",
      "Epoch 21/100\n",
      "363/363 [==============================] - 0s 994us/step - loss: 0.9553 - dense_2_loss: 0.4161 - dense_3_loss: 0.5391 - val_loss: 1.0052 - val_dense_2_loss: 0.4367 - val_dense_3_loss: 0.5685\n",
      "Epoch 22/100\n",
      "363/363 [==============================] - 0s 961us/step - loss: 0.9446 - dense_2_loss: 0.4113 - dense_3_loss: 0.5333 - val_loss: 0.9939 - val_dense_2_loss: 0.4297 - val_dense_3_loss: 0.5642\n",
      "Epoch 23/100\n",
      "363/363 [==============================] - 0s 985us/step - loss: 0.9366 - dense_2_loss: 0.4086 - dense_3_loss: 0.5280 - val_loss: 0.9845 - val_dense_2_loss: 0.4273 - val_dense_3_loss: 0.5572\n",
      "Epoch 24/100\n",
      "363/363 [==============================] - 0s 1ms/step - loss: 0.9267 - dense_2_loss: 0.4048 - dense_3_loss: 0.5218 - val_loss: 0.9720 - val_dense_2_loss: 0.4257 - val_dense_3_loss: 0.5463\n",
      "Epoch 25/100\n",
      "363/363 [==============================] - 0s 964us/step - loss: 0.9187 - dense_2_loss: 0.4015 - dense_3_loss: 0.5172 - val_loss: 0.9743 - val_dense_2_loss: 0.4265 - val_dense_3_loss: 0.5479\n",
      "Epoch 26/100\n",
      "363/363 [==============================] - 0s 1ms/step - loss: 0.9106 - dense_2_loss: 0.3990 - dense_3_loss: 0.5116 - val_loss: 0.9615 - val_dense_2_loss: 0.4239 - val_dense_3_loss: 0.5376\n",
      "Epoch 27/100\n",
      "363/363 [==============================] - 0s 1ms/step - loss: 0.9028 - dense_2_loss: 0.3958 - dense_3_loss: 0.5070 - val_loss: 0.9490 - val_dense_2_loss: 0.4163 - val_dense_3_loss: 0.5327\n",
      "Epoch 28/100\n",
      "363/363 [==============================] - 0s 1ms/step - loss: 0.8945 - dense_2_loss: 0.3923 - dense_3_loss: 0.5022 - val_loss: 0.9430 - val_dense_2_loss: 0.4113 - val_dense_3_loss: 0.5317\n",
      "Epoch 29/100\n",
      "363/363 [==============================] - 0s 1ms/step - loss: 0.8894 - dense_2_loss: 0.3908 - dense_3_loss: 0.4986 - val_loss: 0.9303 - val_dense_2_loss: 0.4091 - val_dense_3_loss: 0.5212\n",
      "Epoch 30/100\n",
      "363/363 [==============================] - 0s 958us/step - loss: 0.8813 - dense_2_loss: 0.3877 - dense_3_loss: 0.4936 - val_loss: 0.9259 - val_dense_2_loss: 0.4051 - val_dense_3_loss: 0.5209\n",
      "Epoch 31/100\n",
      "363/363 [==============================] - 0s 986us/step - loss: 0.8759 - dense_2_loss: 0.3857 - dense_3_loss: 0.4902 - val_loss: 0.9141 - val_dense_2_loss: 0.4030 - val_dense_3_loss: 0.5112\n",
      "Epoch 32/100\n",
      "363/363 [==============================] - 0s 950us/step - loss: 0.8684 - dense_2_loss: 0.3828 - dense_3_loss: 0.4856 - val_loss: 0.9053 - val_dense_2_loss: 0.3989 - val_dense_3_loss: 0.5065\n",
      "Epoch 33/100\n",
      "363/363 [==============================] - 0s 1ms/step - loss: 0.8624 - dense_2_loss: 0.3803 - dense_3_loss: 0.4820 - val_loss: 0.9101 - val_dense_2_loss: 0.4019 - val_dense_3_loss: 0.5082\n",
      "Epoch 34/100\n",
      "363/363 [==============================] - 0s 1ms/step - loss: 0.8566 - dense_2_loss: 0.3787 - dense_3_loss: 0.4780 - val_loss: 0.8962 - val_dense_2_loss: 0.3962 - val_dense_3_loss: 0.5001\n",
      "Epoch 35/100\n",
      "363/363 [==============================] - 0s 978us/step - loss: 0.8518 - dense_2_loss: 0.3763 - dense_3_loss: 0.4755 - val_loss: 0.8890 - val_dense_2_loss: 0.3917 - val_dense_3_loss: 0.4973\n",
      "Epoch 36/100\n",
      "363/363 [==============================] - 0s 983us/step - loss: 0.8448 - dense_2_loss: 0.3738 - dense_3_loss: 0.4710 - val_loss: 0.8848 - val_dense_2_loss: 0.3890 - val_dense_3_loss: 0.4958\n",
      "Epoch 37/100\n",
      "363/363 [==============================] - 0s 1ms/step - loss: 0.8407 - dense_2_loss: 0.3725 - dense_3_loss: 0.4682 - val_loss: 0.8806 - val_dense_2_loss: 0.3898 - val_dense_3_loss: 0.4908\n",
      "Epoch 38/100\n",
      "363/363 [==============================] - 0s 1ms/step - loss: 0.8376 - dense_2_loss: 0.3716 - dense_3_loss: 0.4660 - val_loss: 0.8756 - val_dense_2_loss: 0.3888 - val_dense_3_loss: 0.4868\n",
      "Epoch 39/100\n",
      "363/363 [==============================] - 0s 1ms/step - loss: 0.8329 - dense_2_loss: 0.3699 - dense_3_loss: 0.4630 - val_loss: 0.8685 - val_dense_2_loss: 0.3853 - val_dense_3_loss: 0.4832\n",
      "Epoch 40/100\n",
      "363/363 [==============================] - 0s 1ms/step - loss: 0.8244 - dense_2_loss: 0.3663 - dense_3_loss: 0.4581 - val_loss: 0.8704 - val_dense_2_loss: 0.3862 - val_dense_3_loss: 0.4842\n",
      "Epoch 41/100\n"
     ]
    },
    {
     "name": "stdout",
     "output_type": "stream",
     "text": [
      "363/363 [==============================] - 0s 992us/step - loss: 0.8212 - dense_2_loss: 0.3657 - dense_3_loss: 0.4555 - val_loss: 0.8594 - val_dense_2_loss: 0.3842 - val_dense_3_loss: 0.4752\n",
      "Epoch 42/100\n",
      "363/363 [==============================] - 0s 1ms/step - loss: 0.8184 - dense_2_loss: 0.3646 - dense_3_loss: 0.4538 - val_loss: 0.8560 - val_dense_2_loss: 0.3839 - val_dense_3_loss: 0.4721\n",
      "Epoch 43/100\n",
      "363/363 [==============================] - 0s 1ms/step - loss: 0.8110 - dense_2_loss: 0.3610 - dense_3_loss: 0.4500 - val_loss: 0.8491 - val_dense_2_loss: 0.3794 - val_dense_3_loss: 0.4698\n",
      "Epoch 44/100\n",
      "363/363 [==============================] - 0s 970us/step - loss: 0.8079 - dense_2_loss: 0.3604 - dense_3_loss: 0.4475 - val_loss: 0.8452 - val_dense_2_loss: 0.3805 - val_dense_3_loss: 0.4647\n",
      "Epoch 45/100\n",
      "363/363 [==============================] - 0s 1ms/step - loss: 0.8051 - dense_2_loss: 0.3588 - dense_3_loss: 0.4463 - val_loss: 0.8381 - val_dense_2_loss: 0.3732 - val_dense_3_loss: 0.4649\n",
      "Epoch 46/100\n",
      "363/363 [==============================] - 0s 1ms/step - loss: 0.8017 - dense_2_loss: 0.3582 - dense_3_loss: 0.4435 - val_loss: 0.8337 - val_dense_2_loss: 0.3719 - val_dense_3_loss: 0.4618\n",
      "Epoch 47/100\n",
      "363/363 [==============================] - 0s 978us/step - loss: 0.7970 - dense_2_loss: 0.3566 - dense_3_loss: 0.4404 - val_loss: 0.8321 - val_dense_2_loss: 0.3709 - val_dense_3_loss: 0.4611\n",
      "Epoch 48/100\n",
      "363/363 [==============================] - 0s 979us/step - loss: 0.7934 - dense_2_loss: 0.3551 - dense_3_loss: 0.4383 - val_loss: 0.8306 - val_dense_2_loss: 0.3710 - val_dense_3_loss: 0.4596\n",
      "Epoch 49/100\n",
      "363/363 [==============================] - 0s 994us/step - loss: 0.7896 - dense_2_loss: 0.3538 - dense_3_loss: 0.4358 - val_loss: 0.8241 - val_dense_2_loss: 0.3697 - val_dense_3_loss: 0.4543\n",
      "Epoch 50/100\n",
      "363/363 [==============================] - 0s 970us/step - loss: 0.7869 - dense_2_loss: 0.3526 - dense_3_loss: 0.4343 - val_loss: 0.8221 - val_dense_2_loss: 0.3697 - val_dense_3_loss: 0.4524\n",
      "Epoch 51/100\n",
      "363/363 [==============================] - 0s 935us/step - loss: 0.7841 - dense_2_loss: 0.3518 - dense_3_loss: 0.4322 - val_loss: 0.8194 - val_dense_2_loss: 0.3687 - val_dense_3_loss: 0.4507\n",
      "Epoch 52/100\n",
      "363/363 [==============================] - 0s 1ms/step - loss: 0.7801 - dense_2_loss: 0.3499 - dense_3_loss: 0.4302 - val_loss: 0.8155 - val_dense_2_loss: 0.3662 - val_dense_3_loss: 0.4493\n",
      "Epoch 53/100\n",
      "363/363 [==============================] - 0s 1ms/step - loss: 0.7779 - dense_2_loss: 0.3488 - dense_3_loss: 0.4292 - val_loss: 0.8092 - val_dense_2_loss: 0.3628 - val_dense_3_loss: 0.4463\n",
      "Epoch 54/100\n",
      "363/363 [==============================] - 0s 1ms/step - loss: 0.7752 - dense_2_loss: 0.3488 - dense_3_loss: 0.4264 - val_loss: 0.8126 - val_dense_2_loss: 0.3639 - val_dense_3_loss: 0.4487\n",
      "Epoch 55/100\n",
      "363/363 [==============================] - 0s 1ms/step - loss: 0.7729 - dense_2_loss: 0.3478 - dense_3_loss: 0.4251 - val_loss: 0.8082 - val_dense_2_loss: 0.3635 - val_dense_3_loss: 0.4447\n",
      "Epoch 56/100\n",
      "363/363 [==============================] - 0s 964us/step - loss: 0.7700 - dense_2_loss: 0.3464 - dense_3_loss: 0.4237 - val_loss: 0.8040 - val_dense_2_loss: 0.3603 - val_dense_3_loss: 0.4437\n",
      "Epoch 57/100\n",
      "363/363 [==============================] - 0s 1ms/step - loss: 0.7659 - dense_2_loss: 0.3449 - dense_3_loss: 0.4209 - val_loss: 0.8018 - val_dense_2_loss: 0.3637 - val_dense_3_loss: 0.4381\n",
      "Epoch 58/100\n",
      "363/363 [==============================] - 0s 1ms/step - loss: 0.7652 - dense_2_loss: 0.3447 - dense_3_loss: 0.4205 - val_loss: 0.7999 - val_dense_2_loss: 0.3616 - val_dense_3_loss: 0.4383\n",
      "Epoch 59/100\n",
      "363/363 [==============================] - 0s 968us/step - loss: 0.7632 - dense_2_loss: 0.3443 - dense_3_loss: 0.4189 - val_loss: 0.7957 - val_dense_2_loss: 0.3610 - val_dense_3_loss: 0.4346\n",
      "Epoch 60/100\n",
      "363/363 [==============================] - 0s 975us/step - loss: 0.7608 - dense_2_loss: 0.3435 - dense_3_loss: 0.4173 - val_loss: 0.7914 - val_dense_2_loss: 0.3571 - val_dense_3_loss: 0.4343\n",
      "Epoch 61/100\n",
      "363/363 [==============================] - 0s 956us/step - loss: 0.7587 - dense_2_loss: 0.3422 - dense_3_loss: 0.4165 - val_loss: 0.7904 - val_dense_2_loss: 0.3576 - val_dense_3_loss: 0.4328\n",
      "Epoch 62/100\n",
      "363/363 [==============================] - 0s 953us/step - loss: 0.7568 - dense_2_loss: 0.3420 - dense_3_loss: 0.4148 - val_loss: 0.7944 - val_dense_2_loss: 0.3585 - val_dense_3_loss: 0.4359\n",
      "Epoch 63/100\n",
      "363/363 [==============================] - 0s 970us/step - loss: 0.7523 - dense_2_loss: 0.3398 - dense_3_loss: 0.4125 - val_loss: 0.7895 - val_dense_2_loss: 0.3564 - val_dense_3_loss: 0.4332\n",
      "Epoch 64/100\n",
      "363/363 [==============================] - 0s 942us/step - loss: 0.7534 - dense_2_loss: 0.3404 - dense_3_loss: 0.4130 - val_loss: 0.7853 - val_dense_2_loss: 0.3556 - val_dense_3_loss: 0.4297\n",
      "Epoch 65/100\n",
      "363/363 [==============================] - 0s 931us/step - loss: 0.7493 - dense_2_loss: 0.3390 - dense_3_loss: 0.4103 - val_loss: 0.7826 - val_dense_2_loss: 0.3566 - val_dense_3_loss: 0.4260\n",
      "Epoch 66/100\n",
      "363/363 [==============================] - 0s 948us/step - loss: 0.7481 - dense_2_loss: 0.3385 - dense_3_loss: 0.4095 - val_loss: 0.7814 - val_dense_2_loss: 0.3532 - val_dense_3_loss: 0.4282\n",
      "Epoch 67/100\n",
      "363/363 [==============================] - 0s 967us/step - loss: 0.7457 - dense_2_loss: 0.3376 - dense_3_loss: 0.4081 - val_loss: 0.7800 - val_dense_2_loss: 0.3522 - val_dense_3_loss: 0.4278\n",
      "Epoch 68/100\n",
      "363/363 [==============================] - 0s 934us/step - loss: 0.7444 - dense_2_loss: 0.3370 - dense_3_loss: 0.4074 - val_loss: 0.7780 - val_dense_2_loss: 0.3514 - val_dense_3_loss: 0.4266\n",
      "Epoch 69/100\n",
      "363/363 [==============================] - 0s 948us/step - loss: 0.7439 - dense_2_loss: 0.3372 - dense_3_loss: 0.4068 - val_loss: 0.7754 - val_dense_2_loss: 0.3518 - val_dense_3_loss: 0.4236\n",
      "Epoch 70/100\n",
      "363/363 [==============================] - 0s 972us/step - loss: 0.7414 - dense_2_loss: 0.3363 - dense_3_loss: 0.4051 - val_loss: 0.7756 - val_dense_2_loss: 0.3530 - val_dense_3_loss: 0.4226\n",
      "Epoch 71/100\n",
      "363/363 [==============================] - 0s 1ms/step - loss: 0.7406 - dense_2_loss: 0.3358 - dense_3_loss: 0.4048 - val_loss: 0.7758 - val_dense_2_loss: 0.3539 - val_dense_3_loss: 0.4219\n",
      "Epoch 72/100\n",
      "363/363 [==============================] - 0s 938us/step - loss: 0.7357 - dense_2_loss: 0.3338 - dense_3_loss: 0.4020 - val_loss: 0.7742 - val_dense_2_loss: 0.3508 - val_dense_3_loss: 0.4234\n",
      "Epoch 73/100\n",
      "363/363 [==============================] - 0s 928us/step - loss: 0.7380 - dense_2_loss: 0.3346 - dense_3_loss: 0.4034 - val_loss: 0.7727 - val_dense_2_loss: 0.3500 - val_dense_3_loss: 0.4228\n",
      "Epoch 74/100\n",
      "363/363 [==============================] - 0s 975us/step - loss: 0.7366 - dense_2_loss: 0.3345 - dense_3_loss: 0.4020 - val_loss: 0.7723 - val_dense_2_loss: 0.3505 - val_dense_3_loss: 0.4219\n",
      "Epoch 75/100\n",
      "363/363 [==============================] - 0s 933us/step - loss: 0.7328 - dense_2_loss: 0.3325 - dense_3_loss: 0.4003 - val_loss: 0.7663 - val_dense_2_loss: 0.3474 - val_dense_3_loss: 0.4189\n",
      "Epoch 76/100\n",
      "363/363 [==============================] - 0s 932us/step - loss: 0.7327 - dense_2_loss: 0.3329 - dense_3_loss: 0.3998 - val_loss: 0.7661 - val_dense_2_loss: 0.3484 - val_dense_3_loss: 0.4177\n",
      "Epoch 77/100\n",
      "363/363 [==============================] - 0s 979us/step - loss: 0.7306 - dense_2_loss: 0.3320 - dense_3_loss: 0.3986 - val_loss: 0.7638 - val_dense_2_loss: 0.3462 - val_dense_3_loss: 0.4177\n",
      "Epoch 78/100\n",
      "363/363 [==============================] - 0s 968us/step - loss: 0.7299 - dense_2_loss: 0.3323 - dense_3_loss: 0.3976 - val_loss: 0.7646 - val_dense_2_loss: 0.3461 - val_dense_3_loss: 0.4186\n",
      "Epoch 79/100\n",
      "363/363 [==============================] - 0s 952us/step - loss: 0.7305 - dense_2_loss: 0.3320 - dense_3_loss: 0.3986 - val_loss: 0.7664 - val_dense_2_loss: 0.3506 - val_dense_3_loss: 0.4158\n",
      "Epoch 80/100\n",
      "363/363 [==============================] - 0s 982us/step - loss: 0.7270 - dense_2_loss: 0.3305 - dense_3_loss: 0.3966 - val_loss: 0.7579 - val_dense_2_loss: 0.3438 - val_dense_3_loss: 0.4142\n",
      "Epoch 81/100\n"
     ]
    },
    {
     "name": "stdout",
     "output_type": "stream",
     "text": [
      "363/363 [==============================] - 0s 939us/step - loss: 0.7265 - dense_2_loss: 0.3306 - dense_3_loss: 0.3958 - val_loss: 0.7570 - val_dense_2_loss: 0.3440 - val_dense_3_loss: 0.4130\n",
      "Epoch 82/100\n",
      "363/363 [==============================] - 0s 937us/step - loss: 0.7271 - dense_2_loss: 0.3313 - dense_3_loss: 0.3958 - val_loss: 0.7614 - val_dense_2_loss: 0.3469 - val_dense_3_loss: 0.4146\n",
      "Epoch 83/100\n",
      "363/363 [==============================] - 0s 967us/step - loss: 0.7251 - dense_2_loss: 0.3303 - dense_3_loss: 0.3949 - val_loss: 0.7595 - val_dense_2_loss: 0.3471 - val_dense_3_loss: 0.4123\n",
      "Epoch 84/100\n",
      "363/363 [==============================] - 0s 933us/step - loss: 0.7249 - dense_2_loss: 0.3302 - dense_3_loss: 0.3947 - val_loss: 0.7595 - val_dense_2_loss: 0.3441 - val_dense_3_loss: 0.4154\n",
      "Epoch 85/100\n",
      "363/363 [==============================] - 0s 935us/step - loss: 0.7215 - dense_2_loss: 0.3285 - dense_3_loss: 0.3930 - val_loss: 0.7567 - val_dense_2_loss: 0.3431 - val_dense_3_loss: 0.4136\n",
      "Epoch 86/100\n",
      "363/363 [==============================] - 0s 926us/step - loss: 0.7208 - dense_2_loss: 0.3286 - dense_3_loss: 0.3922 - val_loss: 0.7560 - val_dense_2_loss: 0.3464 - val_dense_3_loss: 0.4096\n",
      "Epoch 87/100\n",
      "363/363 [==============================] - 0s 926us/step - loss: 0.7193 - dense_2_loss: 0.3277 - dense_3_loss: 0.3916 - val_loss: 0.7564 - val_dense_2_loss: 0.3459 - val_dense_3_loss: 0.4105\n",
      "Epoch 88/100\n",
      "363/363 [==============================] - 0s 978us/step - loss: 0.7214 - dense_2_loss: 0.3291 - dense_3_loss: 0.3923 - val_loss: 0.7505 - val_dense_2_loss: 0.3413 - val_dense_3_loss: 0.4092\n",
      "Epoch 89/100\n",
      "363/363 [==============================] - 0s 986us/step - loss: 0.7185 - dense_2_loss: 0.3279 - dense_3_loss: 0.3906 - val_loss: 0.7529 - val_dense_2_loss: 0.3434 - val_dense_3_loss: 0.4095\n",
      "Epoch 90/100\n",
      "363/363 [==============================] - 0s 931us/step - loss: 0.7180 - dense_2_loss: 0.3273 - dense_3_loss: 0.3906 - val_loss: 0.7501 - val_dense_2_loss: 0.3407 - val_dense_3_loss: 0.4094\n",
      "Epoch 91/100\n",
      "363/363 [==============================] - 0s 964us/step - loss: 0.7172 - dense_2_loss: 0.3272 - dense_3_loss: 0.3900 - val_loss: 0.7489 - val_dense_2_loss: 0.3404 - val_dense_3_loss: 0.4084\n",
      "Epoch 92/100\n",
      "363/363 [==============================] - 0s 937us/step - loss: 0.7150 - dense_2_loss: 0.3265 - dense_3_loss: 0.3885 - val_loss: 0.7456 - val_dense_2_loss: 0.3404 - val_dense_3_loss: 0.4052\n",
      "Epoch 93/100\n",
      "363/363 [==============================] - 0s 937us/step - loss: 0.7154 - dense_2_loss: 0.3264 - dense_3_loss: 0.3891 - val_loss: 0.7463 - val_dense_2_loss: 0.3396 - val_dense_3_loss: 0.4067\n",
      "Epoch 94/100\n",
      "363/363 [==============================] - 0s 950us/step - loss: 0.7143 - dense_2_loss: 0.3263 - dense_3_loss: 0.3879 - val_loss: 0.7459 - val_dense_2_loss: 0.3408 - val_dense_3_loss: 0.4051\n",
      "Epoch 95/100\n",
      "363/363 [==============================] - 0s 945us/step - loss: 0.7137 - dense_2_loss: 0.3259 - dense_3_loss: 0.3877 - val_loss: 0.7471 - val_dense_2_loss: 0.3391 - val_dense_3_loss: 0.4080\n",
      "Epoch 96/100\n",
      "363/363 [==============================] - 0s 959us/step - loss: 0.7123 - dense_2_loss: 0.3256 - dense_3_loss: 0.3867 - val_loss: 0.7480 - val_dense_2_loss: 0.3415 - val_dense_3_loss: 0.4066\n",
      "Epoch 97/100\n",
      "363/363 [==============================] - 0s 948us/step - loss: 0.7119 - dense_2_loss: 0.3252 - dense_3_loss: 0.3867 - val_loss: 0.7424 - val_dense_2_loss: 0.3397 - val_dense_3_loss: 0.4027\n",
      "Epoch 98/100\n",
      "363/363 [==============================] - 0s 959us/step - loss: 0.7094 - dense_2_loss: 0.3241 - dense_3_loss: 0.3853 - val_loss: 0.7457 - val_dense_2_loss: 0.3394 - val_dense_3_loss: 0.4063\n",
      "Epoch 99/100\n",
      "363/363 [==============================] - 0s 961us/step - loss: 0.7090 - dense_2_loss: 0.3244 - dense_3_loss: 0.3847 - val_loss: 0.7413 - val_dense_2_loss: 0.3396 - val_dense_3_loss: 0.4017\n",
      "Epoch 100/100\n",
      "363/363 [==============================] - 0s 1ms/step - loss: 0.7096 - dense_2_loss: 0.3242 - dense_3_loss: 0.3854 - val_loss: 0.7420 - val_dense_2_loss: 0.3376 - val_dense_3_loss: 0.4045\n"
     ]
    }
   ],
   "source": [
    "# 训练时需要拆分\n",
    "xtrain_scaled_wide = xtrain_scaled[:, :5]\n",
    "xtrain_scaled_deep = xtrain_scaled[:, 2:]\n",
    "xvalid_scaled_wide = xvalid_scaled[:, :5]\n",
    "xvalid_scaled_deep = xvalid_scaled[:, 2:]\n",
    "xtest_scaled_wide = xtest_scaled[:, :5]\n",
    "xtest_scaled_deep = xtest_scaled[:, 2:]\n",
    "\n",
    "history = model.fit([xtrain_scaled_wide, xtrain_scaled_deep], \n",
    "                     [ytrain, ytrain],\n",
    "                    validation_data=([xvalid_scaled_wide, xvalid_scaled_deep], \n",
    "                                      [yvalid, yvalid]),\n",
    "                    epochs=100, callbacks=callbacks)"
   ]
  },
  {
   "cell_type": "code",
   "execution_count": 10,
   "metadata": {
    "ExecuteTime": {
     "end_time": "2020-11-30T09:29:04.889839Z",
     "start_time": "2020-11-30T09:29:04.656935Z"
    }
   },
   "outputs": [
    {
     "data": {
      "image/png": "[encoded data removed]",
      "text/plain": [
       "<Figure size 576x360 with 1 Axes>"
      ]
     },
     "metadata": {
      "needs_background": "light"
     },
     "output_type": "display_data"
    }
   ],
   "source": [
    "def plot_learning_curves(history):\n",
    "    pd.DataFrame(history.history).plot(figsize=(8, 5))\n",
    "    plt.grid(True)\n",
    "    plt.gca().set_ylim(0, 2)\n",
    "    plt.show()\n",
    "    \n",
    "plot_learning_curves(history)"
   ]
  },
  {
   "cell_type": "code",
   "execution_count": 9,
   "metadata": {
    "ExecuteTime": {
     "end_time": "2020-11-30T09:28:41.401900Z",
     "start_time": "2020-11-30T09:28:41.264881Z"
    }
   },
   "outputs": [
    {
     "data": {
      "text/plain": [
       "[0.7114938497543335, 0.3302454352378845, 0.381248414516449]"
      ]
     },
     "execution_count": 9,
     "metadata": {},
     "output_type": "execute_result"
    }
   ],
   "source": [
    "# 第一个值为第二和第三个的和\n",
    "model.evaluate([xtest_scaled_wide, xtest_scaled_deep], [ytest, ytest], verbose=0)"
   ]
  },
  {
   "cell_type": "code",
   "execution_count": null,
   "metadata": {},
   "outputs": [],
   "source": []
  },
  {
   "cell_type": "code",
   "execution_count": null,
   "metadata": {},
   "outputs": [],
   "source": []
  }
 ],
 "metadata": {
  "kernelspec": {
   "display_name": "tf2_py3",
   "language": "python",
   "name": "tf2_py3"
  },
  "language_info": {
   "codemirror_mode": {
    "name": "ipython",
    "version": 3
   },
   "file_extension": ".py",
   "mimetype": "text/x-python",
   "name": "python",
   "nbconvert_exporter": "python",
   "pygments_lexer": "ipython3",
   "version": "3.6.7"
  },
  "toc": {
   "base_numbering": 1,
   "nav_menu": {},
   "number_sections": true,
   "sideBar": true,
   "skip_h1_title": false,
   "title_cell": "Table of Contents",
   "title_sidebar": "Contents",
   "toc_cell": false,
   "toc_position": {},
   "toc_section_display": true,
   "toc_window_display": false
  }
 },
 "nbformat": 4,
 "nbformat_minor": 4
}
