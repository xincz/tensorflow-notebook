{
 "cells": [
  {
   "cell_type": "code",
   "execution_count": 1,
   "metadata": {
    "ExecuteTime": {
     "end_time": "2020-11-30T08:17:53.960388Z",
     "start_time": "2020-11-30T08:17:51.157794Z"
    }
   },
   "outputs": [
    {
     "name": "stdout",
     "output_type": "stream",
     "text": [
      "2.3.1\n",
      "sys.version_info(major=3, minor=6, micro=7, releaselevel='final', serial=0)\n",
      "matplotlib 3.3.2\n",
      "numpy 1.18.4\n",
      "pandas 1.1.4\n",
      "sklearn 0.23.2\n",
      "tensorflow 2.3.1\n",
      "tensorflow.keras 2.4.0\n"
     ]
    }
   ],
   "source": [
    "import matplotlib as mpl\n",
    "import matplotlib.pyplot as plt\n",
    "%matplotlib inline\n",
    "import numpy as np\n",
    "import pandas as pd\n",
    "import sklearn\n",
    "import os\n",
    "import sys\n",
    "import time\n",
    "import tensorflow as tf\n",
    "from tensorflow import keras\n",
    "\n",
    "print(tf.__version__)\n",
    "print(sys.version_info)\n",
    "for module in mpl, np, pd, sklearn, tf, keras:\n",
    "    print(module.__name__, module.__version__)"
   ]
  },
  {
   "cell_type": "code",
   "execution_count": 2,
   "metadata": {
    "ExecuteTime": {
     "end_time": "2020-11-30T08:17:54.039546Z",
     "start_time": "2020-11-30T08:17:53.962439Z"
    }
   },
   "outputs": [
    {
     "name": "stdout",
     "output_type": "stream",
     "text": [
      ".. _california_housing_dataset:\n",
      "\n",
      "California Housing dataset\n",
      "--------------------------\n",
      "\n",
      "**Data Set Characteristics:**\n",
      "\n",
      "    :Number of Instances: 20640\n",
      "\n",
      "    :Number of Attributes: 8 numeric, predictive attributes and the target\n",
      "\n",
      "    :Attribute Information:\n",
      "        - MedInc        median income in block\n",
      "        - HouseAge      median house age in block\n",
      "        - AveRooms      average number of rooms\n",
      "        - AveBedrms     average number of bedrooms\n",
      "        - Population    block population\n",
      "        - AveOccup      average house occupancy\n",
      "        - Latitude      house block latitude\n",
      "        - Longitude     house block longitude\n",
      "\n",
      "    :Missing Attribute Values: None\n",
      "\n",
      "This dataset was obtained from the StatLib repository.\n",
      "http://lib.stat.cmu.edu/datasets/\n",
      "\n",
      "The target variable is the median house value for California districts.\n",
      "\n",
      "This dataset was derived from the 1990 U.S. census, using one row per census\n",
      "block group. A block group is the smallest geographical unit for which the U.S.\n",
      "Census Bureau publishes sample data (a block group typically has a population\n",
      "of 600 to 3,000 people).\n",
      "\n",
      "It can be downloaded/loaded using the\n",
      ":func:`sklearn.datasets.fetch_california_housing` function.\n",
      "\n",
      ".. topic:: References\n",
      "\n",
      "    - Pace, R. Kelley and Ronald Barry, Sparse Spatial Autoregressions,\n",
      "      Statistics and Probability Letters, 33 (1997) 291-297\n",
      "\n",
      "(20640, 8)\n",
      "(20640,)\n"
     ]
    }
   ],
   "source": [
    "from sklearn.datasets import fetch_california_housing\n",
    "housing = fetch_california_housing()\n",
    "print(housing.DESCR)\n",
    "print(housing.data.shape)\n",
    "print(housing.target.shape)"
   ]
  },
  {
   "cell_type": "code",
   "execution_count": 3,
   "metadata": {
    "ExecuteTime": {
     "end_time": "2020-11-30T08:17:54.307082Z",
     "start_time": "2020-11-30T08:17:54.231991Z"
    }
   },
   "outputs": [
    {
     "name": "stdout",
     "output_type": "stream",
     "text": [
      "(11610, 8) (11610,)\n",
      "(3870, 8) (3870,)\n",
      "(5160, 8) (5160,)\n"
     ]
    }
   ],
   "source": [
    "from sklearn.model_selection import train_test_split\n",
    "\n",
    "xtrain_all, xtest, ytrain_all, ytest = train_test_split(\n",
    "    housing.data, housing.target, random_state=7)\n",
    "xtrain, xvalid, ytrain, yvalid = train_test_split(\n",
    "    xtrain_all ,ytrain_all, random_state=11)\n",
    "print(xtrain.shape, ytrain.shape)\n",
    "print(xvalid.shape, yvalid.shape)\n",
    "print(xtest.shape, ytest.shape)"
   ]
  },
  {
   "cell_type": "code",
   "execution_count": 4,
   "metadata": {
    "ExecuteTime": {
     "end_time": "2020-11-30T08:17:56.812700Z",
     "start_time": "2020-11-30T08:17:56.804534Z"
    }
   },
   "outputs": [],
   "source": [
    "from sklearn.preprocessing import StandardScaler\n",
    "scaler = StandardScaler()\n",
    "xtrain_scaled = scaler.fit_transform(xtrain)\n",
    "xvalid_scaled= scaler.transform(xvalid)\n",
    "xtest_scaled = scaler.transform(xtest)"
   ]
  },
  {
   "cell_type": "code",
   "execution_count": 9,
   "metadata": {
    "ExecuteTime": {
     "end_time": "2020-11-30T08:52:39.794625Z",
     "start_time": "2020-11-30T08:52:39.730627Z"
    }
   },
   "outputs": [
    {
     "name": "stdout",
     "output_type": "stream",
     "text": [
      "Model: \"functional_3\"\n",
      "__________________________________________________________________________________________________\n",
      "Layer (type)                    Output Shape         Param #     Connected to                     \n",
      "==================================================================================================\n",
      "input_3 (InputLayer)            [(None, 8)]          0                                            \n",
      "__________________________________________________________________________________________________\n",
      "dense_6 (Dense)                 (None, 30)           270         input_3[0][0]                    \n",
      "__________________________________________________________________________________________________\n",
      "dense_7 (Dense)                 (None, 30)           930         dense_6[0][0]                    \n",
      "__________________________________________________________________________________________________\n",
      "concatenate_2 (Concatenate)     (None, 38)           0           input_3[0][0]                    \n",
      "                                                                 dense_7[0][0]                    \n",
      "__________________________________________________________________________________________________\n",
      "dense_8 (Dense)                 (None, 1)            39          concatenate_2[0][0]              \n",
      "==================================================================================================\n",
      "Total params: 1,239\n",
      "Trainable params: 1,239\n",
      "Non-trainable params: 0\n",
      "__________________________________________________________________________________________________\n"
     ]
    }
   ],
   "source": [
    "# 注：无法使用 sequential 的方式来实现模型\n",
    "# 使用函数式 API\n",
    "input = keras.layers.Input(shape=xtrain.shape[1:])  # input is 8\n",
    "hidden1 = keras.layers.Dense(30, activation='relu')(input)\n",
    "hidden2 = keras.layers.Dense(30, activation='relu')(hidden1) # 为符合函数\n",
    "# 合并 input 和 hidden2\n",
    "concat = keras.layers.concatenate([input, hidden2])\n",
    "output = keras.layers.Dense(1)(concat)\n",
    "# 用 model 把其固化下来\n",
    "model = keras.models.Model(inputs=[input], outputs=[output])\n",
    "\n",
    "model.summary()\n",
    "model.compile(loss=\"mean_squared_error\", \n",
    "              optimizer = keras.optimizers.SGD(0.001))\n",
    "callbacks = [keras.callbacks.EarlyStopping(patience=5, min_delta=1e-5)]"
   ]
  },
  {
   "cell_type": "code",
   "execution_count": 10,
   "metadata": {
    "ExecuteTime": {
     "end_time": "2020-11-30T08:53:11.291577Z",
     "start_time": "2020-11-30T08:52:41.889217Z"
    }
   },
   "outputs": [
    {
     "name": "stdout",
     "output_type": "stream",
     "text": [
      "Epoch 1/100\n",
      "  1/363 [..............................] - ETA: 0s - loss: 5.1599WARNING:tensorflow:Callbacks method `on_train_batch_end` is slow compared to the batch time (batch time: 0.0000s vs `on_train_batch_end` time: 0.0012s). Check your callbacks.\n",
      "363/363 [==============================] - 0s 867us/step - loss: 1.6673 - val_loss: 0.9091\n",
      "Epoch 2/100\n",
      "363/363 [==============================] - 0s 689us/step - loss: 0.7863 - val_loss: 0.8170\n",
      "Epoch 3/100\n",
      "363/363 [==============================] - 0s 702us/step - loss: 0.7139 - val_loss: 0.7564\n",
      "Epoch 4/100\n",
      "363/363 [==============================] - 0s 685us/step - loss: 0.6642 - val_loss: 0.7068\n",
      "Epoch 5/100\n",
      "363/363 [==============================] - 0s 683us/step - loss: 0.6274 - val_loss: 0.6709\n",
      "Epoch 6/100\n",
      "363/363 [==============================] - 0s 700us/step - loss: 0.5972 - val_loss: 0.6516\n",
      "Epoch 7/100\n",
      "363/363 [==============================] - 0s 682us/step - loss: 0.5757 - val_loss: 0.6219\n",
      "Epoch 8/100\n",
      "363/363 [==============================] - 0s 664us/step - loss: 0.5573 - val_loss: 0.6009\n",
      "Epoch 9/100\n",
      "363/363 [==============================] - 0s 674us/step - loss: 0.5429 - val_loss: 0.5860\n",
      "Epoch 10/100\n",
      "363/363 [==============================] - 0s 672us/step - loss: 0.5294 - val_loss: 0.5725\n",
      "Epoch 11/100\n",
      "363/363 [==============================] - 0s 691us/step - loss: 0.5196 - val_loss: 0.5624\n",
      "Epoch 12/100\n",
      "363/363 [==============================] - 0s 755us/step - loss: 0.5102 - val_loss: 0.5566\n",
      "Epoch 13/100\n",
      "363/363 [==============================] - 0s 840us/step - loss: 0.5010 - val_loss: 0.5390\n",
      "Epoch 14/100\n",
      "363/363 [==============================] - 0s 798us/step - loss: 0.4944 - val_loss: 0.5409\n",
      "Epoch 15/100\n",
      "363/363 [==============================] - 0s 1ms/step - loss: 0.4885 - val_loss: 0.5348\n",
      "Epoch 16/100\n",
      "363/363 [==============================] - 0s 840us/step - loss: 0.4828 - val_loss: 0.5204\n",
      "Epoch 17/100\n",
      "363/363 [==============================] - 0s 760us/step - loss: 0.4775 - val_loss: 0.5150\n",
      "Epoch 18/100\n",
      "363/363 [==============================] - 0s 708us/step - loss: 0.4721 - val_loss: 0.5139\n",
      "Epoch 19/100\n",
      "363/363 [==============================] - 0s 745us/step - loss: 0.4680 - val_loss: 0.5032\n",
      "Epoch 20/100\n",
      "363/363 [==============================] - 0s 839us/step - loss: 0.4630 - val_loss: 0.4967\n",
      "Epoch 21/100\n",
      "363/363 [==============================] - 0s 854us/step - loss: 0.4591 - val_loss: 0.4938\n",
      "Epoch 22/100\n",
      "363/363 [==============================] - 0s 967us/step - loss: 0.4555 - val_loss: 0.4883\n",
      "Epoch 23/100\n",
      "363/363 [==============================] - 0s 774us/step - loss: 0.4518 - val_loss: 0.4858\n",
      "Epoch 24/100\n",
      "363/363 [==============================] - 0s 744us/step - loss: 0.4480 - val_loss: 0.4809\n",
      "Epoch 25/100\n",
      "363/363 [==============================] - 0s 719us/step - loss: 0.4448 - val_loss: 0.4841\n",
      "Epoch 26/100\n",
      "363/363 [==============================] - 0s 800us/step - loss: 0.4412 - val_loss: 0.4756\n",
      "Epoch 27/100\n",
      "363/363 [==============================] - 0s 909us/step - loss: 0.4388 - val_loss: 0.4703\n",
      "Epoch 28/100\n",
      "363/363 [==============================] - 0s 832us/step - loss: 0.4354 - val_loss: 0.4701\n",
      "Epoch 29/100\n",
      "363/363 [==============================] - 0s 840us/step - loss: 0.4333 - val_loss: 0.4639\n",
      "Epoch 30/100\n",
      "363/363 [==============================] - 0s 871us/step - loss: 0.4303 - val_loss: 0.4602\n",
      "Epoch 31/100\n",
      "363/363 [==============================] - 0s 727us/step - loss: 0.4280 - val_loss: 0.4582\n",
      "Epoch 32/100\n",
      "363/363 [==============================] - 0s 771us/step - loss: 0.4260 - val_loss: 0.4541\n",
      "Epoch 33/100\n",
      "363/363 [==============================] - 0s 769us/step - loss: 0.4234 - val_loss: 0.4532\n",
      "Epoch 34/100\n",
      "363/363 [==============================] - 0s 810us/step - loss: 0.4207 - val_loss: 0.4489\n",
      "Epoch 35/100\n",
      "363/363 [==============================] - 0s 777us/step - loss: 0.4192 - val_loss: 0.4477\n",
      "Epoch 36/100\n",
      "363/363 [==============================] - 0s 711us/step - loss: 0.4165 - val_loss: 0.4465\n",
      "Epoch 37/100\n",
      "363/363 [==============================] - 0s 749us/step - loss: 0.4146 - val_loss: 0.4423\n",
      "Epoch 38/100\n",
      "363/363 [==============================] - 0s 736us/step - loss: 0.4128 - val_loss: 0.4397\n",
      "Epoch 39/100\n",
      "363/363 [==============================] - 0s 730us/step - loss: 0.4107 - val_loss: 0.4370\n",
      "Epoch 40/100\n",
      "363/363 [==============================] - 0s 773us/step - loss: 0.4088 - val_loss: 0.4361\n",
      "Epoch 41/100\n",
      "363/363 [==============================] - 0s 683us/step - loss: 0.4076 - val_loss: 0.4337\n",
      "Epoch 42/100\n",
      "363/363 [==============================] - 0s 713us/step - loss: 0.4055 - val_loss: 0.4312\n",
      "Epoch 43/100\n",
      "363/363 [==============================] - 0s 798us/step - loss: 0.4038 - val_loss: 0.4295\n",
      "Epoch 44/100\n",
      "363/363 [==============================] - 0s 733us/step - loss: 0.4021 - val_loss: 0.4269\n",
      "Epoch 45/100\n",
      "363/363 [==============================] - 0s 733us/step - loss: 0.4008 - val_loss: 0.4253\n",
      "Epoch 46/100\n",
      "363/363 [==============================] - 0s 664us/step - loss: 0.3990 - val_loss: 0.4240\n",
      "Epoch 47/100\n",
      "363/363 [==============================] - 0s 689us/step - loss: 0.3976 - val_loss: 0.4231\n",
      "Epoch 48/100\n",
      "363/363 [==============================] - 0s 664us/step - loss: 0.3961 - val_loss: 0.4215\n",
      "Epoch 49/100\n",
      "363/363 [==============================] - 0s 785us/step - loss: 0.3946 - val_loss: 0.4182\n",
      "Epoch 50/100\n",
      "363/363 [==============================] - 0s 689us/step - loss: 0.3932 - val_loss: 0.4187\n",
      "Epoch 51/100\n",
      "363/363 [==============================] - 0s 683us/step - loss: 0.3918 - val_loss: 0.4153\n",
      "Epoch 52/100\n",
      "363/363 [==============================] - 0s 664us/step - loss: 0.3905 - val_loss: 0.4151\n",
      "Epoch 53/100\n",
      "363/363 [==============================] - 0s 708us/step - loss: 0.3894 - val_loss: 0.4139\n",
      "Epoch 54/100\n",
      "363/363 [==============================] - 0s 689us/step - loss: 0.3879 - val_loss: 0.4115\n",
      "Epoch 55/100\n",
      "363/363 [==============================] - 0s 700us/step - loss: 0.3863 - val_loss: 0.4109\n",
      "Epoch 56/100\n",
      "363/363 [==============================] - 0s 680us/step - loss: 0.3851 - val_loss: 0.4088\n",
      "Epoch 57/100\n",
      "363/363 [==============================] - 0s 694us/step - loss: 0.3838 - val_loss: 0.4081\n",
      "Epoch 58/100\n",
      "363/363 [==============================] - 0s 689us/step - loss: 0.3828 - val_loss: 0.4068\n",
      "Epoch 59/100\n",
      "363/363 [==============================] - 0s 664us/step - loss: 0.3814 - val_loss: 0.4053\n",
      "Epoch 60/100\n",
      "363/363 [==============================] - 0s 686us/step - loss: 0.3800 - val_loss: 0.4040\n",
      "Epoch 61/100\n",
      "363/363 [==============================] - ETA: 0s - loss: 0.382 - 0s 908us/step - loss: 0.3790 - val_loss: 0.4030\n",
      "Epoch 62/100\n",
      "363/363 [==============================] - 0s 829us/step - loss: 0.3779 - val_loss: 0.4015\n",
      "Epoch 63/100\n",
      "363/363 [==============================] - 0s 802us/step - loss: 0.3766 - val_loss: 0.4004\n",
      "Epoch 64/100\n",
      "363/363 [==============================] - 0s 796us/step - loss: 0.3757 - val_loss: 0.3995\n",
      "Epoch 65/100\n",
      "363/363 [==============================] - 0s 758us/step - loss: 0.3747 - val_loss: 0.3981\n",
      "Epoch 66/100\n",
      "363/363 [==============================] - 0s 828us/step - loss: 0.3737 - val_loss: 0.3964\n",
      "Epoch 67/100\n",
      "363/363 [==============================] - 0s 879us/step - loss: 0.3724 - val_loss: 0.3952\n",
      "Epoch 68/100\n",
      "363/363 [==============================] - 0s 785us/step - loss: 0.3708 - val_loss: 0.3940\n",
      "Epoch 69/100\n",
      "363/363 [==============================] - 0s 945us/step - loss: 0.3702 - val_loss: 0.3934\n",
      "Epoch 70/100\n",
      "363/363 [==============================] - 0s 1ms/step - loss: 0.3692 - val_loss: 0.3919\n",
      "Epoch 71/100\n",
      "363/363 [==============================] - 0s 831us/step - loss: 0.3679 - val_loss: 0.3900\n",
      "Epoch 72/100\n",
      "363/363 [==============================] - 0s 876us/step - loss: 0.3670 - val_loss: 0.3904\n",
      "Epoch 73/100\n",
      "363/363 [==============================] - 0s 986us/step - loss: 0.3659 - val_loss: 0.3893\n",
      "Epoch 74/100\n",
      "363/363 [==============================] - 0s 850us/step - loss: 0.3653 - val_loss: 0.3885\n",
      "Epoch 75/100\n",
      "363/363 [==============================] - 0s 956us/step - loss: 0.3642 - val_loss: 0.3872\n",
      "Epoch 76/100\n",
      "363/363 [==============================] - 0s 967us/step - loss: 0.3633 - val_loss: 0.3848\n",
      "Epoch 77/100\n"
     ]
    },
    {
     "name": "stdout",
     "output_type": "stream",
     "text": [
      "363/363 [==============================] - 0s 860us/step - loss: 0.3629 - val_loss: 0.3846\n",
      "Epoch 78/100\n",
      "363/363 [==============================] - 0s 815us/step - loss: 0.3610 - val_loss: 0.3865\n",
      "Epoch 79/100\n",
      "363/363 [==============================] - 0s 813us/step - loss: 0.3605 - val_loss: 0.3828\n",
      "Epoch 80/100\n",
      "363/363 [==============================] - 0s 934us/step - loss: 0.3601 - val_loss: 0.3818\n",
      "Epoch 81/100\n",
      "363/363 [==============================] - 0s 829us/step - loss: 0.3591 - val_loss: 0.3812\n",
      "Epoch 82/100\n",
      "363/363 [==============================] - 0s 856us/step - loss: 0.3585 - val_loss: 0.3801\n",
      "Epoch 83/100\n",
      "363/363 [==============================] - 0s 967us/step - loss: 0.3572 - val_loss: 0.3803\n",
      "Epoch 84/100\n",
      "363/363 [==============================] - 0s 846us/step - loss: 0.3566 - val_loss: 0.3790\n",
      "Epoch 85/100\n",
      "363/363 [==============================] - 0s 854us/step - loss: 0.3560 - val_loss: 0.3790\n",
      "Epoch 86/100\n",
      "363/363 [==============================] - 0s 815us/step - loss: 0.3552 - val_loss: 0.3783\n",
      "Epoch 87/100\n",
      "363/363 [==============================] - 0s 740us/step - loss: 0.3543 - val_loss: 0.3767\n",
      "Epoch 88/100\n",
      "363/363 [==============================] - 0s 749us/step - loss: 0.3531 - val_loss: 0.3754\n",
      "Epoch 89/100\n",
      "363/363 [==============================] - 0s 829us/step - loss: 0.3519 - val_loss: 0.3765\n",
      "Epoch 90/100\n",
      "363/363 [==============================] - 0s 860us/step - loss: 0.3516 - val_loss: 0.3731\n",
      "Epoch 91/100\n",
      "363/363 [==============================] - 0s 793us/step - loss: 0.3508 - val_loss: 0.3727\n",
      "Epoch 92/100\n",
      "363/363 [==============================] - 0s 967us/step - loss: 0.3500 - val_loss: 0.3719\n",
      "Epoch 93/100\n",
      "363/363 [==============================] - 0s 788us/step - loss: 0.3490 - val_loss: 0.3720\n",
      "Epoch 94/100\n",
      "363/363 [==============================] - 0s 959us/step - loss: 0.3481 - val_loss: 0.3731\n",
      "Epoch 95/100\n",
      "363/363 [==============================] - 0s 888us/step - loss: 0.3479 - val_loss: 0.3691\n",
      "Epoch 96/100\n",
      "363/363 [==============================] - 0s 824us/step - loss: 0.3471 - val_loss: 0.3701\n",
      "Epoch 97/100\n",
      "363/363 [==============================] - 0s 860us/step - loss: 0.3464 - val_loss: 0.3681\n",
      "Epoch 98/100\n",
      "363/363 [==============================] - 0s 791us/step - loss: 0.3458 - val_loss: 0.3667\n",
      "Epoch 99/100\n",
      "363/363 [==============================] - 0s 890us/step - loss: 0.3450 - val_loss: 0.3671\n",
      "Epoch 100/100\n",
      "363/363 [==============================] - 0s 832us/step - loss: 0.3445 - val_loss: 0.3657\n"
     ]
    }
   ],
   "source": [
    "history = model.fit(xtrain_scaled, ytrain, \n",
    "                    validation_data=(xvalid_scaled, yvalid),\n",
    "                    epochs=100, callbacks=callbacks)"
   ]
  },
  {
   "cell_type": "code",
   "execution_count": 11,
   "metadata": {
    "ExecuteTime": {
     "end_time": "2020-11-30T08:53:11.465125Z",
     "start_time": "2020-11-30T08:53:11.293517Z"
    }
   },
   "outputs": [
    {
     "data": {
      "image/png": "[encoded data removed]",
      "text/plain": [
       "<Figure size 576x360 with 1 Axes>"
      ]
     },
     "metadata": {
      "needs_background": "light"
     },
     "output_type": "display_data"
    }
   ],
   "source": [
    "def plot_learning_curves(history):\n",
    "    pd.DataFrame(history.history).plot(figsize=(8, 5))\n",
    "    plt.grid(True)\n",
    "    plt.gca().set_ylim(0, 1)\n",
    "    plt.show()\n",
    "    \n",
    "plot_learning_curves(history)"
   ]
  },
  {
   "cell_type": "code",
   "execution_count": 12,
   "metadata": {
    "ExecuteTime": {
     "end_time": "2020-11-30T08:53:11.592062Z",
     "start_time": "2020-11-30T08:53:11.468066Z"
    }
   },
   "outputs": [
    {
     "data": {
      "text/plain": [
       "0.3655466139316559"
      ]
     },
     "execution_count": 12,
     "metadata": {},
     "output_type": "execute_result"
    }
   ],
   "source": [
    "model.evaluate(xtest_scaled, ytest, verbose=0)"
   ]
  },
  {
   "cell_type": "code",
   "execution_count": null,
   "metadata": {},
   "outputs": [],
   "source": []
  }
 ],
 "metadata": {
  "kernelspec": {
   "display_name": "tf2_py3",
   "language": "python",
   "name": "tf2_py3"
  },
  "language_info": {
   "codemirror_mode": {
    "name": "ipython",
    "version": 3
   },
   "file_extension": ".py",
   "mimetype": "text/x-python",
   "name": "python",
   "nbconvert_exporter": "python",
   "pygments_lexer": "ipython3",
   "version": "3.6.7"
  },
  "toc": {
   "base_numbering": 1,
   "nav_menu": {},
   "number_sections": true,
   "sideBar": true,
   "skip_h1_title": false,
   "title_cell": "Table of Contents",
   "title_sidebar": "Contents",
   "toc_cell": false,
   "toc_position": {},
   "toc_section_display": true,
   "toc_window_display": false
  }
 },
 "nbformat": 4,
 "nbformat_minor": 4
}
