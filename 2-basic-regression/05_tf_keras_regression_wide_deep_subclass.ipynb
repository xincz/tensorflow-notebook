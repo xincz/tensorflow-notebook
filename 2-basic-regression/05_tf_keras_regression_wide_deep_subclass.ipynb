{
 "cells": [
  {
   "cell_type": "code",
   "execution_count": 2,
   "metadata": {
    "ExecuteTime": {
     "end_time": "2020-11-30T09:03:35.772057Z",
     "start_time": "2020-11-30T09:03:35.759902Z"
    }
   },
   "outputs": [
    {
     "name": "stdout",
     "output_type": "stream",
     "text": [
      "2.3.1\n",
      "sys.version_info(major=3, minor=6, micro=7, releaselevel='final', serial=0)\n",
      "matplotlib 3.3.2\n",
      "numpy 1.18.4\n",
      "pandas 1.1.4\n",
      "sklearn 0.23.2\n",
      "tensorflow 2.3.1\n",
      "tensorflow.keras 2.4.0\n"
     ]
    }
   ],
   "source": [
    "import matplotlib as mpl\n",
    "import matplotlib.pyplot as plt\n",
    "%matplotlib inline\n",
    "import numpy as np\n",
    "import pandas as pd\n",
    "import sklearn\n",
    "import os\n",
    "import sys\n",
    "import time\n",
    "import tensorflow as tf\n",
    "from tensorflow import keras\n",
    "\n",
    "print(tf.__version__)\n",
    "print(sys.version_info)\n",
    "for module in mpl, np, pd, sklearn, tf, keras:\n",
    "    print(module.__name__, module.__version__)"
   ]
  },
  {
   "cell_type": "code",
   "execution_count": 3,
   "metadata": {
    "ExecuteTime": {
     "end_time": "2020-11-30T09:03:35.962969Z",
     "start_time": "2020-11-30T09:03:35.878884Z"
    }
   },
   "outputs": [
    {
     "name": "stdout",
     "output_type": "stream",
     "text": [
      ".. _california_housing_dataset:\n",
      "\n",
      "California Housing dataset\n",
      "--------------------------\n",
      "\n",
      "**Data Set Characteristics:**\n",
      "\n",
      "    :Number of Instances: 20640\n",
      "\n",
      "    :Number of Attributes: 8 numeric, predictive attributes and the target\n",
      "\n",
      "    :Attribute Information:\n",
      "        - MedInc        median income in block\n",
      "        - HouseAge      median house age in block\n",
      "        - AveRooms      average number of rooms\n",
      "        - AveBedrms     average number of bedrooms\n",
      "        - Population    block population\n",
      "        - AveOccup      average house occupancy\n",
      "        - Latitude      house block latitude\n",
      "        - Longitude     house block longitude\n",
      "\n",
      "    :Missing Attribute Values: None\n",
      "\n",
      "This dataset was obtained from the StatLib repository.\n",
      "http://lib.stat.cmu.edu/datasets/\n",
      "\n",
      "The target variable is the median house value for California districts.\n",
      "\n",
      "This dataset was derived from the 1990 U.S. census, using one row per census\n",
      "block group. A block group is the smallest geographical unit for which the U.S.\n",
      "Census Bureau publishes sample data (a block group typically has a population\n",
      "of 600 to 3,000 people).\n",
      "\n",
      "It can be downloaded/loaded using the\n",
      ":func:`sklearn.datasets.fetch_california_housing` function.\n",
      "\n",
      ".. topic:: References\n",
      "\n",
      "    - Pace, R. Kelley and Ronald Barry, Sparse Spatial Autoregressions,\n",
      "      Statistics and Probability Letters, 33 (1997) 291-297\n",
      "\n",
      "(20640, 8)\n",
      "(20640,)\n"
     ]
    }
   ],
   "source": [
    "from sklearn.datasets import fetch_california_housing\n",
    "housing = fetch_california_housing()\n",
    "print(housing.DESCR)\n",
    "print(housing.data.shape)\n",
    "print(housing.target.shape)"
   ]
  },
  {
   "cell_type": "code",
   "execution_count": 4,
   "metadata": {
    "ExecuteTime": {
     "end_time": "2020-11-30T09:03:36.117926Z",
     "start_time": "2020-11-30T09:03:36.036895Z"
    }
   },
   "outputs": [
    {
     "name": "stdout",
     "output_type": "stream",
     "text": [
      "(11610, 8) (11610,)\n",
      "(3870, 8) (3870,)\n",
      "(5160, 8) (5160,)\n"
     ]
    }
   ],
   "source": [
    "from sklearn.model_selection import train_test_split\n",
    "\n",
    "xtrain_all, xtest, ytrain_all, ytest = train_test_split(\n",
    "    housing.data, housing.target, random_state=7)\n",
    "xtrain, xvalid, ytrain, yvalid = train_test_split(\n",
    "    xtrain_all ,ytrain_all, random_state=11)\n",
    "print(xtrain.shape, ytrain.shape)\n",
    "print(xvalid.shape, yvalid.shape)\n",
    "print(xtest.shape, ytest.shape)"
   ]
  },
  {
   "cell_type": "code",
   "execution_count": 5,
   "metadata": {
    "ExecuteTime": {
     "end_time": "2020-11-30T09:03:36.213931Z",
     "start_time": "2020-11-30T09:03:36.179893Z"
    }
   },
   "outputs": [],
   "source": [
    "from sklearn.preprocessing import StandardScaler\n",
    "scaler = StandardScaler()\n",
    "xtrain_scaled = scaler.fit_transform(xtrain)\n",
    "xvalid_scaled= scaler.transform(xvalid)\n",
    "xtest_scaled = scaler.transform(xtest)"
   ]
  },
  {
   "cell_type": "code",
   "execution_count": 10,
   "metadata": {
    "ExecuteTime": {
     "end_time": "2020-11-30T09:05:49.308539Z",
     "start_time": "2020-11-30T09:05:49.244488Z"
    }
   },
   "outputs": [
    {
     "name": "stdout",
     "output_type": "stream",
     "text": [
      "Model: \"sequential\"\n",
      "_________________________________________________________________\n",
      "Layer (type)                 Output Shape              Param #   \n",
      "=================================================================\n",
      "wide_deep_model_1 (WideDeepM (None, 1)                 1239      \n",
      "=================================================================\n",
      "Total params: 1,239\n",
      "Trainable params: 1,239\n",
      "Non-trainable params: 0\n",
      "_________________________________________________________________\n"
     ]
    }
   ],
   "source": [
    "# Subclass API\n",
    "class WideDeepModel(keras.models.Model):\n",
    "    def __init__(self):\n",
    "        super(WideDeepModel, self).__init__()\n",
    "        \"\"\"定义模型的层次\"\"\"\n",
    "        self.hidden1_layer = keras.layers.Dense(30, activation='relu')\n",
    "        self.hidden2_layer = keras.layers.Dense(30, activation='relu')\n",
    "        self.output_layer = keras.layers.Dense(1)\n",
    "        \n",
    "    def call(self, input):\n",
    "        \"\"\"完成模型的正向计算\"\"\"\n",
    "        hidden1 = self.hidden1_layer(input)\n",
    "        hidden2 = self.hidden2_layer(hidden1)\n",
    "        concat = keras.layers.concatenate([input, hidden2])\n",
    "        output = self.output_layer(concat)\n",
    "        return output\n",
    "    \n",
    "model = WideDeepModel()\n",
    "# 也可以：\n",
    "# model = keras.models.Sequential([\n",
    "#     WideDeepModel(),\n",
    "# ])\n",
    "model.build(input_shape=(None, 8))\n",
    "\n",
    "model.summary()\n",
    "model.compile(loss=\"mean_squared_error\", \n",
    "              optimizer = keras.optimizers.SGD(0.001))\n",
    "callbacks = [keras.callbacks.EarlyStopping(patience=5, min_delta=1e-5)]"
   ]
  },
  {
   "cell_type": "code",
   "execution_count": 7,
   "metadata": {
    "ExecuteTime": {
     "end_time": "2020-11-30T09:04:24.646813Z",
     "start_time": "2020-11-30T09:03:55.245958Z"
    }
   },
   "outputs": [
    {
     "name": "stdout",
     "output_type": "stream",
     "text": [
      "Epoch 1/100\n",
      "363/363 [==============================] - 0s 1ms/step - loss: 1.6010 - val_loss: 0.7858\n",
      "Epoch 2/100\n",
      "363/363 [==============================] - 0s 752us/step - loss: 0.6618 - val_loss: 0.6828\n",
      "Epoch 3/100\n",
      "363/363 [==============================] - 0s 753us/step - loss: 0.6010 - val_loss: 0.6283\n",
      "Epoch 4/100\n",
      "363/363 [==============================] - 0s 769us/step - loss: 0.5631 - val_loss: 0.5974\n",
      "Epoch 5/100\n",
      "363/363 [==============================] - 0s 774us/step - loss: 0.5383 - val_loss: 0.5775\n",
      "Epoch 6/100\n",
      "363/363 [==============================] - 0s 780us/step - loss: 0.5198 - val_loss: 0.5553\n",
      "Epoch 7/100\n",
      "363/363 [==============================] - 0s 763us/step - loss: 0.5064 - val_loss: 0.5424\n",
      "Epoch 8/100\n",
      "363/363 [==============================] - 0s 820us/step - loss: 0.4942 - val_loss: 0.5277\n",
      "Epoch 9/100\n",
      "363/363 [==============================] - 0s 799us/step - loss: 0.4850 - val_loss: 0.5245\n",
      "Epoch 10/100\n",
      "363/363 [==============================] - 0s 755us/step - loss: 0.4764 - val_loss: 0.5073\n",
      "Epoch 11/100\n",
      "363/363 [==============================] - 0s 771us/step - loss: 0.4700 - val_loss: 0.5027\n",
      "Epoch 12/100\n",
      "363/363 [==============================] - 0s 755us/step - loss: 0.4640 - val_loss: 0.4936\n",
      "Epoch 13/100\n",
      "363/363 [==============================] - 0s 782us/step - loss: 0.4583 - val_loss: 0.4860\n",
      "Epoch 14/100\n",
      "363/363 [==============================] - 0s 801us/step - loss: 0.4536 - val_loss: 0.4830\n",
      "Epoch 15/100\n",
      "363/363 [==============================] - 0s 790us/step - loss: 0.4483 - val_loss: 0.4748\n",
      "Epoch 16/100\n",
      "363/363 [==============================] - 0s 784us/step - loss: 0.4441 - val_loss: 0.4759\n",
      "Epoch 17/100\n",
      "363/363 [==============================] - 0s 777us/step - loss: 0.4398 - val_loss: 0.4660\n",
      "Epoch 18/100\n",
      "363/363 [==============================] - 0s 799us/step - loss: 0.4366 - val_loss: 0.4631\n",
      "Epoch 19/100\n",
      "363/363 [==============================] - 0s 769us/step - loss: 0.4332 - val_loss: 0.4598\n",
      "Epoch 20/100\n",
      "363/363 [==============================] - 0s 763us/step - loss: 0.4295 - val_loss: 0.4541\n",
      "Epoch 21/100\n",
      "363/363 [==============================] - 0s 809us/step - loss: 0.4266 - val_loss: 0.4496\n",
      "Epoch 22/100\n",
      "363/363 [==============================] - 0s 842us/step - loss: 0.4238 - val_loss: 0.4460\n",
      "Epoch 23/100\n",
      "363/363 [==============================] - 0s 792us/step - loss: 0.4209 - val_loss: 0.4433\n",
      "Epoch 24/100\n",
      "363/363 [==============================] - 0s 832us/step - loss: 0.4181 - val_loss: 0.4403\n",
      "Epoch 25/100\n",
      "363/363 [==============================] - 0s 846us/step - loss: 0.4163 - val_loss: 0.4375\n",
      "Epoch 26/100\n",
      "363/363 [==============================] - 0s 778us/step - loss: 0.4143 - val_loss: 0.4415\n",
      "Epoch 27/100\n",
      "363/363 [==============================] - 0s 782us/step - loss: 0.4117 - val_loss: 0.4319\n",
      "Epoch 28/100\n",
      "363/363 [==============================] - 0s 788us/step - loss: 0.4100 - val_loss: 0.4352\n",
      "Epoch 29/100\n",
      "363/363 [==============================] - 0s 773us/step - loss: 0.4084 - val_loss: 0.4300\n",
      "Epoch 30/100\n",
      "363/363 [==============================] - 0s 766us/step - loss: 0.4062 - val_loss: 0.4247\n",
      "Epoch 31/100\n",
      "363/363 [==============================] - 0s 806us/step - loss: 0.4048 - val_loss: 0.4262\n",
      "Epoch 32/100\n",
      "363/363 [==============================] - 0s 781us/step - loss: 0.4030 - val_loss: 0.4250\n",
      "Epoch 33/100\n",
      "363/363 [==============================] - 0s 744us/step - loss: 0.4017 - val_loss: 0.4213\n",
      "Epoch 34/100\n",
      "363/363 [==============================] - 0s 760us/step - loss: 0.4003 - val_loss: 0.4179\n",
      "Epoch 35/100\n",
      "363/363 [==============================] - 0s 771us/step - loss: 0.3988 - val_loss: 0.4163\n",
      "Epoch 36/100\n",
      "363/363 [==============================] - 0s 810us/step - loss: 0.3974 - val_loss: 0.4157\n",
      "Epoch 37/100\n",
      "363/363 [==============================] - 0s 796us/step - loss: 0.3959 - val_loss: 0.4140\n",
      "Epoch 38/100\n",
      "363/363 [==============================] - 0s 763us/step - loss: 0.3946 - val_loss: 0.4117\n",
      "Epoch 39/100\n",
      "363/363 [==============================] - 0s 782us/step - loss: 0.3932 - val_loss: 0.4127\n",
      "Epoch 40/100\n",
      "363/363 [==============================] - 0s 799us/step - loss: 0.3918 - val_loss: 0.4103\n",
      "Epoch 41/100\n",
      "363/363 [==============================] - 0s 865us/step - loss: 0.3909 - val_loss: 0.4097\n",
      "Epoch 42/100\n",
      "363/363 [==============================] - 0s 895us/step - loss: 0.3898 - val_loss: 0.4069\n",
      "Epoch 43/100\n",
      "363/363 [==============================] - 0s 924us/step - loss: 0.3884 - val_loss: 0.4064\n",
      "Epoch 44/100\n",
      "363/363 [==============================] - 0s 846us/step - loss: 0.3871 - val_loss: 0.4049\n",
      "Epoch 45/100\n",
      "363/363 [==============================] - 0s 838us/step - loss: 0.3863 - val_loss: 0.4035\n",
      "Epoch 46/100\n",
      "363/363 [==============================] - 0s 775us/step - loss: 0.3851 - val_loss: 0.4015\n",
      "Epoch 47/100\n",
      "363/363 [==============================] - 0s 834us/step - loss: 0.3838 - val_loss: 0.4025\n",
      "Epoch 48/100\n",
      "363/363 [==============================] - 0s 952us/step - loss: 0.3833 - val_loss: 0.4004\n",
      "Epoch 49/100\n",
      "363/363 [==============================] - 0s 895us/step - loss: 0.3823 - val_loss: 0.3991\n",
      "Epoch 50/100\n",
      "363/363 [==============================] - 0s 755us/step - loss: 0.3808 - val_loss: 0.3978\n",
      "Epoch 51/100\n",
      "363/363 [==============================] - 0s 804us/step - loss: 0.3804 - val_loss: 0.3977\n",
      "Epoch 52/100\n",
      "363/363 [==============================] - 0s 791us/step - loss: 0.3798 - val_loss: 0.3961\n",
      "Epoch 53/100\n",
      "363/363 [==============================] - 0s 762us/step - loss: 0.3784 - val_loss: 0.3950\n",
      "Epoch 54/100\n",
      "363/363 [==============================] - 0s 796us/step - loss: 0.3781 - val_loss: 0.3934\n",
      "Epoch 55/100\n",
      "363/363 [==============================] - 0s 810us/step - loss: 0.3774 - val_loss: 0.3916\n",
      "Epoch 56/100\n",
      "363/363 [==============================] - 0s 760us/step - loss: 0.3764 - val_loss: 0.3918\n",
      "Epoch 57/100\n",
      "363/363 [==============================] - 0s 784us/step - loss: 0.3754 - val_loss: 0.3900\n",
      "Epoch 58/100\n",
      "363/363 [==============================] - 0s 769us/step - loss: 0.3751 - val_loss: 0.3896\n",
      "Epoch 59/100\n",
      "363/363 [==============================] - 0s 796us/step - loss: 0.3744 - val_loss: 0.3891\n",
      "Epoch 60/100\n",
      "363/363 [==============================] - 0s 831us/step - loss: 0.3735 - val_loss: 0.3893\n",
      "Epoch 61/100\n",
      "363/363 [==============================] - 0s 777us/step - loss: 0.3732 - val_loss: 0.3884\n",
      "Epoch 62/100\n",
      "363/363 [==============================] - 0s 848us/step - loss: 0.3724 - val_loss: 0.3883\n",
      "Epoch 63/100\n",
      "363/363 [==============================] - 0s 744us/step - loss: 0.3713 - val_loss: 0.3860\n",
      "Epoch 64/100\n",
      "363/363 [==============================] - 0s 760us/step - loss: 0.3711 - val_loss: 0.3844\n",
      "Epoch 65/100\n",
      "363/363 [==============================] - 0s 788us/step - loss: 0.3705 - val_loss: 0.3848\n",
      "Epoch 66/100\n",
      "363/363 [==============================] - 0s 777us/step - loss: 0.3698 - val_loss: 0.3834\n",
      "Epoch 67/100\n",
      "363/363 [==============================] - 0s 813us/step - loss: 0.3689 - val_loss: 0.3861\n",
      "Epoch 68/100\n",
      "363/363 [==============================] - 0s 912us/step - loss: 0.3689 - val_loss: 0.3846\n",
      "Epoch 69/100\n",
      "363/363 [==============================] - 0s 894us/step - loss: 0.3683 - val_loss: 0.3836\n",
      "Epoch 70/100\n",
      "363/363 [==============================] - 0s 749us/step - loss: 0.3676 - val_loss: 0.3835\n",
      "Epoch 71/100\n",
      "363/363 [==============================] - 0s 788us/step - loss: 0.3669 - val_loss: 0.3803\n",
      "Epoch 72/100\n",
      "363/363 [==============================] - 0s 778us/step - loss: 0.3664 - val_loss: 0.3810\n",
      "Epoch 73/100\n",
      "363/363 [==============================] - 0s 745us/step - loss: 0.3659 - val_loss: 0.3810\n",
      "Epoch 74/100\n",
      "363/363 [==============================] - 0s 745us/step - loss: 0.3658 - val_loss: 0.3801\n",
      "Epoch 75/100\n",
      "363/363 [==============================] - 0s 768us/step - loss: 0.3653 - val_loss: 0.3789\n",
      "Epoch 76/100\n",
      "363/363 [==============================] - 0s 788us/step - loss: 0.3644 - val_loss: 0.3797\n",
      "Epoch 77/100\n",
      "363/363 [==============================] - 0s 768us/step - loss: 0.3636 - val_loss: 0.3778\n",
      "Epoch 78/100\n",
      "363/363 [==============================] - 0s 761us/step - loss: 0.3631 - val_loss: 0.3775\n",
      "Epoch 79/100\n",
      "363/363 [==============================] - 0s 788us/step - loss: 0.3628 - val_loss: 0.3754\n"
     ]
    },
    {
     "name": "stdout",
     "output_type": "stream",
     "text": [
      "Epoch 80/100\n",
      "363/363 [==============================] - 0s 793us/step - loss: 0.3622 - val_loss: 0.3769\n",
      "Epoch 81/100\n",
      "363/363 [==============================] - 0s 802us/step - loss: 0.3615 - val_loss: 0.3754\n",
      "Epoch 82/100\n",
      "363/363 [==============================] - 0s 791us/step - loss: 0.3622 - val_loss: 0.3735\n",
      "Epoch 83/100\n",
      "363/363 [==============================] - 0s 767us/step - loss: 0.3610 - val_loss: 0.3739\n",
      "Epoch 84/100\n",
      "363/363 [==============================] - 0s 799us/step - loss: 0.3608 - val_loss: 0.3744\n",
      "Epoch 85/100\n",
      "363/363 [==============================] - 0s 776us/step - loss: 0.3597 - val_loss: 0.3732\n",
      "Epoch 86/100\n",
      "363/363 [==============================] - 0s 766us/step - loss: 0.3597 - val_loss: 0.3730\n",
      "Epoch 87/100\n",
      "363/363 [==============================] - 0s 743us/step - loss: 0.3593 - val_loss: 0.3736\n",
      "Epoch 88/100\n",
      "363/363 [==============================] - 0s 740us/step - loss: 0.3589 - val_loss: 0.3711\n",
      "Epoch 89/100\n",
      "363/363 [==============================] - 0s 747us/step - loss: 0.3587 - val_loss: 0.3706\n",
      "Epoch 90/100\n",
      "363/363 [==============================] - 0s 765us/step - loss: 0.3582 - val_loss: 0.3710\n",
      "Epoch 91/100\n",
      "363/363 [==============================] - 0s 708us/step - loss: 0.3579 - val_loss: 0.3699\n",
      "Epoch 92/100\n",
      "363/363 [==============================] - 0s 727us/step - loss: 0.3570 - val_loss: 0.3711\n",
      "Epoch 93/100\n",
      "363/363 [==============================] - 0s 733us/step - loss: 0.3567 - val_loss: 0.3701\n",
      "Epoch 94/100\n",
      "363/363 [==============================] - 0s 694us/step - loss: 0.3560 - val_loss: 0.3685\n",
      "Epoch 95/100\n",
      "363/363 [==============================] - 0s 736us/step - loss: 0.3557 - val_loss: 0.3706\n",
      "Epoch 96/100\n",
      "363/363 [==============================] - 0s 694us/step - loss: 0.3560 - val_loss: 0.3690\n",
      "Epoch 97/100\n",
      "363/363 [==============================] - 0s 703us/step - loss: 0.3548 - val_loss: 0.3665\n",
      "Epoch 98/100\n",
      "363/363 [==============================] - 0s 696us/step - loss: 0.3547 - val_loss: 0.3676\n",
      "Epoch 99/100\n",
      "363/363 [==============================] - 0s 683us/step - loss: 0.3542 - val_loss: 0.3674\n",
      "Epoch 100/100\n",
      "363/363 [==============================] - 0s 704us/step - loss: 0.3534 - val_loss: 0.3649\n"
     ]
    }
   ],
   "source": [
    "history = model.fit(xtrain_scaled, ytrain, \n",
    "                    validation_data=(xvalid_scaled, yvalid),\n",
    "                    epochs=100, callbacks=callbacks)"
   ]
  },
  {
   "cell_type": "code",
   "execution_count": 8,
   "metadata": {
    "ExecuteTime": {
     "end_time": "2020-11-30T09:04:24.805866Z",
     "start_time": "2020-11-30T09:04:24.648770Z"
    }
   },
   "outputs": [
    {
     "data": {
      "image/png": "[encoded data removed]",
      "text/plain": [
       "<Figure size 576x360 with 1 Axes>"
      ]
     },
     "metadata": {
      "needs_background": "light"
     },
     "output_type": "display_data"
    }
   ],
   "source": [
    "def plot_learning_curves(history):\n",
    "    pd.DataFrame(history.history).plot(figsize=(8, 5))\n",
    "    plt.grid(True)\n",
    "    plt.gca().set_ylim(0, 1)\n",
    "    plt.show()\n",
    "    \n",
    "plot_learning_curves(history)"
   ]
  },
  {
   "cell_type": "code",
   "execution_count": 9,
   "metadata": {
    "ExecuteTime": {
     "end_time": "2020-11-30T09:04:24.916071Z",
     "start_time": "2020-11-30T09:04:24.808833Z"
    }
   },
   "outputs": [
    {
     "data": {
      "text/plain": [
       "0.37572652101516724"
      ]
     },
     "execution_count": 9,
     "metadata": {},
     "output_type": "execute_result"
    }
   ],
   "source": [
    "model.evaluate(xtest_scaled, ytest, verbose=0)"
   ]
  },
  {
   "cell_type": "code",
   "execution_count": null,
   "metadata": {},
   "outputs": [],
   "source": []
  }
 ],
 "metadata": {
  "kernelspec": {
   "display_name": "tf2_py3",
   "language": "python",
   "name": "tf2_py3"
  },
  "language_info": {
   "codemirror_mode": {
    "name": "ipython",
    "version": 3
   },
   "file_extension": ".py",
   "mimetype": "text/x-python",
   "name": "python",
   "nbconvert_exporter": "python",
   "pygments_lexer": "ipython3",
   "version": "3.6.7"
  },
  "toc": {
   "base_numbering": 1,
   "nav_menu": {},
   "number_sections": true,
   "sideBar": true,
   "skip_h1_title": false,
   "title_cell": "Table of Contents",
   "title_sidebar": "Contents",
   "toc_cell": false,
   "toc_position": {},
   "toc_section_display": true,
   "toc_window_display": false
  }
 },
 "nbformat": 4,
 "nbformat_minor": 4
}
