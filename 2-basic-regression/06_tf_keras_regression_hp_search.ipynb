{
 "cells": [
  {
   "cell_type": "code",
   "execution_count": 1,
   "metadata": {
    "ExecuteTime": {
     "end_time": "2020-11-30T10:00:21.123583Z",
     "start_time": "2020-11-30T10:00:18.563088Z"
    }
   },
   "outputs": [
    {
     "name": "stdout",
     "output_type": "stream",
     "text": [
      "2.3.1\n",
      "sys.version_info(major=3, minor=6, micro=7, releaselevel='final', serial=0)\n",
      "matplotlib 3.3.2\n",
      "numpy 1.18.4\n",
      "pandas 1.1.4\n",
      "sklearn 0.23.2\n",
      "tensorflow 2.3.1\n",
      "tensorflow.keras 2.4.0\n"
     ]
    }
   ],
   "source": [
    "import matplotlib as mpl\n",
    "import matplotlib.pyplot as plt\n",
    "%matplotlib inline\n",
    "import numpy as np\n",
    "import pandas as pd\n",
    "import sklearn\n",
    "import os\n",
    "import sys\n",
    "import time\n",
    "import tensorflow as tf\n",
    "from tensorflow import keras\n",
    "\n",
    "print(tf.__version__)\n",
    "print(sys.version_info)\n",
    "for module in mpl, np, pd, sklearn, tf, keras:\n",
    "    print(module.__name__, module.__version__)"
   ]
  },
  {
   "cell_type": "code",
   "execution_count": 2,
   "metadata": {
    "ExecuteTime": {
     "end_time": "2020-11-30T10:00:21.186512Z",
     "start_time": "2020-11-30T10:00:21.126510Z"
    }
   },
   "outputs": [
    {
     "name": "stdout",
     "output_type": "stream",
     "text": [
      ".. _california_housing_dataset:\n",
      "\n",
      "California Housing dataset\n",
      "--------------------------\n",
      "\n",
      "**Data Set Characteristics:**\n",
      "\n",
      "    :Number of Instances: 20640\n",
      "\n",
      "    :Number of Attributes: 8 numeric, predictive attributes and the target\n",
      "\n",
      "    :Attribute Information:\n",
      "        - MedInc        median income in block\n",
      "        - HouseAge      median house age in block\n",
      "        - AveRooms      average number of rooms\n",
      "        - AveBedrms     average number of bedrooms\n",
      "        - Population    block population\n",
      "        - AveOccup      average house occupancy\n",
      "        - Latitude      house block latitude\n",
      "        - Longitude     house block longitude\n",
      "\n",
      "    :Missing Attribute Values: None\n",
      "\n",
      "This dataset was obtained from the StatLib repository.\n",
      "http://lib.stat.cmu.edu/datasets/\n",
      "\n",
      "The target variable is the median house value for California districts.\n",
      "\n",
      "This dataset was derived from the 1990 U.S. census, using one row per census\n",
      "block group. A block group is the smallest geographical unit for which the U.S.\n",
      "Census Bureau publishes sample data (a block group typically has a population\n",
      "of 600 to 3,000 people).\n",
      "\n",
      "It can be downloaded/loaded using the\n",
      ":func:`sklearn.datasets.fetch_california_housing` function.\n",
      "\n",
      ".. topic:: References\n",
      "\n",
      "    - Pace, R. Kelley and Ronald Barry, Sparse Spatial Autoregressions,\n",
      "      Statistics and Probability Letters, 33 (1997) 291-297\n",
      "\n",
      "(20640, 8)\n",
      "(20640,)\n"
     ]
    }
   ],
   "source": [
    "from sklearn.datasets import fetch_california_housing\n",
    "housing = fetch_california_housing()\n",
    "print(housing.DESCR)\n",
    "print(housing.data.shape)\n",
    "print(housing.target.shape)"
   ]
  },
  {
   "cell_type": "code",
   "execution_count": 3,
   "metadata": {
    "ExecuteTime": {
     "end_time": "2020-11-30T10:00:21.234576Z",
     "start_time": "2020-11-30T10:00:21.188512Z"
    }
   },
   "outputs": [
    {
     "name": "stdout",
     "output_type": "stream",
     "text": [
      "(11610, 8) (11610,)\n",
      "(3870, 8) (3870,)\n",
      "(5160, 8) (5160,)\n"
     ]
    }
   ],
   "source": [
    "from sklearn.model_selection import train_test_split\n",
    "\n",
    "xtrain_all, xtest, ytrain_all, ytest = train_test_split(\n",
    "    housing.data, housing.target, random_state=7)\n",
    "xtrain, xvalid, ytrain, yvalid = train_test_split(\n",
    "    xtrain_all ,ytrain_all, random_state=11)\n",
    "print(xtrain.shape, ytrain.shape)\n",
    "print(xvalid.shape, yvalid.shape)\n",
    "print(xtest.shape, ytest.shape)"
   ]
  },
  {
   "cell_type": "code",
   "execution_count": 4,
   "metadata": {
    "ExecuteTime": {
     "end_time": "2020-11-30T10:00:21.250635Z",
     "start_time": "2020-11-30T10:00:21.236510Z"
    }
   },
   "outputs": [],
   "source": [
    "from sklearn.preprocessing import StandardScaler\n",
    "scaler = StandardScaler()\n",
    "xtrain_scaled = scaler.fit_transform(xtrain)\n",
    "xvalid_scaled= scaler.transform(xvalid)\n",
    "xtest_scaled = scaler.transform(xtest)"
   ]
  },
  {
   "cell_type": "code",
   "execution_count": 6,
   "metadata": {
    "ExecuteTime": {
     "end_time": "2020-11-30T10:01:21.198036Z",
     "start_time": "2020-11-30T10:01:06.229788Z"
    }
   },
   "outputs": [
    {
     "name": "stdout",
     "output_type": "stream",
     "text": [
      "Epoch 1/10\n",
      "300/363 [=======================>......] - ETA: 0s - loss: 4.4363WARNING:tensorflow:Callbacks method `on_test_batch_begin` is slow compared to the batch time (batch time: 0.0000s vs `on_test_batch_begin` time: 0.0010s). Check your callbacks.\n",
      "363/363 [==============================] - 0s 892us/step - loss: 4.3563 - val_loss: 3.8119\n",
      "Epoch 2/10\n",
      "363/363 [==============================] - 0s 655us/step - loss: 3.2428 - val_loss: 2.8939\n",
      "Epoch 3/10\n",
      "363/363 [==============================] - 0s 661us/step - loss: 2.5316 - val_loss: 2.2975\n",
      "Epoch 4/10\n",
      "363/363 [==============================] - 0s 708us/step - loss: 2.0548 - val_loss: 1.8864\n",
      "Epoch 5/10\n",
      "363/363 [==============================] - 0s 642us/step - loss: 1.7255 - val_loss: 1.6017\n",
      "Epoch 6/10\n",
      "363/363 [==============================] - 0s 634us/step - loss: 1.4911 - val_loss: 1.3988\n",
      "Epoch 7/10\n",
      "363/363 [==============================] - 0s 667us/step - loss: 1.3176 - val_loss: 1.2512\n",
      "Epoch 8/10\n",
      "363/363 [==============================] - 0s 646us/step - loss: 1.1870 - val_loss: 1.1412\n",
      "Epoch 9/10\n",
      "363/363 [==============================] - 0s 658us/step - loss: 1.0870 - val_loss: 1.0599\n",
      "Epoch 10/10\n",
      "363/363 [==============================] - 0s 647us/step - loss: 1.0099 - val_loss: 0.9974\n",
      "Epoch 1/10\n",
      "363/363 [==============================] - 0s 827us/step - loss: 2.2628 - val_loss: 1.5439\n",
      "Epoch 2/10\n",
      "363/363 [==============================] - 0s 732us/step - loss: 1.3167 - val_loss: 1.1207\n",
      "Epoch 3/10\n",
      "363/363 [==============================] - 0s 641us/step - loss: 0.9957 - val_loss: 0.9684\n",
      "Epoch 4/10\n",
      "363/363 [==============================] - 0s 733us/step - loss: 0.8626 - val_loss: 0.8988\n",
      "Epoch 5/10\n",
      "363/363 [==============================] - 0s 689us/step - loss: 0.7982 - val_loss: 0.8576\n",
      "Epoch 6/10\n",
      "363/363 [==============================] - 0s 645us/step - loss: 0.7612 - val_loss: 0.8286\n",
      "Epoch 7/10\n",
      "363/363 [==============================] - 0s 620us/step - loss: 0.7356 - val_loss: 0.8054\n",
      "Epoch 8/10\n",
      "363/363 [==============================] - 0s 636us/step - loss: 0.7156 - val_loss: 0.7849\n",
      "Epoch 9/10\n",
      "363/363 [==============================] - 0s 653us/step - loss: 0.6987 - val_loss: 0.7665\n",
      "Epoch 10/10\n",
      "363/363 [==============================] - 0s 682us/step - loss: 0.6835 - val_loss: 0.7492\n",
      "Epoch 1/10\n",
      "363/363 [==============================] - 0s 826us/step - loss: 2.5211 - val_loss: 1.0468\n",
      "Epoch 2/10\n",
      "363/363 [==============================] - 0s 645us/step - loss: 0.7997 - val_loss: 0.7942\n",
      "Epoch 3/10\n",
      "363/363 [==============================] - 0s 635us/step - loss: 0.6978 - val_loss: 0.7361\n",
      "Epoch 4/10\n",
      "363/363 [==============================] - 0s 694us/step - loss: 0.6592 - val_loss: 0.6981\n",
      "Epoch 5/10\n",
      "363/363 [==============================] - 0s 645us/step - loss: 0.6294 - val_loss: 0.6679\n",
      "Epoch 6/10\n",
      "363/363 [==============================] - 0s 697us/step - loss: 0.6042 - val_loss: 0.6409\n",
      "Epoch 7/10\n",
      "363/363 [==============================] - 0s 658us/step - loss: 0.5825 - val_loss: 0.6189\n",
      "Epoch 8/10\n",
      "363/363 [==============================] - 0s 675us/step - loss: 0.5636 - val_loss: 0.5978\n",
      "Epoch 9/10\n",
      "363/363 [==============================] - 0s 675us/step - loss: 0.5479 - val_loss: 0.5825\n",
      "Epoch 10/10\n",
      "363/363 [==============================] - 0s 680us/step - loss: 0.5338 - val_loss: 0.5675\n",
      "Epoch 1/10\n",
      "363/363 [==============================] - 0s 797us/step - loss: 1.2400 - val_loss: 0.7548\n",
      "Epoch 2/10\n",
      "363/363 [==============================] - 0s 650us/step - loss: 0.6322 - val_loss: 0.6361\n",
      "Epoch 3/10\n",
      "363/363 [==============================] - 0s 628us/step - loss: 0.5559 - val_loss: 0.5960\n",
      "Epoch 4/10\n",
      "363/363 [==============================] - 0s 631us/step - loss: 0.5152 - val_loss: 0.5401\n",
      "Epoch 5/10\n",
      "363/363 [==============================] - 0s 653us/step - loss: 0.4895 - val_loss: 0.5354\n",
      "Epoch 6/10\n",
      "363/363 [==============================] - 0s 661us/step - loss: 0.4728 - val_loss: 0.4962\n",
      "Epoch 7/10\n",
      "363/363 [==============================] - 0s 639us/step - loss: 0.4614 - val_loss: 0.4930\n",
      "Epoch 8/10\n",
      "363/363 [==============================] - 0s 634us/step - loss: 0.4499 - val_loss: 0.4767\n",
      "Epoch 9/10\n",
      "363/363 [==============================] - 0s 623us/step - loss: 0.4443 - val_loss: 0.4670\n",
      "Epoch 10/10\n",
      "363/363 [==============================] - 0s 625us/step - loss: 0.4374 - val_loss: 0.4661\n",
      "Epoch 1/10\n",
      "363/363 [==============================] - 0s 793us/step - loss: 1.2784 - val_loss: 1.8707\n",
      "Epoch 2/10\n",
      "363/363 [==============================] - 0s 642us/step - loss: 4.8213 - val_loss: 0.6077\n",
      "Epoch 3/10\n",
      "363/363 [==============================] - 0s 609us/step - loss: 0.5086 - val_loss: 0.4763\n",
      "Epoch 4/10\n",
      "363/363 [==============================] - 0s 631us/step - loss: 0.4292 - val_loss: 0.4314\n",
      "Epoch 5/10\n",
      "363/363 [==============================] - 0s 705us/step - loss: 0.4035 - val_loss: 0.4160\n",
      "Epoch 6/10\n",
      "363/363 [==============================] - 0s 653us/step - loss: 0.3907 - val_loss: 0.4067\n",
      "Epoch 7/10\n",
      "363/363 [==============================] - 0s 625us/step - loss: 0.3850 - val_loss: 0.3992\n",
      "Epoch 8/10\n",
      "363/363 [==============================] - 0s 634us/step - loss: 0.3793 - val_loss: 0.3915\n",
      "Epoch 9/10\n",
      "363/363 [==============================] - 0s 620us/step - loss: 0.3719 - val_loss: 0.3929\n",
      "Epoch 10/10\n",
      "363/363 [==============================] - 0s 628us/step - loss: 0.3664 - val_loss: 0.3889\n",
      "Epoch 1/10\n",
      "363/363 [==============================] - 0s 811us/step - loss: nan - val_loss: nan\n",
      "Epoch 2/10\n",
      "307/363 [========================>.....] - ETA: 0s - loss: nan"
     ]
    },
    {
     "name": "stderr",
     "output_type": "stream",
     "text": [
      "C:\\Users\\lxinp\\Documents\\Envs\\tf2_py3\\lib\\site-packages\\tensorflow\\python\\keras\\callbacks.py:1664: RuntimeWarning: invalid value encountered in less\n",
      "  if self.monitor_op(current - self.min_delta, self.best):\n"
     ]
    },
    {
     "name": "stdout",
     "output_type": "stream",
     "text": [
      "363/363 [==============================] - 0s 649us/step - loss: nan - val_loss: nan\n",
      "Epoch 3/10\n",
      "363/363 [==============================] - 0s 639us/step - loss: nan - val_loss: nan\n",
      "Epoch 4/10\n",
      "363/363 [==============================] - 0s 656us/step - loss: nan - val_loss: nan\n",
      "Epoch 5/10\n",
      "363/363 [==============================] - 0s 647us/step - loss: nan - val_loss: nan\n"
     ]
    }
   ],
   "source": [
    "# learning_rate: [1e-4, 3e-4, 1e-3, 3e-3, 1e-2, 3e-2]\n",
    "# W = W + grad * learning_rate\n",
    "\n",
    "learning_rates = [1e-4, 3e-4, 1e-3, 3e-3, 1e-2, 3e-2]\n",
    "histories = []\n",
    "for lr in learning_rates:\n",
    "    model = keras.models.Sequential([\n",
    "        keras.layers.Dense(30, activation='relu',\n",
    "                           input_shape=xtrain.shape[1:]),\n",
    "        keras.layers.Dense(1),\n",
    "    ])\n",
    "    optimizer = keras.optimizers.SGD(lr)\n",
    "    model.compile(loss=\"mean_squared_error\", optimizer=optimizer)\n",
    "    callbacks = [keras.callbacks.EarlyStopping(\n",
    "        patience=5, min_delta=1e-2)]\n",
    "    history = model.fit(xtrain_scaled, ytrain,\n",
    "                        validation_data = (xvalid_scaled, yvalid),\n",
    "                        epochs = 10,\n",
    "                        callbacks = callbacks)\n",
    "    histories.append(history)"
   ]
  },
  {
   "cell_type": "code",
   "execution_count": 7,
   "metadata": {
    "ExecuteTime": {
     "end_time": "2020-11-30T10:01:45.192950Z",
     "start_time": "2020-11-30T10:01:44.450532Z"
    }
   },
   "outputs": [
    {
     "name": "stdout",
     "output_type": "stream",
     "text": [
      "Learning rate:  0.0001\n"
     ]
    },
    {
     "data": {
      "image/png": "[encoded data removed]",
      "text/plain": [
       "<Figure size 576x360 with 1 Axes>"
      ]
     },
     "metadata": {
      "needs_background": "light"
     },
     "output_type": "display_data"
    },
    {
     "name": "stdout",
     "output_type": "stream",
     "text": [
      "Learning rate:  0.0003\n"
     ]
    },
    {
     "data": {
      "image/png": "[encoded data removed]",
      "text/plain": [
       "<Figure size 576x360 with 1 Axes>"
      ]
     },
     "metadata": {
      "needs_background": "light"
     },
     "output_type": "display_data"
    },
    {
     "name": "stdout",
     "output_type": "stream",
     "text": [
      "Learning rate:  0.001\n"
     ]
    },
    {
     "data": {
      "image/png": "[encoded data removed]",
      "text/plain": [
       "<Figure size 576x360 with 1 Axes>"
      ]
     },
     "metadata": {
      "needs_background": "light"
     },
     "output_type": "display_data"
    },
    {
     "name": "stdout",
     "output_type": "stream",
     "text": [
      "Learning rate:  0.003\n"
     ]
    },
    {
     "data": {
      "image/png": "[encoded data removed]",
      "text/plain": [
       "<Figure size 576x360 with 1 Axes>"
      ]
     },
     "metadata": {
      "needs_background": "light"
     },
     "output_type": "display_data"
    },
    {
     "name": "stdout",
     "output_type": "stream",
     "text": [
      "Learning rate:  0.01\n"
     ]
    },
    {
     "data": {
      "image/png": "[encoded data removed]",
      "text/plain": [
       "<Figure size 576x360 with 1 Axes>"
      ]
     },
     "metadata": {
      "needs_background": "light"
     },
     "output_type": "display_data"
    },
    {
     "name": "stdout",
     "output_type": "stream",
     "text": [
      "Learning rate:  0.03\n"
     ]
    },
    {
     "data": {
      "image/png": "[encoded data removed]",
      "text/plain": [
       "<Figure size 576x360 with 1 Axes>"
      ]
     },
     "metadata": {
      "needs_background": "light"
     },
     "output_type": "display_data"
    }
   ],
   "source": [
    "def plot_learning_curves(history):\n",
    "    pd.DataFrame(history.history).plot(figsize=(8, 5))\n",
    "    plt.grid(True)\n",
    "    plt.gca().set_ylim(0, 1)\n",
    "    plt.show()\n",
    "for lr, history in zip(learning_rates, histories):\n",
    "    print(\"Learning rate: \", lr)\n",
    "    plot_learning_curves(history)"
   ]
  },
  {
   "cell_type": "code",
   "execution_count": null,
   "metadata": {},
   "outputs": [],
   "source": []
  },
  {
   "cell_type": "code",
   "execution_count": null,
   "metadata": {},
   "outputs": [],
   "source": []
  },
  {
   "cell_type": "code",
   "execution_count": null,
   "metadata": {},
   "outputs": [],
   "source": []
  },
  {
   "cell_type": "code",
   "execution_count": null,
   "metadata": {},
   "outputs": [],
   "source": []
  },
  {
   "cell_type": "code",
   "execution_count": null,
   "metadata": {},
   "outputs": [],
   "source": []
  }
 ],
 "metadata": {
  "kernelspec": {
   "display_name": "tf2_py3",
   "language": "python",
   "name": "tf2_py3"
  },
  "language_info": {
   "codemirror_mode": {
    "name": "ipython",
    "version": 3
   },
   "file_extension": ".py",
   "mimetype": "text/x-python",
   "name": "python",
   "nbconvert_exporter": "python",
   "pygments_lexer": "ipython3",
   "version": "3.6.7"
  },
  "toc": {
   "base_numbering": 1,
   "nav_menu": {},
   "number_sections": true,
   "sideBar": true,
   "skip_h1_title": false,
   "title_cell": "Table of Contents",
   "title_sidebar": "Contents",
   "toc_cell": false,
   "toc_position": {},
   "toc_section_display": true,
   "toc_window_display": false
  }
 },
 "nbformat": 4,
 "nbformat_minor": 4
}
