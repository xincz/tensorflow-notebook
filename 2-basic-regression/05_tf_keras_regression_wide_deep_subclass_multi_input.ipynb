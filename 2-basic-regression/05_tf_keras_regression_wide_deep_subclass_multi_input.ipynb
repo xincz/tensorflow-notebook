{
 "cells": [
  {
   "cell_type": "code",
   "execution_count": 1,
   "metadata": {
    "ExecuteTime": {
     "end_time": "2020-11-30T09:21:54.150072Z",
     "start_time": "2020-11-30T09:21:51.354386Z"
    }
   },
   "outputs": [
    {
     "name": "stdout",
     "output_type": "stream",
     "text": [
      "2.3.1\n",
      "sys.version_info(major=3, minor=6, micro=7, releaselevel='final', serial=0)\n",
      "matplotlib 3.3.2\n",
      "numpy 1.18.4\n",
      "pandas 1.1.4\n",
      "sklearn 0.23.2\n",
      "tensorflow 2.3.1\n",
      "tensorflow.keras 2.4.0\n"
     ]
    }
   ],
   "source": [
    "import matplotlib as mpl\n",
    "import matplotlib.pyplot as plt\n",
    "%matplotlib inline\n",
    "import numpy as np\n",
    "import pandas as pd\n",
    "import sklearn\n",
    "import os\n",
    "import sys\n",
    "import time\n",
    "import tensorflow as tf\n",
    "from tensorflow import keras\n",
    "\n",
    "print(tf.__version__)\n",
    "print(sys.version_info)\n",
    "for module in mpl, np, pd, sklearn, tf, keras:\n",
    "    print(module.__name__, module.__version__)"
   ]
  },
  {
   "cell_type": "code",
   "execution_count": 2,
   "metadata": {
    "ExecuteTime": {
     "end_time": "2020-11-30T09:21:54.228125Z",
     "start_time": "2020-11-30T09:21:54.153084Z"
    }
   },
   "outputs": [
    {
     "name": "stdout",
     "output_type": "stream",
     "text": [
      ".. _california_housing_dataset:\n",
      "\n",
      "California Housing dataset\n",
      "--------------------------\n",
      "\n",
      "**Data Set Characteristics:**\n",
      "\n",
      "    :Number of Instances: 20640\n",
      "\n",
      "    :Number of Attributes: 8 numeric, predictive attributes and the target\n",
      "\n",
      "    :Attribute Information:\n",
      "        - MedInc        median income in block\n",
      "        - HouseAge      median house age in block\n",
      "        - AveRooms      average number of rooms\n",
      "        - AveBedrms     average number of bedrooms\n",
      "        - Population    block population\n",
      "        - AveOccup      average house occupancy\n",
      "        - Latitude      house block latitude\n",
      "        - Longitude     house block longitude\n",
      "\n",
      "    :Missing Attribute Values: None\n",
      "\n",
      "This dataset was obtained from the StatLib repository.\n",
      "http://lib.stat.cmu.edu/datasets/\n",
      "\n",
      "The target variable is the median house value for California districts.\n",
      "\n",
      "This dataset was derived from the 1990 U.S. census, using one row per census\n",
      "block group. A block group is the smallest geographical unit for which the U.S.\n",
      "Census Bureau publishes sample data (a block group typically has a population\n",
      "of 600 to 3,000 people).\n",
      "\n",
      "It can be downloaded/loaded using the\n",
      ":func:`sklearn.datasets.fetch_california_housing` function.\n",
      "\n",
      ".. topic:: References\n",
      "\n",
      "    - Pace, R. Kelley and Ronald Barry, Sparse Spatial Autoregressions,\n",
      "      Statistics and Probability Letters, 33 (1997) 291-297\n",
      "\n",
      "(20640, 8)\n",
      "(20640,)\n"
     ]
    }
   ],
   "source": [
    "from sklearn.datasets import fetch_california_housing\n",
    "housing = fetch_california_housing()\n",
    "print(housing.DESCR)\n",
    "print(housing.data.shape)\n",
    "print(housing.target.shape)"
   ]
  },
  {
   "cell_type": "code",
   "execution_count": 3,
   "metadata": {
    "ExecuteTime": {
     "end_time": "2020-11-30T09:21:54.275073Z",
     "start_time": "2020-11-30T09:21:54.230073Z"
    }
   },
   "outputs": [
    {
     "name": "stdout",
     "output_type": "stream",
     "text": [
      "(11610, 8) (11610,)\n",
      "(3870, 8) (3870,)\n",
      "(5160, 8) (5160,)\n"
     ]
    }
   ],
   "source": [
    "from sklearn.model_selection import train_test_split\n",
    "\n",
    "xtrain_all, xtest, ytrain_all, ytest = train_test_split(\n",
    "    housing.data, housing.target, random_state=7)\n",
    "xtrain, xvalid, ytrain, yvalid = train_test_split(\n",
    "    xtrain_all ,ytrain_all, random_state=11)\n",
    "print(xtrain.shape, ytrain.shape)\n",
    "print(xvalid.shape, yvalid.shape)\n",
    "print(xtest.shape, ytest.shape)"
   ]
  },
  {
   "cell_type": "code",
   "execution_count": 4,
   "metadata": {
    "ExecuteTime": {
     "end_time": "2020-11-30T09:21:54.291076Z",
     "start_time": "2020-11-30T09:21:54.277073Z"
    }
   },
   "outputs": [],
   "source": [
    "from sklearn.preprocessing import StandardScaler\n",
    "scaler = StandardScaler()\n",
    "xtrain_scaled = scaler.fit_transform(xtrain)\n",
    "xvalid_scaled= scaler.transform(xvalid)\n",
    "xtest_scaled = scaler.transform(xtest)"
   ]
  },
  {
   "cell_type": "code",
   "execution_count": 7,
   "metadata": {
    "ExecuteTime": {
     "end_time": "2020-11-30T09:22:43.594583Z",
     "start_time": "2020-11-30T09:22:43.512586Z"
    }
   },
   "outputs": [
    {
     "name": "stdout",
     "output_type": "stream",
     "text": [
      "Model: \"functional_2\"\n",
      "__________________________________________________________________________________________________\n",
      "Layer (type)                    Output Shape         Param #     Connected to                     \n",
      "==================================================================================================\n",
      "input_6 (InputLayer)            [(None, 6)]          0                                            \n",
      "__________________________________________________________________________________________________\n",
      "dense_6 (Dense)                 (None, 30)           210         input_6[0][0]                    \n",
      "__________________________________________________________________________________________________\n",
      "input_5 (InputLayer)            [(None, 5)]          0                                            \n",
      "__________________________________________________________________________________________________\n",
      "dense_7 (Dense)                 (None, 30)           930         dense_6[0][0]                    \n",
      "__________________________________________________________________________________________________\n",
      "concatenate_2 (Concatenate)     (None, 35)           0           input_5[0][0]                    \n",
      "                                                                 dense_7[0][0]                    \n",
      "__________________________________________________________________________________________________\n",
      "dense_8 (Dense)                 (None, 1)            36          concatenate_2[0][0]              \n",
      "==================================================================================================\n",
      "Total params: 1,176\n",
      "Trainable params: 1,176\n",
      "Non-trainable params: 0\n",
      "__________________________________________________________________________________________________\n"
     ]
    }
   ],
   "source": [
    "# 多输入\n",
    "input_wide = keras.layers.Input(shape=[5])\n",
    "input_deep = keras.layers.Input(shape=[6])\n",
    "hidden1 = keras.layers.Dense(30, activation='relu')(input_deep)\n",
    "hidden2 = keras.layers.Dense(30, activation='relu')(hidden1)\n",
    "concat = keras.layers.concatenate([input_wide, hidden2])\n",
    "output = keras.layers.Dense(1)(concat)  # 需要调用\n",
    "model = keras.models.Model(inputs=[input_wide, input_deep], outputs=[output])\n",
    "\n",
    "model.summary()\n",
    "model.compile(loss=\"mean_squared_error\", \n",
    "              optimizer = keras.optimizers.SGD(0.001))\n",
    "callbacks = [keras.callbacks.EarlyStopping(patience=5, min_delta=1e-5)]"
   ]
  },
  {
   "cell_type": "code",
   "execution_count": 9,
   "metadata": {
    "ExecuteTime": {
     "end_time": "2020-11-30T09:23:49.019785Z",
     "start_time": "2020-11-30T09:23:17.158461Z"
    }
   },
   "outputs": [
    {
     "name": "stdout",
     "output_type": "stream",
     "text": [
      "Epoch 1/100\n",
      "363/363 [==============================] - 0s 1ms/step - loss: 1.7211 - val_loss: 0.9262\n",
      "Epoch 2/100\n",
      "363/363 [==============================] - 0s 758us/step - loss: 0.7820 - val_loss: 0.7808\n",
      "Epoch 3/100\n",
      "363/363 [==============================] - 0s 784us/step - loss: 0.7008 - val_loss: 0.7230\n",
      "Epoch 4/100\n",
      "363/363 [==============================] - 0s 787us/step - loss: 0.6549 - val_loss: 0.6804\n",
      "Epoch 5/100\n",
      "363/363 [==============================] - 0s 804us/step - loss: 0.6214 - val_loss: 0.6494\n",
      "Epoch 6/100\n",
      "363/363 [==============================] - 0s 771us/step - loss: 0.5947 - val_loss: 0.6230\n",
      "Epoch 7/100\n",
      "363/363 [==============================] - 0s 777us/step - loss: 0.5730 - val_loss: 0.5993\n",
      "Epoch 8/100\n",
      "363/363 [==============================] - 0s 818us/step - loss: 0.5538 - val_loss: 0.5799\n",
      "Epoch 9/100\n",
      "363/363 [==============================] - 0s 911us/step - loss: 0.5381 - val_loss: 0.5648\n",
      "Epoch 10/100\n",
      "363/363 [==============================] - 0s 914us/step - loss: 0.5248 - val_loss: 0.5503\n",
      "Epoch 11/100\n",
      "363/363 [==============================] - 0s 912us/step - loss: 0.5131 - val_loss: 0.5366\n",
      "Epoch 12/100\n",
      "363/363 [==============================] - 0s 963us/step - loss: 0.5027 - val_loss: 0.5305\n",
      "Epoch 13/100\n",
      "363/363 [==============================] - 0s 848us/step - loss: 0.4948 - val_loss: 0.5181\n",
      "Epoch 14/100\n",
      "363/363 [==============================] - 0s 869us/step - loss: 0.4878 - val_loss: 0.5103\n",
      "Epoch 15/100\n",
      "363/363 [==============================] - 0s 814us/step - loss: 0.4814 - val_loss: 0.5038\n",
      "Epoch 16/100\n",
      "363/363 [==============================] - 0s 838us/step - loss: 0.4751 - val_loss: 0.4978\n",
      "Epoch 17/100\n",
      "363/363 [==============================] - 0s 884us/step - loss: 0.4704 - val_loss: 0.4991\n",
      "Epoch 18/100\n",
      "363/363 [==============================] - 0s 844us/step - loss: 0.4657 - val_loss: 0.4872\n",
      "Epoch 19/100\n",
      "363/363 [==============================] - 0s 835us/step - loss: 0.4622 - val_loss: 0.4834\n",
      "Epoch 20/100\n",
      "363/363 [==============================] - 0s 904us/step - loss: 0.4578 - val_loss: 0.4798\n",
      "Epoch 21/100\n",
      "363/363 [==============================] - 0s 851us/step - loss: 0.4542 - val_loss: 0.4754\n",
      "Epoch 22/100\n",
      "363/363 [==============================] - 0s 901us/step - loss: 0.4499 - val_loss: 0.4725\n",
      "Epoch 23/100\n",
      "363/363 [==============================] - 0s 832us/step - loss: 0.4480 - val_loss: 0.4698\n",
      "Epoch 24/100\n",
      "363/363 [==============================] - 0s 890us/step - loss: 0.4443 - val_loss: 0.4663\n",
      "Epoch 25/100\n",
      "363/363 [==============================] - 0s 849us/step - loss: 0.4416 - val_loss: 0.4649\n",
      "Epoch 26/100\n",
      "363/363 [==============================] - 0s 915us/step - loss: 0.4392 - val_loss: 0.4639\n",
      "Epoch 27/100\n",
      "363/363 [==============================] - 0s 876us/step - loss: 0.4369 - val_loss: 0.4580\n",
      "Epoch 28/100\n",
      "363/363 [==============================] - 0s 848us/step - loss: 0.4343 - val_loss: 0.4561\n",
      "Epoch 29/100\n",
      "363/363 [==============================] - 0s 800us/step - loss: 0.4320 - val_loss: 0.4554\n",
      "Epoch 30/100\n",
      "363/363 [==============================] - 0s 933us/step - loss: 0.4307 - val_loss: 0.4524\n",
      "Epoch 31/100\n",
      "363/363 [==============================] - 0s 813us/step - loss: 0.4278 - val_loss: 0.4489\n",
      "Epoch 32/100\n",
      "363/363 [==============================] - 0s 851us/step - loss: 0.4258 - val_loss: 0.4487\n",
      "Epoch 33/100\n",
      "363/363 [==============================] - 0s 857us/step - loss: 0.4240 - val_loss: 0.4486\n",
      "Epoch 34/100\n",
      "363/363 [==============================] - 0s 845us/step - loss: 0.4228 - val_loss: 0.4439\n",
      "Epoch 35/100\n",
      "363/363 [==============================] - 0s 828us/step - loss: 0.4216 - val_loss: 0.4437\n",
      "Epoch 36/100\n",
      "363/363 [==============================] - 0s 840us/step - loss: 0.4200 - val_loss: 0.4398\n",
      "Epoch 37/100\n",
      "363/363 [==============================] - 0s 836us/step - loss: 0.4180 - val_loss: 0.4396\n",
      "Epoch 38/100\n",
      "363/363 [==============================] - 0s 840us/step - loss: 0.4169 - val_loss: 0.4373\n",
      "Epoch 39/100\n",
      "363/363 [==============================] - 0s 829us/step - loss: 0.4146 - val_loss: 0.4359\n",
      "Epoch 40/100\n",
      "363/363 [==============================] - 0s 956us/step - loss: 0.4136 - val_loss: 0.4353\n",
      "Epoch 41/100\n",
      "363/363 [==============================] - 0s 829us/step - loss: 0.4120 - val_loss: 0.4355\n",
      "Epoch 42/100\n",
      "363/363 [==============================] - 0s 803us/step - loss: 0.4117 - val_loss: 0.4322\n",
      "Epoch 43/100\n",
      "363/363 [==============================] - 0s 854us/step - loss: 0.4096 - val_loss: 0.4300\n",
      "Epoch 44/100\n",
      "363/363 [==============================] - 0s 826us/step - loss: 0.4088 - val_loss: 0.4285\n",
      "Epoch 45/100\n",
      "363/363 [==============================] - 0s 837us/step - loss: 0.4079 - val_loss: 0.4283\n",
      "Epoch 46/100\n",
      "363/363 [==============================] - 0s 828us/step - loss: 0.4064 - val_loss: 0.4267\n",
      "Epoch 47/100\n",
      "363/363 [==============================] - 0s 843us/step - loss: 0.4050 - val_loss: 0.4253\n",
      "Epoch 48/100\n",
      "363/363 [==============================] - 0s 926us/step - loss: 0.4042 - val_loss: 0.4242\n",
      "Epoch 49/100\n",
      "363/363 [==============================] - 0s 876us/step - loss: 0.4031 - val_loss: 0.4234\n",
      "Epoch 50/100\n",
      "363/363 [==============================] - 0s 858us/step - loss: 0.4024 - val_loss: 0.4217\n",
      "Epoch 51/100\n",
      "363/363 [==============================] - 0s 858us/step - loss: 0.4012 - val_loss: 0.4221\n",
      "Epoch 52/100\n",
      "363/363 [==============================] - 0s 876us/step - loss: 0.4001 - val_loss: 0.4226\n",
      "Epoch 53/100\n",
      "363/363 [==============================] - 0s 933us/step - loss: 0.3994 - val_loss: 0.4202\n",
      "Epoch 54/100\n",
      "363/363 [==============================] - 0s 877us/step - loss: 0.3984 - val_loss: 0.4200\n",
      "Epoch 55/100\n",
      "363/363 [==============================] - 0s 920us/step - loss: 0.3984 - val_loss: 0.4170\n",
      "Epoch 56/100\n",
      "363/363 [==============================] - 0s 926us/step - loss: 0.3968 - val_loss: 0.4170\n",
      "Epoch 57/100\n",
      "363/363 [==============================] - 0s 818us/step - loss: 0.3957 - val_loss: 0.4159\n",
      "Epoch 58/100\n",
      "363/363 [==============================] - 0s 834us/step - loss: 0.3946 - val_loss: 0.4148\n",
      "Epoch 59/100\n",
      "363/363 [==============================] - 0s 868us/step - loss: 0.3948 - val_loss: 0.4140\n",
      "Epoch 60/100\n",
      "363/363 [==============================] - 0s 804us/step - loss: 0.3929 - val_loss: 0.4128\n",
      "Epoch 61/100\n",
      "363/363 [==============================] - 0s 821us/step - loss: 0.3922 - val_loss: 0.4164\n",
      "Epoch 62/100\n",
      "363/363 [==============================] - 0s 843us/step - loss: 0.3922 - val_loss: 0.4141\n",
      "Epoch 63/100\n",
      "363/363 [==============================] - 0s 802us/step - loss: 0.3906 - val_loss: 0.4122\n",
      "Epoch 64/100\n",
      "363/363 [==============================] - 0s 810us/step - loss: 0.3896 - val_loss: 0.4128\n",
      "Epoch 65/100\n",
      "363/363 [==============================] - 0s 926us/step - loss: 0.3894 - val_loss: 0.4096\n",
      "Epoch 66/100\n",
      "363/363 [==============================] - 0s 868us/step - loss: 0.3883 - val_loss: 0.4090\n",
      "Epoch 67/100\n",
      "363/363 [==============================] - 0s 788us/step - loss: 0.3878 - val_loss: 0.4099\n",
      "Epoch 68/100\n",
      "363/363 [==============================] - 0s 776us/step - loss: 0.3871 - val_loss: 0.4085\n",
      "Epoch 69/100\n",
      "363/363 [==============================] - 0s 763us/step - loss: 0.3865 - val_loss: 0.4066\n",
      "Epoch 70/100\n",
      "363/363 [==============================] - 0s 774us/step - loss: 0.3859 - val_loss: 0.4034\n",
      "Epoch 71/100\n",
      "363/363 [==============================] - 0s 793us/step - loss: 0.3848 - val_loss: 0.4044\n",
      "Epoch 72/100\n",
      "363/363 [==============================] - 0s 800us/step - loss: 0.3842 - val_loss: 0.4018\n",
      "Epoch 73/100\n",
      "363/363 [==============================] - 0s 795us/step - loss: 0.3838 - val_loss: 0.4045\n",
      "Epoch 74/100\n",
      "363/363 [==============================] - 0s 1ms/step - loss: 0.3827 - val_loss: 0.4031\n",
      "Epoch 75/100\n",
      "363/363 [==============================] - 0s 970us/step - loss: 0.3823 - val_loss: 0.4015\n",
      "Epoch 76/100\n",
      "363/363 [==============================] - 0s 871us/step - loss: 0.3816 - val_loss: 0.4008\n",
      "Epoch 77/100\n",
      "363/363 [==============================] - 0s 917us/step - loss: 0.3806 - val_loss: 0.3987\n",
      "Epoch 78/100\n",
      "363/363 [==============================] - 0s 1ms/step - loss: 0.3802 - val_loss: 0.3987\n",
      "Epoch 79/100\n",
      "363/363 [==============================] - 0s 947us/step - loss: 0.3797 - val_loss: 0.3967\n"
     ]
    },
    {
     "name": "stdout",
     "output_type": "stream",
     "text": [
      "Epoch 80/100\n",
      "363/363 [==============================] - 0s 883us/step - loss: 0.3789 - val_loss: 0.3969\n",
      "Epoch 81/100\n",
      "363/363 [==============================] - 0s 851us/step - loss: 0.3782 - val_loss: 0.3981\n",
      "Epoch 82/100\n",
      "363/363 [==============================] - 0s 894us/step - loss: 0.3774 - val_loss: 0.3948\n",
      "Epoch 83/100\n",
      "363/363 [==============================] - 0s 886us/step - loss: 0.3767 - val_loss: 0.3976\n",
      "Epoch 84/100\n",
      "363/363 [==============================] - 0s 1ms/step - loss: 0.3763 - val_loss: 0.3952\n",
      "Epoch 85/100\n",
      "363/363 [==============================] - 0s 958us/step - loss: 0.3759 - val_loss: 0.3935\n",
      "Epoch 86/100\n",
      "363/363 [==============================] - 0s 846us/step - loss: 0.3748 - val_loss: 0.3938\n",
      "Epoch 87/100\n",
      "363/363 [==============================] - 0s 878us/step - loss: 0.3746 - val_loss: 0.3924\n",
      "Epoch 88/100\n",
      "363/363 [==============================] - 0s 822us/step - loss: 0.3738 - val_loss: 0.3934\n",
      "Epoch 89/100\n",
      "363/363 [==============================] - 0s 831us/step - loss: 0.3735 - val_loss: 0.3907\n",
      "Epoch 90/100\n",
      "363/363 [==============================] - 0s 861us/step - loss: 0.3725 - val_loss: 0.3911\n",
      "Epoch 91/100\n",
      "363/363 [==============================] - 0s 819us/step - loss: 0.3719 - val_loss: 0.3905\n",
      "Epoch 92/100\n",
      "363/363 [==============================] - 0s 831us/step - loss: 0.3714 - val_loss: 0.3905\n",
      "Epoch 93/100\n",
      "363/363 [==============================] - 0s 833us/step - loss: 0.3710 - val_loss: 0.3885\n",
      "Epoch 94/100\n",
      "363/363 [==============================] - 0s 871us/step - loss: 0.3701 - val_loss: 0.3894\n",
      "Epoch 95/100\n",
      "363/363 [==============================] - 0s 820us/step - loss: 0.3696 - val_loss: 0.3871\n",
      "Epoch 96/100\n",
      "363/363 [==============================] - 0s 849us/step - loss: 0.3689 - val_loss: 0.3886\n",
      "Epoch 97/100\n",
      "363/363 [==============================] - 0s 886us/step - loss: 0.3685 - val_loss: 0.3865\n",
      "Epoch 98/100\n",
      "363/363 [==============================] - 0s 835us/step - loss: 0.3681 - val_loss: 0.3864\n",
      "Epoch 99/100\n",
      "363/363 [==============================] - 0s 828us/step - loss: 0.3676 - val_loss: 0.3850\n",
      "Epoch 100/100\n",
      "363/363 [==============================] - 0s 882us/step - loss: 0.3668 - val_loss: 0.3854\n"
     ]
    }
   ],
   "source": [
    "# 训练时需要拆分\n",
    "xtrain_scaled_wide = xtrain_scaled[:, :5]\n",
    "xtrain_scaled_deep = xtrain_scaled[:, 2:]\n",
    "xvalid_scaled_wide = xvalid_scaled[:, :5]\n",
    "xvalid_scaled_deep = xvalid_scaled[:, 2:]\n",
    "xtest_scaled_wide = xtest_scaled[:, :5]\n",
    "xtest_scaled_deep = xtest_scaled[:, 2:]\n",
    "\n",
    "history = model.fit([xtrain_scaled_wide, xtrain_scaled_deep], \n",
    "                     ytrain, \n",
    "                    validation_data=([xvalid_scaled_wide, xvalid_scaled_deep], \n",
    "                                      yvalid),\n",
    "                    epochs=100, callbacks=callbacks)"
   ]
  },
  {
   "cell_type": "code",
   "execution_count": 10,
   "metadata": {
    "ExecuteTime": {
     "end_time": "2020-11-30T09:23:49.192979Z",
     "start_time": "2020-11-30T09:23:49.022730Z"
    }
   },
   "outputs": [
    {
     "data": {
      "image/png": "[encoded data removed]",
      "text/plain": [
       "<Figure size 576x360 with 1 Axes>"
      ]
     },
     "metadata": {
      "needs_background": "light"
     },
     "output_type": "display_data"
    }
   ],
   "source": [
    "def plot_learning_curves(history):\n",
    "    pd.DataFrame(history.history).plot(figsize=(8, 5))\n",
    "    plt.grid(True)\n",
    "    plt.gca().set_ylim(0, 1)\n",
    "    plt.show()\n",
    "    \n",
    "plot_learning_curves(history)"
   ]
  },
  {
   "cell_type": "code",
   "execution_count": 11,
   "metadata": {
    "ExecuteTime": {
     "end_time": "2020-11-30T09:23:49.351584Z",
     "start_time": "2020-11-30T09:23:49.194979Z"
    }
   },
   "outputs": [
    {
     "data": {
      "text/plain": [
       "0.3778931200504303"
      ]
     },
     "execution_count": 11,
     "metadata": {},
     "output_type": "execute_result"
    }
   ],
   "source": [
    "model.evaluate([xtest_scaled_wide, xtest_scaled_deep], ytest, verbose=0)"
   ]
  },
  {
   "cell_type": "code",
   "execution_count": null,
   "metadata": {},
   "outputs": [],
   "source": []
  }
 ],
 "metadata": {
  "kernelspec": {
   "display_name": "tf2_py3",
   "language": "python",
   "name": "tf2_py3"
  },
  "language_info": {
   "codemirror_mode": {
    "name": "ipython",
    "version": 3
   },
   "file_extension": ".py",
   "mimetype": "text/x-python",
   "name": "python",
   "nbconvert_exporter": "python",
   "pygments_lexer": "ipython3",
   "version": "3.6.7"
  },
  "toc": {
   "base_numbering": 1,
   "nav_menu": {},
   "number_sections": true,
   "sideBar": true,
   "skip_h1_title": false,
   "title_cell": "Table of Contents",
   "title_sidebar": "Contents",
   "toc_cell": false,
   "toc_position": {},
   "toc_section_display": true,
   "toc_window_display": false
  }
 },
 "nbformat": 4,
 "nbformat_minor": 4
}
