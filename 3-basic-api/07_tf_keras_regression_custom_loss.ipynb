{
 "cells": [
  {
   "cell_type": "code",
   "execution_count": 1,
   "metadata": {
    "ExecuteTime": {
     "end_time": "2020-11-30T05:48:22.769257Z",
     "start_time": "2020-11-30T05:48:20.059517Z"
    }
   },
   "outputs": [
    {
     "name": "stdout",
     "output_type": "stream",
     "text": [
      "2.3.1\n",
      "sys.version_info(major=3, minor=6, micro=7, releaselevel='final', serial=0)\n",
      "matplotlib 3.3.2\n",
      "numpy 1.18.4\n",
      "pandas 1.1.4\n",
      "sklearn 0.23.2\n",
      "tensorflow 2.3.1\n",
      "tensorflow.keras 2.4.0\n"
     ]
    }
   ],
   "source": [
    "import matplotlib as mpl\n",
    "import matplotlib.pyplot as plt\n",
    "%matplotlib inline\n",
    "import numpy as np\n",
    "import pandas as pd\n",
    "import sklearn\n",
    "import os\n",
    "import sys\n",
    "import time\n",
    "import tensorflow as tf\n",
    "from tensorflow import keras\n",
    "\n",
    "print(tf.__version__)\n",
    "print(sys.version_info)\n",
    "for module in mpl, np, pd, sklearn, tf, keras:\n",
    "    print(module.__name__, module.__version__)"
   ]
  },
  {
   "cell_type": "code",
   "execution_count": 2,
   "metadata": {
    "ExecuteTime": {
     "end_time": "2020-11-30T05:51:46.358248Z",
     "start_time": "2020-11-30T05:50:06.607860Z"
    }
   },
   "outputs": [
    {
     "name": "stdout",
     "output_type": "stream",
     "text": [
      ".. _california_housing_dataset:\n",
      "\n",
      "California Housing dataset\n",
      "--------------------------\n",
      "\n",
      "**Data Set Characteristics:**\n",
      "\n",
      "    :Number of Instances: 20640\n",
      "\n",
      "    :Number of Attributes: 8 numeric, predictive attributes and the target\n",
      "\n",
      "    :Attribute Information:\n",
      "        - MedInc        median income in block\n",
      "        - HouseAge      median house age in block\n",
      "        - AveRooms      average number of rooms\n",
      "        - AveBedrms     average number of bedrooms\n",
      "        - Population    block population\n",
      "        - AveOccup      average house occupancy\n",
      "        - Latitude      house block latitude\n",
      "        - Longitude     house block longitude\n",
      "\n",
      "    :Missing Attribute Values: None\n",
      "\n",
      "This dataset was obtained from the StatLib repository.\n",
      "http://lib.stat.cmu.edu/datasets/\n",
      "\n",
      "The target variable is the median house value for California districts.\n",
      "\n",
      "This dataset was derived from the 1990 U.S. census, using one row per census\n",
      "block group. A block group is the smallest geographical unit for which the U.S.\n",
      "Census Bureau publishes sample data (a block group typically has a population\n",
      "of 600 to 3,000 people).\n",
      "\n",
      "It can be downloaded/loaded using the\n",
      ":func:`sklearn.datasets.fetch_california_housing` function.\n",
      "\n",
      ".. topic:: References\n",
      "\n",
      "    - Pace, R. Kelley and Ronald Barry, Sparse Spatial Autoregressions,\n",
      "      Statistics and Probability Letters, 33 (1997) 291-297\n",
      "\n",
      "(20640, 8)\n",
      "(20640,)\n"
     ]
    }
   ],
   "source": [
    "from sklearn.datasets import fetch_california_housing\n",
    "housing = fetch_california_housing()\n",
    "print(housing.DESCR)\n",
    "print(housing.data.shape)\n",
    "print(housing.target.shape)"
   ]
  },
  {
   "cell_type": "code",
   "execution_count": 3,
   "metadata": {
    "ExecuteTime": {
     "end_time": "2020-11-30T05:59:06.686826Z",
     "start_time": "2020-11-30T05:59:06.666300Z"
    }
   },
   "outputs": [
    {
     "name": "stdout",
     "output_type": "stream",
     "text": [
      "(11610, 8) (11610,)\n",
      "(3870, 8) (3870,)\n",
      "(5160, 8) (5160,)\n"
     ]
    }
   ],
   "source": [
    "from sklearn.model_selection import train_test_split\n",
    "\n",
    "xtrain_all, xtest, ytrain_all, ytest = train_test_split(\n",
    "    housing.data, housing.target, random_state=7)\n",
    "xtrain, xvalid, ytrain, yvalid = train_test_split(\n",
    "    xtrain_all ,ytrain_all, random_state=11)\n",
    "print(xtrain.shape, ytrain.shape)\n",
    "print(xvalid.shape, yvalid.shape)\n",
    "print(xtest.shape, ytest.shape)"
   ]
  },
  {
   "cell_type": "code",
   "execution_count": 4,
   "metadata": {
    "ExecuteTime": {
     "end_time": "2020-11-30T06:29:31.699188Z",
     "start_time": "2020-11-30T06:29:31.684187Z"
    }
   },
   "outputs": [],
   "source": [
    "from sklearn.preprocessing import StandardScaler\n",
    "scaler = StandardScaler()\n",
    "xtrain_scaled = scaler.fit_transform(xtrain)\n",
    "xvalid_scaled= scaler.transform(xvalid)\n",
    "xtest_scaled = scaler.transform(xtest)"
   ]
  },
  {
   "cell_type": "code",
   "execution_count": 5,
   "metadata": {
    "ExecuteTime": {
     "end_time": "2020-11-30T06:29:33.139973Z",
     "start_time": "2020-11-30T06:29:33.069970Z"
    }
   },
   "outputs": [
    {
     "name": "stdout",
     "output_type": "stream",
     "text": [
      "Model: \"sequential\"\n",
      "_________________________________________________________________\n",
      "Layer (type)                 Output Shape              Param #   \n",
      "=================================================================\n",
      "dense (Dense)                (None, 30)                270       \n",
      "_________________________________________________________________\n",
      "dense_1 (Dense)              (None, 1)                 31        \n",
      "=================================================================\n",
      "Total params: 301\n",
      "Trainable params: 301\n",
      "Non-trainable params: 0\n",
      "_________________________________________________________________\n"
     ]
    }
   ],
   "source": [
    "def customized_mse(y_true, y_pred):\n",
    "    return tf.reduce_mean(tf.square(y_pred - y_true))\n",
    "\n",
    "model = keras.models.Sequential([\n",
    "    keras.layers.Dense(30, activation='relu', input_shape=xtrain.shape[1:]),\n",
    "    keras.layers.Dense(1),\n",
    "])\n",
    "model.summary()\n",
    "model.compile(loss=customized_mse, optimizer='sgd',\n",
    "              metrics=[\"mean_squared_error\"])\n",
    "callbacks = [keras.callbacks.EarlyStopping(patience=5, min_delta=1e-5)]"
   ]
  },
  {
   "cell_type": "code",
   "execution_count": 6,
   "metadata": {
    "ExecuteTime": {
     "end_time": "2020-11-30T06:29:38.487443Z",
     "start_time": "2020-11-30T06:29:33.869984Z"
    }
   },
   "outputs": [
    {
     "name": "stdout",
     "output_type": "stream",
     "text": [
      "Epoch 1/100\n",
      "363/363 [==============================] - 1s 2ms/step - loss: 1.3659 - mean_squared_error: 1.3659 - val_loss: 0.8878 - val_mean_squared_error: 0.8878\n",
      "Epoch 2/100\n",
      "363/363 [==============================] - 0s 1ms/step - loss: 201.8695 - mean_squared_error: 201.8695 - val_loss: 5.6765 - val_mean_squared_error: 5.6765\n",
      "Epoch 3/100\n",
      "363/363 [==============================] - 0s 1ms/step - loss: 1.4473 - mean_squared_error: 1.4473 - val_loss: 0.9647 - val_mean_squared_error: 0.9647\n",
      "Epoch 4/100\n",
      "363/363 [==============================] - 0s 876us/step - loss: 0.5957 - mean_squared_error: 0.5957 - val_loss: 0.6059 - val_mean_squared_error: 0.6059\n",
      "Epoch 5/100\n",
      "363/363 [==============================] - 0s 1ms/step - loss: 0.4861 - mean_squared_error: 0.4861 - val_loss: 0.5235 - val_mean_squared_error: 0.5235\n",
      "Epoch 6/100\n",
      "363/363 [==============================] - 0s 930us/step - loss: 0.4493 - mean_squared_error: 0.4493 - val_loss: 0.4736 - val_mean_squared_error: 0.4736\n",
      "Epoch 7/100\n",
      "363/363 [==============================] - 0s 990us/step - loss: 0.4338 - mean_squared_error: 0.4338 - val_loss: 0.4578 - val_mean_squared_error: 0.4578\n",
      "Epoch 8/100\n",
      "363/363 [==============================] - 0s 1ms/step - loss: 0.4202 - mean_squared_error: 0.4202 - val_loss: 0.4478 - val_mean_squared_error: 0.4478\n",
      "Epoch 9/100\n",
      "363/363 [==============================] - 0s 915us/step - loss: 0.4160 - mean_squared_error: 0.4160 - val_loss: 0.4998 - val_mean_squared_error: 0.4998\n",
      "Epoch 10/100\n",
      "363/363 [==============================] - 0s 1ms/step - loss: 0.4123 - mean_squared_error: 0.4123 - val_loss: 0.4288 - val_mean_squared_error: 0.4288\n",
      "Epoch 11/100\n",
      "363/363 [==============================] - 0s 793us/step - loss: 0.4009 - mean_squared_error: 0.4009 - val_loss: 0.4193 - val_mean_squared_error: 0.4193\n",
      "Epoch 12/100\n",
      "363/363 [==============================] - 0s 850us/step - loss: 0.3925 - mean_squared_error: 0.3925 - val_loss: 0.4067 - val_mean_squared_error: 0.4067\n",
      "Epoch 13/100\n",
      "363/363 [==============================] - 1s 2ms/step - loss: 0.3866 - mean_squared_error: 0.3866 - val_loss: 0.4010 - val_mean_squared_error: 0.4010\n",
      "Epoch 14/100\n",
      "363/363 [==============================] - 0s 1ms/step - loss: 0.3809 - mean_squared_error: 0.3809 - val_loss: 0.3991 - val_mean_squared_error: 0.3991\n",
      "Epoch 15/100\n",
      "363/363 [==============================] - 1s 2ms/step - loss: 0.3773 - mean_squared_error: 0.3773 - val_loss: 0.3912 - val_mean_squared_error: 0.3912\n",
      "Epoch 16/100\n",
      "363/363 [==============================] - 1s 2ms/step - loss: 0.3756 - mean_squared_error: 0.3756 - val_loss: 0.3914 - val_mean_squared_error: 0.3914\n",
      "Epoch 17/100\n",
      "363/363 [==============================] - 0s 1ms/step - loss: 0.3680 - mean_squared_error: 0.3680 - val_loss: 0.3895 - val_mean_squared_error: 0.3895\n",
      "Epoch 18/100\n",
      "363/363 [==============================] - 0s 952us/step - loss: 0.3651 - mean_squared_error: 0.3651 - val_loss: 0.3944 - val_mean_squared_error: 0.3944\n",
      "Epoch 19/100\n",
      "363/363 [==============================] - 0s 890us/step - loss: 0.3665 - mean_squared_error: 0.3665 - val_loss: 0.3754 - val_mean_squared_error: 0.3754\n",
      "Epoch 20/100\n",
      "363/363 [==============================] - 0s 1ms/step - loss: 0.3604 - mean_squared_error: 0.3604 - val_loss: 0.3761 - val_mean_squared_error: 0.3761\n",
      "Epoch 21/100\n",
      "363/363 [==============================] - 0s 835us/step - loss: 0.3578 - mean_squared_error: 0.3578 - val_loss: 0.3685 - val_mean_squared_error: 0.3685\n",
      "Epoch 22/100\n",
      "363/363 [==============================] - 0s 1ms/step - loss: 0.3542 - mean_squared_error: 0.3542 - val_loss: 0.3751 - val_mean_squared_error: 0.3751\n",
      "Epoch 23/100\n",
      "363/363 [==============================] - 0s 1ms/step - loss: 0.3539 - mean_squared_error: 0.3539 - val_loss: 0.3717 - val_mean_squared_error: 0.3717\n",
      "Epoch 24/100\n",
      "363/363 [==============================] - 0s 1ms/step - loss: 0.3514 - mean_squared_error: 0.3514 - val_loss: 0.3664 - val_mean_squared_error: 0.3664\n",
      "Epoch 25/100\n",
      "363/363 [==============================] - 0s 904us/step - loss: 0.3501 - mean_squared_error: 0.3501 - val_loss: 0.3592 - val_mean_squared_error: 0.3592\n",
      "Epoch 26/100\n",
      "363/363 [==============================] - 0s 1ms/step - loss: 0.3487 - mean_squared_error: 0.3487 - val_loss: 0.3604 - val_mean_squared_error: 0.3604\n",
      "Epoch 27/100\n",
      "363/363 [==============================] - 0s 913us/step - loss: 0.3467 - mean_squared_error: 0.3467 - val_loss: 0.3576 - val_mean_squared_error: 0.3576\n",
      "Epoch 28/100\n",
      "363/363 [==============================] - 0s 865us/step - loss: 0.3470 - mean_squared_error: 0.3470 - val_loss: 0.3591 - val_mean_squared_error: 0.3591\n",
      "Epoch 29/100\n",
      "363/363 [==============================] - 1s 1ms/step - loss: 0.3450 - mean_squared_error: 0.3450 - val_loss: 0.3544 - val_mean_squared_error: 0.3544\n",
      "Epoch 30/100\n",
      "363/363 [==============================] - 1s 2ms/step - loss: 0.3438 - mean_squared_error: 0.3438 - val_loss: 0.3656 - val_mean_squared_error: 0.3656\n",
      "Epoch 31/100\n",
      "363/363 [==============================] - 0s 1ms/step - loss: 0.3436 - mean_squared_error: 0.3436 - val_loss: 0.3501 - val_mean_squared_error: 0.3501\n",
      "Epoch 32/100\n",
      "363/363 [==============================] - 0s 1ms/step - loss: 0.3424 - mean_squared_error: 0.3424 - val_loss: 0.3623 - val_mean_squared_error: 0.3623\n",
      "Epoch 33/100\n",
      "363/363 [==============================] - 0s 1ms/step - loss: 0.3439 - mean_squared_error: 0.3439 - val_loss: 0.3517 - val_mean_squared_error: 0.3517\n",
      "Epoch 34/100\n",
      "363/363 [==============================] - 0s 1ms/step - loss: 0.3398 - mean_squared_error: 0.3398 - val_loss: 0.3538 - val_mean_squared_error: 0.3538\n",
      "Epoch 35/100\n",
      "363/363 [==============================] - 0s 1ms/step - loss: 0.3393 - mean_squared_error: 0.3393 - val_loss: 0.3538 - val_mean_squared_error: 0.3538\n",
      "Epoch 36/100\n",
      "363/363 [==============================] - 0s 1ms/step - loss: 0.3402 - mean_squared_error: 0.3402 - val_loss: 0.3518 - val_mean_squared_error: 0.3518\n"
     ]
    }
   ],
   "source": [
    "history = model.fit(xtrain_scaled, ytrain, \n",
    "                    validation_data=(xvalid_scaled, yvalid),\n",
    "                    epochs=100, callbacks=callbacks)"
   ]
  },
  {
   "cell_type": "code",
   "execution_count": 7,
   "metadata": {
    "ExecuteTime": {
     "end_time": "2020-11-30T06:28:36.123841Z",
     "start_time": "2020-11-30T06:28:35.929198Z"
    }
   },
   "outputs": [
    {
     "data": {
      "image/png": "[encoded data removed]",
      "text/plain": [
       "<Figure size 576x360 with 1 Axes>"
      ]
     },
     "metadata": {
      "needs_background": "light"
     },
     "output_type": "display_data"
    }
   ],
   "source": [
    "def plot_learning_curves(history):\n",
    "    pd.DataFrame(history.history).plot(figsize=(8, 5))\n",
    "    plt.grid(True)\n",
    "    plt.gca().set_ylim(0, 1)\n",
    "    plt.show()\n",
    "    \n",
    "plot_learning_curves(history)"
   ]
  },
  {
   "cell_type": "code",
   "execution_count": 8,
   "metadata": {
    "ExecuteTime": {
     "end_time": "2020-11-30T06:30:46.174159Z",
     "start_time": "2020-11-30T06:30:46.017153Z"
    }
   },
   "outputs": [
    {
     "data": {
      "text/plain": [
       "[0.3618049621582031, 0.3618049621582031]"
      ]
     },
     "execution_count": 8,
     "metadata": {},
     "output_type": "execute_result"
    }
   ],
   "source": [
    "model.evaluate(xtest_scaled, ytest, verbose=0)"
   ]
  },
  {
   "cell_type": "code",
   "execution_count": null,
   "metadata": {},
   "outputs": [],
   "source": []
  }
 ],
 "metadata": {
  "kernelspec": {
   "display_name": "tf2_py3",
   "language": "python",
   "name": "tf2_py3"
  },
  "language_info": {
   "codemirror_mode": {
    "name": "ipython",
    "version": 3
   },
   "file_extension": ".py",
   "mimetype": "text/x-python",
   "name": "python",
   "nbconvert_exporter": "python",
   "pygments_lexer": "ipython3",
   "version": "3.6.7"
  },
  "toc": {
   "base_numbering": 1,
   "nav_menu": {},
   "number_sections": true,
   "sideBar": true,
   "skip_h1_title": false,
   "title_cell": "Table of Contents",
   "title_sidebar": "Contents",
   "toc_cell": false,
   "toc_position": {},
   "toc_section_display": true,
   "toc_window_display": false
  }
 },
 "nbformat": 4,
 "nbformat_minor": 4
}
